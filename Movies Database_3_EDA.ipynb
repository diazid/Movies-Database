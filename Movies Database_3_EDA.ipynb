{
 "cells": [
  {
   "cell_type": "markdown",
   "source": [
    "# Movies: Explortory Data Analysis\n",
    "\n",
    "by Israel Diaz\n",
    "\n",
    "<h3>03/14/2023: </h3>\n",
    "Added more data to the analysis, years from 2000 to 2022\n"
   ],
   "metadata": {
    "collapsed": false
   }
  },
  {
   "cell_type": "markdown",
   "source": [
    "## Data Description"
   ],
   "metadata": {
    "collapsed": false
   }
  },
  {
   "cell_type": "markdown",
   "source": [
    "The data correspond to the one downloaded from [IMDB source](https://datasets.imdbws.com/).\n",
    "\n",
    "**IMDb Dataset Details**\n",
    "\n",
    "Each dataset is contained in a gzipped, tab-separated-values (TSV) formatted file in the UTF-8 character set. The first line in each file contains headers that describe what is in each column. A ‘\\N’ is used to denote that a particular field is missing or null for that title/name. The available datasets are as follows:\n",
    "\n",
    "**title.akas.tsv.gz** - Contains the following information for titles:\n",
    "\n",
    "* titleId (string) - a tconst, an alphanumeric unique identifier of the title\n",
    "* ordering (integer) – a number to uniquely identify rows for a given titleId\n",
    "* title (string) – the localized title\n",
    "* region (string) - the region for this version of the title\n",
    "* language (string) - the language of the title\n",
    "* types (array) - Enumerated set of attributes for this alternative title. One or more of the following: \"alternative\", \"dvd\", \"festival\", \"tv\", \"video\", \"working\", \"original\", \"imdbDisplay\". New values may be added in the future without warning\n",
    "* attributes (array) - Additional terms to describe this alternative title, not enumerated\n",
    "* isOriginalTitle (boolean) – 0: not original title; 1: original title\n",
    "\n",
    "**title.basics.tsv.gz** - Contains the following information for titles:\n",
    "\n",
    "* tconst (string) - alphanumeric unique identifier of the title\n",
    "* titleType (string) – the type/format of the title (e.g. movie, short, tvseries, tvepisode, video, etc)\n",
    "* primaryTitle (string) – the more popular title / the title used by the filmmakers on promotional materials at the point of release\n",
    "* originalTitle (string) - original title, in the original language\n",
    "* isAdult (boolean) - 0: non-adult title; 1: adult title\n",
    "* startYear (YYYY) – represents the release year of a title. In the case of TV Series, it is the series start year\n",
    "* endYear (YYYY) – TV Series end year. ‘\\N’ for all other title types\n",
    "* runtimeMinutes – primary runtime of the title, in minutes\n",
    "* genres (string array) – includes up to three genres associated with the title\n",
    "\n",
    "**title.ratings.tsv.gz** – Contains the IMDb rating and votes information for titles\n",
    "\n",
    "* tconst (string) - alphanumeric unique identifier of the title\n",
    "* averageRating – weighted average of all the individual user ratings\n",
    "* numVotes - number of votes the title has received"
   ],
   "metadata": {
    "collapsed": false
   }
  },
  {
   "cell_type": "markdown",
   "source": [
    "## Loading Data"
   ],
   "metadata": {
    "collapsed": false
   }
  },
  {
   "cell_type": "markdown",
   "source": [
    "### Import Libraries"
   ],
   "metadata": {
    "collapsed": false
   }
  },
  {
   "cell_type": "code",
   "execution_count": 1,
   "metadata": {
    "collapsed": true
   },
   "outputs": [],
   "source": [
    "## General\n",
    "import pandas as pd\n",
    "import numpy as np\n",
    "import matplotlib.pyplot as plt\n",
    "import seaborn as sns\n",
    "import os, glob, json\n",
    "import warnings\n",
    "warnings.simplefilter('ignore')\n",
    "\n",
    "\n",
    "## suppress scientific notation\n",
    "pd.options.display.float_format = '{:20,.2f}'.format\n",
    "\n",
    "plt.style.use('ggplot')"
   ]
  },
  {
   "cell_type": "markdown",
   "source": [
    "### Load Data"
   ],
   "metadata": {
    "collapsed": false
   }
  },
  {
   "cell_type": "markdown",
   "source": [
    "I will load the data previously downloaded from tmdb using their api. I have retrieved years 2000 to 2022."
   ],
   "metadata": {
    "collapsed": false
   }
  },
  {
   "cell_type": "code",
   "execution_count": 2,
   "outputs": [
    {
     "name": "stdout",
     "output_type": "stream",
     "text": [
      "data/full_data//**/*.json\n"
     ]
    },
    {
     "data": {
      "text/plain": "['data/full_data\\\\tmdb_api_results_2000.json',\n 'data/full_data\\\\tmdb_api_results_2001.json',\n 'data/full_data\\\\tmdb_api_results_2002.json',\n 'data/full_data\\\\tmdb_api_results_2003.json',\n 'data/full_data\\\\tmdb_api_results_2004.json',\n 'data/full_data\\\\tmdb_api_results_2005.json',\n 'data/full_data\\\\tmdb_api_results_2006.json',\n 'data/full_data\\\\tmdb_api_results_2007.json',\n 'data/full_data\\\\tmdb_api_results_2008.json',\n 'data/full_data\\\\tmdb_api_results_2009.json',\n 'data/full_data\\\\tmdb_api_results_2010.json',\n 'data/full_data\\\\tmdb_api_results_2011.json',\n 'data/full_data\\\\tmdb_api_results_2012.json',\n 'data/full_data\\\\tmdb_api_results_2013.json',\n 'data/full_data\\\\tmdb_api_results_2014.json',\n 'data/full_data\\\\tmdb_api_results_2015.json',\n 'data/full_data\\\\tmdb_api_results_2016.json',\n 'data/full_data\\\\tmdb_api_results_2017.json',\n 'data/full_data\\\\tmdb_api_results_2018.json',\n 'data/full_data\\\\tmdb_api_results_2019.json',\n 'data/full_data\\\\tmdb_api_results_2020.json',\n 'data/full_data\\\\tmdb_api_results_2021.json',\n 'data/full_data\\\\tmdb_api_results_2022.json']"
     },
     "execution_count": 2,
     "metadata": {},
     "output_type": "execute_result"
    }
   ],
   "source": [
    "## Using glob to open the json files\n",
    "FOLDER = 'data/full_data/'\n",
    "q = FOLDER + \"/**/*.json\"\n",
    "print(q)\n",
    "\n",
    "file_list = sorted(glob.glob(q, recursive=True))\n",
    "file_list"
   ],
   "metadata": {
    "collapsed": false
   }
  },
  {
   "cell_type": "markdown",
   "source": [
    "Loading json files into pandas dataframe"
   ],
   "metadata": {
    "collapsed": false
   }
  },
  {
   "cell_type": "code",
   "execution_count": 3,
   "outputs": [
    {
     "data": {
      "text/plain": "        imdb_id                adult                     backdrop_path  \\\n0             0                  NaN                               NaN   \n1     tt0113026                 0.00  /vMFs7nw6P0bIV1jDsQpxAieAVnH.jpg   \n2     tt0113092                 0.00                              None   \n3     tt0116391                 0.00                              None   \n4     tt0118694                 0.00  /n4GJFGzsc7NinI1VeGDXIcQjtU2.jpg   \n...         ...                  ...                               ...   \n3352  tt9883664                 0.00                              None   \n3353  tt9893130                 0.00                              None   \n3354  tt9893158                 0.00                              None   \n3355  tt9893160                 0.00  /jX5XGqJUTzvpta2RjcX6pMZqxk5.jpg   \n3356  tt9904648                 0.00  /ibWj2ARVrAabIWDq5vSXoJRZfVV.jpg   \n\n     belongs_to_collection               budget  \\\n0                      NaN                  NaN   \n1                     None        10,000,000.00   \n2                     None                 0.00   \n3                     None                 0.00   \n4                     None           150,000.00   \n...                    ...                  ...   \n3352                  None                 0.00   \n3353                  None                 0.00   \n3354                  None                 0.00   \n3355                  None                 0.00   \n3356                  None                 0.00   \n\n                                                 genres  \\\n0                                                   NaN   \n1     [{'id': 35, 'name': 'Comedy'}, {'id': 10402, '...   \n2              [{'id': 878, 'name': 'Science Fiction'}]   \n3     [{'id': 18, 'name': 'Drama'}, {'id': 28, 'name...   \n4     [{'id': 18, 'name': 'Drama'}, {'id': 10749, 'n...   \n...                                                 ...   \n3352                                                 []   \n3353  [{'id': 27, 'name': 'Horror'}, {'id': 28, 'nam...   \n3354  [{'id': 80, 'name': 'Crime'}, {'id': 10749, 'n...   \n3355  [{'id': 53, 'name': 'Thriller'}, {'id': 80, 'n...   \n3356  [{'id': 35, 'name': 'Comedy'}, {'id': 10749, '...   \n\n                        homepage                   id original_language  \\\n0                            NaN                  NaN               NaN   \n1                                           62,127.00                en   \n2                                          110,977.00                en   \n3                                          442,869.00                hi   \n4                                              843.00                cn   \n...                          ...                  ...               ...   \n3352                                     1,031,225.00                en   \n3353                                       972,731.00                en   \n3354                                       796,955.00                en   \n3355                                       606,303.00                en   \n3356  https://contrastmovie.com/           933,557.00                en   \n\n                 original_title  ...              revenue  \\\n0                           NaN  ...                  NaN   \n1               The Fantasticks  ...                 0.00   \n2                 For the Cause  ...                 0.00   \n3                          Gang  ...                 0.00   \n4                          花樣年華  ...        12,854,953.00   \n...                         ...  ...                  ...   \n3352            Equally Friends  ...                 0.00   \n3353  2025: Blood, White & Blue  ...                 0.00   \n3354                   Clowning  ...                 0.00   \n3355                 No Way Out  ...                 0.00   \n3356               The Contrast  ...                 0.00   \n\n                  runtime                                   spoken_languages  \\\n0                     NaN                                                NaN   \n1                   86.00  [{'english_name': 'English', 'iso_639_1': 'en'...   \n2                  100.00  [{'english_name': 'English', 'iso_639_1': 'en'...   \n3                  152.00  [{'english_name': 'Hindi', 'iso_639_1': 'hi', ...   \n4                   99.00  [{'english_name': 'Cantonese', 'iso_639_1': 'c...   \n...                   ...                                                ...   \n3352                47.00  [{'english_name': 'English', 'iso_639_1': 'en'...   \n3353               135.00  [{'english_name': 'English', 'iso_639_1': 'en'...   \n3354                96.00  [{'english_name': 'English', 'iso_639_1': 'en'...   \n3355                89.00  [{'english_name': 'English', 'iso_639_1': 'en'...   \n3356                82.00  [{'english_name': 'English', 'iso_639_1': 'en'...   \n\n        status                                            tagline  \\\n0          NaN                                                NaN   \n1     Released      Try to remember the first time magic happened   \n2     Released       The ultimate showdown on a forbidden planet.   \n3     Released                                                      \n4     Released  Feel the heat, keep the feeling burning, let t...   \n...        ...                                                ...   \n3352  Released                                                      \n3353  Released                                 THE PURGE meets US   \n3354  Released  Warm nights... Feels like death in the sand du...   \n3355  Released            Find what you love and let it kill you.   \n3356  Released                  Everybody loves... somebody else.   \n\n                          title                video         vote_average  \\\n0                           NaN                  NaN                  NaN   \n1               The Fantasticks                 0.00                 5.50   \n2                 For the Cause                 0.00                 5.10   \n3                          Gang                 0.00                 4.00   \n4          In the Mood for Love                 0.00                 8.11   \n...                         ...                  ...                  ...   \n3352            Equally Friends                 0.00                 0.00   \n3353  2025: Blood, White & Blue                 0.00                 4.00   \n3354                   Clowning                 0.00                 8.00   \n3355                 No Way Out                 0.00                 4.90   \n3356               The Contrast                 0.00                 3.00   \n\n               vote_count certification  \n0                     NaN           NaN  \n1                   22.00                \n2                    8.00                \n3                    1.00           NaN  \n4                2,136.00            PG  \n...                   ...           ...  \n3352                 0.00                \n3353                 1.00                \n3354                 1.00                \n3355                 9.00                \n3356                 1.00                \n\n[65460 rows x 26 columns]",
      "text/html": "<div>\n<style scoped>\n    .dataframe tbody tr th:only-of-type {\n        vertical-align: middle;\n    }\n\n    .dataframe tbody tr th {\n        vertical-align: top;\n    }\n\n    .dataframe thead th {\n        text-align: right;\n    }\n</style>\n<table border=\"1\" class=\"dataframe\">\n  <thead>\n    <tr style=\"text-align: right;\">\n      <th></th>\n      <th>imdb_id</th>\n      <th>adult</th>\n      <th>backdrop_path</th>\n      <th>belongs_to_collection</th>\n      <th>budget</th>\n      <th>genres</th>\n      <th>homepage</th>\n      <th>id</th>\n      <th>original_language</th>\n      <th>original_title</th>\n      <th>...</th>\n      <th>revenue</th>\n      <th>runtime</th>\n      <th>spoken_languages</th>\n      <th>status</th>\n      <th>tagline</th>\n      <th>title</th>\n      <th>video</th>\n      <th>vote_average</th>\n      <th>vote_count</th>\n      <th>certification</th>\n    </tr>\n  </thead>\n  <tbody>\n    <tr>\n      <th>0</th>\n      <td>0</td>\n      <td>NaN</td>\n      <td>NaN</td>\n      <td>NaN</td>\n      <td>NaN</td>\n      <td>NaN</td>\n      <td>NaN</td>\n      <td>NaN</td>\n      <td>NaN</td>\n      <td>NaN</td>\n      <td>...</td>\n      <td>NaN</td>\n      <td>NaN</td>\n      <td>NaN</td>\n      <td>NaN</td>\n      <td>NaN</td>\n      <td>NaN</td>\n      <td>NaN</td>\n      <td>NaN</td>\n      <td>NaN</td>\n      <td>NaN</td>\n    </tr>\n    <tr>\n      <th>1</th>\n      <td>tt0113026</td>\n      <td>0.00</td>\n      <td>/vMFs7nw6P0bIV1jDsQpxAieAVnH.jpg</td>\n      <td>None</td>\n      <td>10,000,000.00</td>\n      <td>[{'id': 35, 'name': 'Comedy'}, {'id': 10402, '...</td>\n      <td></td>\n      <td>62,127.00</td>\n      <td>en</td>\n      <td>The Fantasticks</td>\n      <td>...</td>\n      <td>0.00</td>\n      <td>86.00</td>\n      <td>[{'english_name': 'English', 'iso_639_1': 'en'...</td>\n      <td>Released</td>\n      <td>Try to remember the first time magic happened</td>\n      <td>The Fantasticks</td>\n      <td>0.00</td>\n      <td>5.50</td>\n      <td>22.00</td>\n      <td></td>\n    </tr>\n    <tr>\n      <th>2</th>\n      <td>tt0113092</td>\n      <td>0.00</td>\n      <td>None</td>\n      <td>None</td>\n      <td>0.00</td>\n      <td>[{'id': 878, 'name': 'Science Fiction'}]</td>\n      <td></td>\n      <td>110,977.00</td>\n      <td>en</td>\n      <td>For the Cause</td>\n      <td>...</td>\n      <td>0.00</td>\n      <td>100.00</td>\n      <td>[{'english_name': 'English', 'iso_639_1': 'en'...</td>\n      <td>Released</td>\n      <td>The ultimate showdown on a forbidden planet.</td>\n      <td>For the Cause</td>\n      <td>0.00</td>\n      <td>5.10</td>\n      <td>8.00</td>\n      <td></td>\n    </tr>\n    <tr>\n      <th>3</th>\n      <td>tt0116391</td>\n      <td>0.00</td>\n      <td>None</td>\n      <td>None</td>\n      <td>0.00</td>\n      <td>[{'id': 18, 'name': 'Drama'}, {'id': 28, 'name...</td>\n      <td></td>\n      <td>442,869.00</td>\n      <td>hi</td>\n      <td>Gang</td>\n      <td>...</td>\n      <td>0.00</td>\n      <td>152.00</td>\n      <td>[{'english_name': 'Hindi', 'iso_639_1': 'hi', ...</td>\n      <td>Released</td>\n      <td></td>\n      <td>Gang</td>\n      <td>0.00</td>\n      <td>4.00</td>\n      <td>1.00</td>\n      <td>NaN</td>\n    </tr>\n    <tr>\n      <th>4</th>\n      <td>tt0118694</td>\n      <td>0.00</td>\n      <td>/n4GJFGzsc7NinI1VeGDXIcQjtU2.jpg</td>\n      <td>None</td>\n      <td>150,000.00</td>\n      <td>[{'id': 18, 'name': 'Drama'}, {'id': 10749, 'n...</td>\n      <td></td>\n      <td>843.00</td>\n      <td>cn</td>\n      <td>花樣年華</td>\n      <td>...</td>\n      <td>12,854,953.00</td>\n      <td>99.00</td>\n      <td>[{'english_name': 'Cantonese', 'iso_639_1': 'c...</td>\n      <td>Released</td>\n      <td>Feel the heat, keep the feeling burning, let t...</td>\n      <td>In the Mood for Love</td>\n      <td>0.00</td>\n      <td>8.11</td>\n      <td>2,136.00</td>\n      <td>PG</td>\n    </tr>\n    <tr>\n      <th>...</th>\n      <td>...</td>\n      <td>...</td>\n      <td>...</td>\n      <td>...</td>\n      <td>...</td>\n      <td>...</td>\n      <td>...</td>\n      <td>...</td>\n      <td>...</td>\n      <td>...</td>\n      <td>...</td>\n      <td>...</td>\n      <td>...</td>\n      <td>...</td>\n      <td>...</td>\n      <td>...</td>\n      <td>...</td>\n      <td>...</td>\n      <td>...</td>\n      <td>...</td>\n      <td>...</td>\n    </tr>\n    <tr>\n      <th>3352</th>\n      <td>tt9883664</td>\n      <td>0.00</td>\n      <td>None</td>\n      <td>None</td>\n      <td>0.00</td>\n      <td>[]</td>\n      <td></td>\n      <td>1,031,225.00</td>\n      <td>en</td>\n      <td>Equally Friends</td>\n      <td>...</td>\n      <td>0.00</td>\n      <td>47.00</td>\n      <td>[{'english_name': 'English', 'iso_639_1': 'en'...</td>\n      <td>Released</td>\n      <td></td>\n      <td>Equally Friends</td>\n      <td>0.00</td>\n      <td>0.00</td>\n      <td>0.00</td>\n      <td></td>\n    </tr>\n    <tr>\n      <th>3353</th>\n      <td>tt9893130</td>\n      <td>0.00</td>\n      <td>None</td>\n      <td>None</td>\n      <td>0.00</td>\n      <td>[{'id': 27, 'name': 'Horror'}, {'id': 28, 'nam...</td>\n      <td></td>\n      <td>972,731.00</td>\n      <td>en</td>\n      <td>2025: Blood, White &amp; Blue</td>\n      <td>...</td>\n      <td>0.00</td>\n      <td>135.00</td>\n      <td>[{'english_name': 'English', 'iso_639_1': 'en'...</td>\n      <td>Released</td>\n      <td>THE PURGE meets US</td>\n      <td>2025: Blood, White &amp; Blue</td>\n      <td>0.00</td>\n      <td>4.00</td>\n      <td>1.00</td>\n      <td></td>\n    </tr>\n    <tr>\n      <th>3354</th>\n      <td>tt9893158</td>\n      <td>0.00</td>\n      <td>None</td>\n      <td>None</td>\n      <td>0.00</td>\n      <td>[{'id': 80, 'name': 'Crime'}, {'id': 10749, 'n...</td>\n      <td></td>\n      <td>796,955.00</td>\n      <td>en</td>\n      <td>Clowning</td>\n      <td>...</td>\n      <td>0.00</td>\n      <td>96.00</td>\n      <td>[{'english_name': 'English', 'iso_639_1': 'en'...</td>\n      <td>Released</td>\n      <td>Warm nights... Feels like death in the sand du...</td>\n      <td>Clowning</td>\n      <td>0.00</td>\n      <td>8.00</td>\n      <td>1.00</td>\n      <td></td>\n    </tr>\n    <tr>\n      <th>3355</th>\n      <td>tt9893160</td>\n      <td>0.00</td>\n      <td>/jX5XGqJUTzvpta2RjcX6pMZqxk5.jpg</td>\n      <td>None</td>\n      <td>0.00</td>\n      <td>[{'id': 53, 'name': 'Thriller'}, {'id': 80, 'n...</td>\n      <td></td>\n      <td>606,303.00</td>\n      <td>en</td>\n      <td>No Way Out</td>\n      <td>...</td>\n      <td>0.00</td>\n      <td>89.00</td>\n      <td>[{'english_name': 'English', 'iso_639_1': 'en'...</td>\n      <td>Released</td>\n      <td>Find what you love and let it kill you.</td>\n      <td>No Way Out</td>\n      <td>0.00</td>\n      <td>4.90</td>\n      <td>9.00</td>\n      <td></td>\n    </tr>\n    <tr>\n      <th>3356</th>\n      <td>tt9904648</td>\n      <td>0.00</td>\n      <td>/ibWj2ARVrAabIWDq5vSXoJRZfVV.jpg</td>\n      <td>None</td>\n      <td>0.00</td>\n      <td>[{'id': 35, 'name': 'Comedy'}, {'id': 10749, '...</td>\n      <td>https://contrastmovie.com/</td>\n      <td>933,557.00</td>\n      <td>en</td>\n      <td>The Contrast</td>\n      <td>...</td>\n      <td>0.00</td>\n      <td>82.00</td>\n      <td>[{'english_name': 'English', 'iso_639_1': 'en'...</td>\n      <td>Released</td>\n      <td>Everybody loves... somebody else.</td>\n      <td>The Contrast</td>\n      <td>0.00</td>\n      <td>3.00</td>\n      <td>1.00</td>\n      <td></td>\n    </tr>\n  </tbody>\n</table>\n<p>65460 rows × 26 columns</p>\n</div>"
     },
     "execution_count": 3,
     "metadata": {},
     "output_type": "execute_result"
    }
   ],
   "source": [
    "data = pd.concat([pd.read_json(f) for f in file_list])\n",
    "data"
   ],
   "metadata": {
    "collapsed": false
   }
  },
  {
   "cell_type": "code",
   "execution_count": 4,
   "outputs": [],
   "source": [
    "# remove ids that are 0\n",
    "data = data[data['imdb_id'] != 0]"
   ],
   "metadata": {
    "collapsed": false
   }
  },
  {
   "cell_type": "code",
   "execution_count": 5,
   "outputs": [
    {
     "name": "stdout",
     "output_type": "stream",
     "text": [
      "Number of instances: 65437\n"
     ]
    }
   ],
   "source": [
    "print(f'Number of instances: {len(data)}')"
   ],
   "metadata": {
    "collapsed": false
   }
  },
  {
   "cell_type": "markdown",
   "source": [
    "### Export Data"
   ],
   "metadata": {
    "collapsed": false
   }
  },
  {
   "cell_type": "code",
   "execution_count": 6,
   "outputs": [],
   "source": [
    "data.to_csv(f'{FOLDER}tmdb_results_combined.csv.gz', compression='gzip', index=False)"
   ],
   "metadata": {
    "collapsed": false
   }
  },
  {
   "cell_type": "markdown",
   "source": [
    "## Exploratory Data Analysis"
   ],
   "metadata": {
    "collapsed": false
   }
  },
  {
   "cell_type": "markdown",
   "source": [
    "### Preprocessing"
   ],
   "metadata": {
    "collapsed": false
   }
  },
  {
   "cell_type": "markdown",
   "source": [
    "Before going forward with the visualization, I will need to do some preprocessing on the data"
   ],
   "metadata": {
    "collapsed": false
   }
  },
  {
   "cell_type": "code",
   "execution_count": 7,
   "outputs": [
    {
     "data": {
      "text/plain": "        imdb_id                adult belongs_to_collection  \\\n1     tt0113026                 0.00                  None   \n2     tt0113092                 0.00                  None   \n3     tt0116391                 0.00                  None   \n4     tt0118694                 0.00                  None   \n5     tt0118852                 0.00                  None   \n...         ...                  ...                   ...   \n3352  tt9883664                 0.00                  None   \n3353  tt9893130                 0.00                  None   \n3354  tt9893158                 0.00                  None   \n3355  tt9893160                 0.00                  None   \n3356  tt9904648                 0.00                  None   \n\n                   budget                                             genres  \\\n1           10,000,000.00  [{'id': 35, 'name': 'Comedy'}, {'id': 10402, '...   \n2                    0.00           [{'id': 878, 'name': 'Science Fiction'}]   \n3                    0.00  [{'id': 18, 'name': 'Drama'}, {'id': 28, 'name...   \n4              150,000.00  [{'id': 18, 'name': 'Drama'}, {'id': 10749, 'n...   \n5                    0.00                      [{'id': 18, 'name': 'Drama'}]   \n...                   ...                                                ...   \n3352                 0.00                                                 []   \n3353                 0.00  [{'id': 27, 'name': 'Horror'}, {'id': 28, 'nam...   \n3354                 0.00  [{'id': 80, 'name': 'Crime'}, {'id': 10749, 'n...   \n3355                 0.00  [{'id': 53, 'name': 'Thriller'}, {'id': 80, 'n...   \n3356                 0.00  [{'id': 35, 'name': 'Comedy'}, {'id': 10749, '...   \n\n               popularity release_date              revenue  \\\n1                    3.34   2000-09-22                 0.00   \n2                    2.02   2000-11-15                 0.00   \n3                    0.60   2000-04-14                 0.00   \n4                   28.73   2000-09-29        12,854,953.00   \n5                    4.52   2000-09-02                 0.00   \n...                   ...          ...                  ...   \n3352                 0.84   2022-01-10                 0.00   \n3353                 4.87   2022-07-01                 0.00   \n3354                 3.36   2022-03-13                 0.00   \n3355                 7.27   2022-08-12                 0.00   \n3356                 1.84   2022-01-18                 0.00   \n\n                  runtime                      title         vote_average  \\\n1                   86.00            The Fantasticks                 5.50   \n2                  100.00              For the Cause                 5.10   \n3                  152.00                       Gang                 4.00   \n4                   99.00       In the Mood for Love                 8.11   \n5                   99.00             Chinese Coffee                 6.80   \n...                   ...                        ...                  ...   \n3352                47.00            Equally Friends                 0.00   \n3353               135.00  2025: Blood, White & Blue                 4.00   \n3354                96.00                   Clowning                 8.00   \n3355                89.00                 No Way Out                 4.90   \n3356                82.00               The Contrast                 3.00   \n\n               vote_count certification  \n1                   22.00                \n2                    8.00                \n3                    1.00           NaN  \n4                2,136.00            PG  \n5                   49.00             R  \n...                   ...           ...  \n3352                 0.00                \n3353                 1.00                \n3354                 1.00                \n3355                 9.00                \n3356                 1.00                \n\n[65437 rows x 13 columns]",
      "text/html": "<div>\n<style scoped>\n    .dataframe tbody tr th:only-of-type {\n        vertical-align: middle;\n    }\n\n    .dataframe tbody tr th {\n        vertical-align: top;\n    }\n\n    .dataframe thead th {\n        text-align: right;\n    }\n</style>\n<table border=\"1\" class=\"dataframe\">\n  <thead>\n    <tr style=\"text-align: right;\">\n      <th></th>\n      <th>imdb_id</th>\n      <th>adult</th>\n      <th>belongs_to_collection</th>\n      <th>budget</th>\n      <th>genres</th>\n      <th>popularity</th>\n      <th>release_date</th>\n      <th>revenue</th>\n      <th>runtime</th>\n      <th>title</th>\n      <th>vote_average</th>\n      <th>vote_count</th>\n      <th>certification</th>\n    </tr>\n  </thead>\n  <tbody>\n    <tr>\n      <th>1</th>\n      <td>tt0113026</td>\n      <td>0.00</td>\n      <td>None</td>\n      <td>10,000,000.00</td>\n      <td>[{'id': 35, 'name': 'Comedy'}, {'id': 10402, '...</td>\n      <td>3.34</td>\n      <td>2000-09-22</td>\n      <td>0.00</td>\n      <td>86.00</td>\n      <td>The Fantasticks</td>\n      <td>5.50</td>\n      <td>22.00</td>\n      <td></td>\n    </tr>\n    <tr>\n      <th>2</th>\n      <td>tt0113092</td>\n      <td>0.00</td>\n      <td>None</td>\n      <td>0.00</td>\n      <td>[{'id': 878, 'name': 'Science Fiction'}]</td>\n      <td>2.02</td>\n      <td>2000-11-15</td>\n      <td>0.00</td>\n      <td>100.00</td>\n      <td>For the Cause</td>\n      <td>5.10</td>\n      <td>8.00</td>\n      <td></td>\n    </tr>\n    <tr>\n      <th>3</th>\n      <td>tt0116391</td>\n      <td>0.00</td>\n      <td>None</td>\n      <td>0.00</td>\n      <td>[{'id': 18, 'name': 'Drama'}, {'id': 28, 'name...</td>\n      <td>0.60</td>\n      <td>2000-04-14</td>\n      <td>0.00</td>\n      <td>152.00</td>\n      <td>Gang</td>\n      <td>4.00</td>\n      <td>1.00</td>\n      <td>NaN</td>\n    </tr>\n    <tr>\n      <th>4</th>\n      <td>tt0118694</td>\n      <td>0.00</td>\n      <td>None</td>\n      <td>150,000.00</td>\n      <td>[{'id': 18, 'name': 'Drama'}, {'id': 10749, 'n...</td>\n      <td>28.73</td>\n      <td>2000-09-29</td>\n      <td>12,854,953.00</td>\n      <td>99.00</td>\n      <td>In the Mood for Love</td>\n      <td>8.11</td>\n      <td>2,136.00</td>\n      <td>PG</td>\n    </tr>\n    <tr>\n      <th>5</th>\n      <td>tt0118852</td>\n      <td>0.00</td>\n      <td>None</td>\n      <td>0.00</td>\n      <td>[{'id': 18, 'name': 'Drama'}]</td>\n      <td>4.52</td>\n      <td>2000-09-02</td>\n      <td>0.00</td>\n      <td>99.00</td>\n      <td>Chinese Coffee</td>\n      <td>6.80</td>\n      <td>49.00</td>\n      <td>R</td>\n    </tr>\n    <tr>\n      <th>...</th>\n      <td>...</td>\n      <td>...</td>\n      <td>...</td>\n      <td>...</td>\n      <td>...</td>\n      <td>...</td>\n      <td>...</td>\n      <td>...</td>\n      <td>...</td>\n      <td>...</td>\n      <td>...</td>\n      <td>...</td>\n      <td>...</td>\n    </tr>\n    <tr>\n      <th>3352</th>\n      <td>tt9883664</td>\n      <td>0.00</td>\n      <td>None</td>\n      <td>0.00</td>\n      <td>[]</td>\n      <td>0.84</td>\n      <td>2022-01-10</td>\n      <td>0.00</td>\n      <td>47.00</td>\n      <td>Equally Friends</td>\n      <td>0.00</td>\n      <td>0.00</td>\n      <td></td>\n    </tr>\n    <tr>\n      <th>3353</th>\n      <td>tt9893130</td>\n      <td>0.00</td>\n      <td>None</td>\n      <td>0.00</td>\n      <td>[{'id': 27, 'name': 'Horror'}, {'id': 28, 'nam...</td>\n      <td>4.87</td>\n      <td>2022-07-01</td>\n      <td>0.00</td>\n      <td>135.00</td>\n      <td>2025: Blood, White &amp; Blue</td>\n      <td>4.00</td>\n      <td>1.00</td>\n      <td></td>\n    </tr>\n    <tr>\n      <th>3354</th>\n      <td>tt9893158</td>\n      <td>0.00</td>\n      <td>None</td>\n      <td>0.00</td>\n      <td>[{'id': 80, 'name': 'Crime'}, {'id': 10749, 'n...</td>\n      <td>3.36</td>\n      <td>2022-03-13</td>\n      <td>0.00</td>\n      <td>96.00</td>\n      <td>Clowning</td>\n      <td>8.00</td>\n      <td>1.00</td>\n      <td></td>\n    </tr>\n    <tr>\n      <th>3355</th>\n      <td>tt9893160</td>\n      <td>0.00</td>\n      <td>None</td>\n      <td>0.00</td>\n      <td>[{'id': 53, 'name': 'Thriller'}, {'id': 80, 'n...</td>\n      <td>7.27</td>\n      <td>2022-08-12</td>\n      <td>0.00</td>\n      <td>89.00</td>\n      <td>No Way Out</td>\n      <td>4.90</td>\n      <td>9.00</td>\n      <td></td>\n    </tr>\n    <tr>\n      <th>3356</th>\n      <td>tt9904648</td>\n      <td>0.00</td>\n      <td>None</td>\n      <td>0.00</td>\n      <td>[{'id': 35, 'name': 'Comedy'}, {'id': 10749, '...</td>\n      <td>1.84</td>\n      <td>2022-01-18</td>\n      <td>0.00</td>\n      <td>82.00</td>\n      <td>The Contrast</td>\n      <td>3.00</td>\n      <td>1.00</td>\n      <td></td>\n    </tr>\n  </tbody>\n</table>\n<p>65437 rows × 13 columns</p>\n</div>"
     },
     "execution_count": 7,
     "metadata": {},
     "output_type": "execute_result"
    }
   ],
   "source": [
    "## Columns to exclude\n",
    "drop_cols = ['backdrop_path','backdrop_path','original_title','overview',\n",
    "             'poster_path','status','tagline','id','homepage',\n",
    "             'production_countries','video','production_companies','spoken_languages',\n",
    "             'original_language']\n",
    "data = data.drop(columns=drop_cols)\n",
    "data"
   ],
   "metadata": {
    "collapsed": false
   }
  },
  {
   "cell_type": "code",
   "execution_count": 8,
   "outputs": [
    {
     "data": {
      "text/plain": "array(['', nan, 'PG', 'R', 'G', 'NR', 'PG-13', 'NC-17', 'Unrated', '-',\n       'UR', 'Not Rated', 'ScreamFest Horror Film Festival', 'PG-13 ',\n       '10'], dtype=object)"
     },
     "execution_count": 8,
     "metadata": {},
     "output_type": "execute_result"
    }
   ],
   "source": [
    "## checking certificaciont unique values\n",
    "data['certification'].unique()"
   ],
   "metadata": {
    "collapsed": false
   }
  },
  {
   "cell_type": "markdown",
   "source": [
    "I will need to homogenize all these values."
   ],
   "metadata": {
    "collapsed": false
   }
  },
  {
   "cell_type": "code",
   "execution_count": 9,
   "outputs": [
    {
     "data": {
      "text/plain": "NaN      26461\n         23180\nR         6517\nNR        3665\nPG-13     3422\nPG        1542\nG          477\nNC-17      173\nName: certification, dtype: int64"
     },
     "execution_count": 9,
     "metadata": {},
     "output_type": "execute_result"
    }
   ],
   "source": [
    "# fix empty space\n",
    "data['certification'] = data['certification'].str.strip()\n",
    "\n",
    "## fix certification\n",
    "repl_cert = {'UR':'NR',\n",
    "             'Not Rated':'NR',\n",
    "             'Unrated':'NR',\n",
    "             '-':'NR',\n",
    "             '10':np.nan,\n",
    "             'ScreamFest Horror Film Festival':'NR'}\n",
    "data['certification'] = data['certification'].replace(repl_cert)\n",
    "data['certification'].value_counts(dropna=False)\n"
   ],
   "metadata": {
    "collapsed": false
   }
  },
  {
   "cell_type": "markdown",
   "source": [
    "### Return movies with budget or revenue greater than 0"
   ],
   "metadata": {
    "collapsed": false
   }
  },
  {
   "cell_type": "code",
   "execution_count": 10,
   "outputs": [
    {
     "name": "stdout",
     "output_type": "stream",
     "text": [
      "Number of Instances: 14651\n"
     ]
    }
   ],
   "source": [
    "filter = (data['budget'] > 0) | (data['revenue'] > 0)\n",
    "\n",
    "print(f'Number of Instances: {len(data[filter])}')"
   ],
   "metadata": {
    "collapsed": false
   }
  },
  {
   "cell_type": "markdown",
   "source": [
    "There are 14651 instances that hace budget or revenue greater than 0 in the year 2000. Ok Let's save it."
   ],
   "metadata": {
    "collapsed": false
   }
  },
  {
   "cell_type": "code",
   "execution_count": 11,
   "outputs": [],
   "source": [
    "data_budget = data[filter].copy()"
   ],
   "metadata": {
    "collapsed": false
   }
  },
  {
   "cell_type": "markdown",
   "source": [
    "### Movies per certification categories (G/PG/PG-13/R)"
   ],
   "metadata": {
    "collapsed": false
   }
  },
  {
   "cell_type": "code",
   "execution_count": 12,
   "outputs": [
    {
     "data": {
      "text/plain": "               imdb_id\ncertification         \n                  3868\nR                 3371\nPG-13             2098\nNR                1069\nPG                 838\nG                  165\nNC-17               38",
      "text/html": "<div>\n<style scoped>\n    .dataframe tbody tr th:only-of-type {\n        vertical-align: middle;\n    }\n\n    .dataframe tbody tr th {\n        vertical-align: top;\n    }\n\n    .dataframe thead th {\n        text-align: right;\n    }\n</style>\n<table border=\"1\" class=\"dataframe\">\n  <thead>\n    <tr style=\"text-align: right;\">\n      <th></th>\n      <th>imdb_id</th>\n    </tr>\n    <tr>\n      <th>certification</th>\n      <th></th>\n    </tr>\n  </thead>\n  <tbody>\n    <tr>\n      <th></th>\n      <td>3868</td>\n    </tr>\n    <tr>\n      <th>R</th>\n      <td>3371</td>\n    </tr>\n    <tr>\n      <th>PG-13</th>\n      <td>2098</td>\n    </tr>\n    <tr>\n      <th>NR</th>\n      <td>1069</td>\n    </tr>\n    <tr>\n      <th>PG</th>\n      <td>838</td>\n    </tr>\n    <tr>\n      <th>G</th>\n      <td>165</td>\n    </tr>\n    <tr>\n      <th>NC-17</th>\n      <td>38</td>\n    </tr>\n  </tbody>\n</table>\n</div>"
     },
     "execution_count": 12,
     "metadata": {},
     "output_type": "execute_result"
    }
   ],
   "source": [
    "cert = data_budget[['certification', 'imdb_id']].groupby(by='certification').count().sort_values(by='imdb_id',ascending=False)\n",
    "cert"
   ],
   "metadata": {
    "collapsed": false
   }
  },
  {
   "cell_type": "code",
   "execution_count": 13,
   "outputs": [
    {
     "data": {
      "text/plain": "<Figure size 640x480 with 1 Axes>",
      "image/png": "[encoded data removed]"
     },
     "metadata": {},
     "output_type": "display_data"
    },
    {
     "data": {
      "text/plain": "<Figure size 640x480 with 0 Axes>"
     },
     "metadata": {},
     "output_type": "display_data"
    }
   ],
   "source": [
    "sns.barplot(data=cert, x=cert.index, y='imdb_id').set(title='Count of Movies per Movie Rating', xlabel='Movie Rating', ylabel='Count')\n",
    "plt.show()\n",
    "plt.savefig('img/count_rating.png')"
   ],
   "metadata": {
    "collapsed": false
   }
  },
  {
   "cell_type": "markdown",
   "source": [
    "Rated-R movies are by far the ones that most produced in the year 2000"
   ],
   "metadata": {
    "collapsed": false
   }
  },
  {
   "cell_type": "markdown",
   "source": [
    "### Revenue per certification category"
   ],
   "metadata": {
    "collapsed": false
   }
  },
  {
   "cell_type": "code",
   "execution_count": 14,
   "outputs": [
    {
     "data": {
      "text/plain": "                           revenue\ncertification                     \nPG                  122,764,623.04\nPG-13               118,045,452.98\nG                    88,907,322.56\nR                    30,633,941.27\n                      7,391,268.18\nNR                    6,414,370.16\nNC-17                 5,321,470.13",
      "text/html": "<div>\n<style scoped>\n    .dataframe tbody tr th:only-of-type {\n        vertical-align: middle;\n    }\n\n    .dataframe tbody tr th {\n        vertical-align: top;\n    }\n\n    .dataframe thead th {\n        text-align: right;\n    }\n</style>\n<table border=\"1\" class=\"dataframe\">\n  <thead>\n    <tr style=\"text-align: right;\">\n      <th></th>\n      <th>revenue</th>\n    </tr>\n    <tr>\n      <th>certification</th>\n      <th></th>\n    </tr>\n  </thead>\n  <tbody>\n    <tr>\n      <th>PG</th>\n      <td>122,764,623.04</td>\n    </tr>\n    <tr>\n      <th>PG-13</th>\n      <td>118,045,452.98</td>\n    </tr>\n    <tr>\n      <th>G</th>\n      <td>88,907,322.56</td>\n    </tr>\n    <tr>\n      <th>R</th>\n      <td>30,633,941.27</td>\n    </tr>\n    <tr>\n      <th></th>\n      <td>7,391,268.18</td>\n    </tr>\n    <tr>\n      <th>NR</th>\n      <td>6,414,370.16</td>\n    </tr>\n    <tr>\n      <th>NC-17</th>\n      <td>5,321,470.13</td>\n    </tr>\n  </tbody>\n</table>\n</div>"
     },
     "execution_count": 14,
     "metadata": {},
     "output_type": "execute_result"
    }
   ],
   "source": [
    "revenue = data_budget[['certification', 'revenue']].groupby(by='certification').mean().sort_values(by='revenue',ascending=False)\n",
    "revenue"
   ],
   "metadata": {
    "collapsed": false
   }
  },
  {
   "cell_type": "code",
   "execution_count": 15,
   "outputs": [
    {
     "data": {
      "text/plain": "<Figure size 640x480 with 1 Axes>",
      "image/png": "[encoded data removed]"
     },
     "metadata": {},
     "output_type": "display_data"
    },
    {
     "data": {
      "text/plain": "<Figure size 640x480 with 0 Axes>"
     },
     "metadata": {},
     "output_type": "display_data"
    }
   ],
   "source": [
    "sns.barplot(data=revenue, x=revenue.index, y='revenue').set(title='Revenue per Movie Rating', xlabel='Movie Rating', ylabel='Revenue $')\n",
    "plt.show()\n",
    "plt.savefig('img/revenue_rating.png')"
   ],
   "metadata": {
    "collapsed": false
   }
  },
  {
   "cell_type": "markdown",
   "source": [
    "### Average budget per certification category"
   ],
   "metadata": {
    "collapsed": false
   }
  },
  {
   "cell_type": "code",
   "execution_count": 16,
   "outputs": [
    {
     "data": {
      "text/plain": "                            budget\ncertification                     \nPG                   41,078,169.75\nPG-13                40,220,434.65\nG                    30,356,193.28\nR                    14,529,060.32\n                      3,480,097.24\nNC-17                 3,181,185.55\nNR                    2,779,664.98",
      "text/html": "<div>\n<style scoped>\n    .dataframe tbody tr th:only-of-type {\n        vertical-align: middle;\n    }\n\n    .dataframe tbody tr th {\n        vertical-align: top;\n    }\n\n    .dataframe thead th {\n        text-align: right;\n    }\n</style>\n<table border=\"1\" class=\"dataframe\">\n  <thead>\n    <tr style=\"text-align: right;\">\n      <th></th>\n      <th>budget</th>\n    </tr>\n    <tr>\n      <th>certification</th>\n      <th></th>\n    </tr>\n  </thead>\n  <tbody>\n    <tr>\n      <th>PG</th>\n      <td>41,078,169.75</td>\n    </tr>\n    <tr>\n      <th>PG-13</th>\n      <td>40,220,434.65</td>\n    </tr>\n    <tr>\n      <th>G</th>\n      <td>30,356,193.28</td>\n    </tr>\n    <tr>\n      <th>R</th>\n      <td>14,529,060.32</td>\n    </tr>\n    <tr>\n      <th></th>\n      <td>3,480,097.24</td>\n    </tr>\n    <tr>\n      <th>NC-17</th>\n      <td>3,181,185.55</td>\n    </tr>\n    <tr>\n      <th>NR</th>\n      <td>2,779,664.98</td>\n    </tr>\n  </tbody>\n</table>\n</div>"
     },
     "execution_count": 16,
     "metadata": {},
     "output_type": "execute_result"
    }
   ],
   "source": [
    "budget = data_budget[['certification', 'budget']].groupby(by='certification').mean().sort_values(by='budget',ascending=False)\n",
    "budget"
   ],
   "metadata": {
    "collapsed": false
   }
  },
  {
   "cell_type": "code",
   "execution_count": 17,
   "outputs": [
    {
     "data": {
      "text/plain": "<Figure size 640x480 with 1 Axes>",
      "image/png": "[encoded data removed]"
     },
     "metadata": {},
     "output_type": "display_data"
    },
    {
     "data": {
      "text/plain": "<Figure size 640x480 with 0 Axes>"
     },
     "metadata": {},
     "output_type": "display_data"
    }
   ],
   "source": [
    "sns.barplot(data=budget, x=budget.index, y='budget').set(title='Budget per Movie Rating', xlabel='Movie Rating', ylabel='Budget $')\n",
    "plt.show()\n",
    "plt.savefig('img/budget_rating.png')"
   ],
   "metadata": {
    "collapsed": false
   }
  },
  {
   "cell_type": "code",
   "execution_count": 17,
   "outputs": [],
   "source": [],
   "metadata": {
    "collapsed": false
   }
  }
 ],
 "metadata": {
  "kernelspec": {
   "name": "dojo-env",
   "language": "python",
   "display_name": "Python (dojo-env)"
  },
  "language_info": {
   "codemirror_mode": {
    "name": "ipython",
    "version": 2
   },
   "file_extension": ".py",
   "mimetype": "text/x-python",
   "name": "python",
   "nbconvert_exporter": "python",
   "pygments_lexer": "ipython2",
   "version": "2.7.6"
  }
 },
 "nbformat": 4,
 "nbformat_minor": 0
}
