{
 "cells": [
  {
   "cell_type": "markdown",
   "source": [
    "# Movies Database: Data Cleaning\n",
    "\n",
    "by Israel Diaz"
   ],
   "metadata": {
    "collapsed": false
   }
  },
  {
   "cell_type": "markdown",
   "source": [
    "## Data Description"
   ],
   "metadata": {
    "collapsed": false
   }
  },
  {
   "cell_type": "markdown",
   "source": [
    "The data correspond to the one downloaded from [IMDB source](https://datasets.imdbws.com/).\n",
    "\n",
    "**IMDb Dataset Details**\n",
    "\n",
    "Each dataset is contained in a gzipped, tab-separated-values (TSV) formatted file in the UTF-8 character set. The first line in each file contains headers that describe what is in each column. A ‘\\N’ is used to denote that a particular field is missing or null for that title/name. The available datasets are as follows:\n",
    "\n",
    "**title.akas.tsv.gz** - Contains the following information for titles:\n",
    "\n",
    "* titleId (string) - a tconst, an alphanumeric unique identifier of the title\n",
    "* ordering (integer) – a number to uniquely identify rows for a given titleId\n",
    "* title (string) – the localized title\n",
    "* region (string) - the region for this version of the title\n",
    "* language (string) - the language of the title\n",
    "* types (array) - Enumerated set of attributes for this alternative title. One or more of the following: \"alternative\", \"dvd\", \"festival\", \"tv\", \"video\", \"working\", \"original\", \"imdbDisplay\". New values may be added in the future without warning\n",
    "* attributes (array) - Additional terms to describe this alternative title, not enumerated\n",
    "* isOriginalTitle (boolean) – 0: not original title; 1: original title\n",
    "\n",
    "**title.basics.tsv.gz** - Contains the following information for titles:\n",
    "\n",
    "* tconst (string) - alphanumeric unique identifier of the title\n",
    "* titleType (string) – the type/format of the title (e.g. movie, short, tvseries, tvepisode, video, etc)\n",
    "* primaryTitle (string) – the more popular title / the title used by the filmmakers on promotional materials at the point of release\n",
    "* originalTitle (string) - original title, in the original language\n",
    "* isAdult (boolean) - 0: non-adult title; 1: adult title\n",
    "* startYear (YYYY) – represents the release year of a title. In the case of TV Series, it is the series start year\n",
    "* endYear (YYYY) – TV Series end year. ‘\\N’ for all other title types\n",
    "* runtimeMinutes – primary runtime of the title, in minutes\n",
    "* genres (string array) – includes up to three genres associated with the title\n",
    "\n",
    "**title.ratings.tsv.gz** – Contains the IMDb rating and votes information for titles\n",
    "\n",
    "* tconst (string) - alphanumeric unique identifier of the title\n",
    "* averageRating – weighted average of all the individual user ratings\n",
    "* numVotes - number of votes the title has received"
   ],
   "metadata": {
    "collapsed": false
   }
  },
  {
   "cell_type": "markdown",
   "source": [
    "## Data Cleaning"
   ],
   "metadata": {
    "collapsed": false
   }
  },
  {
   "cell_type": "markdown",
   "source": [
    "### Load Libraries"
   ],
   "metadata": {
    "collapsed": false
   }
  },
  {
   "cell_type": "code",
   "execution_count": 1,
   "metadata": {
    "collapsed": true
   },
   "outputs": [
    {
     "data": {
      "text/plain": "['basics.csv.gz',\n 'aka.csv.gz',\n 'ratings.csv.gz',\n 'final_tmdb_data_2001.csv.gz',\n 'mod',\n 'backup_data']"
     },
     "execution_count": 1,
     "metadata": {},
     "output_type": "execute_result"
    }
   ],
   "source": [
    "## General Libraries\n",
    "import pandas as pd\n",
    "import numpy as np\n",
    "import warnings\n",
    "import os\n",
    "warnings.simplefilter('ignore')\n",
    "\n",
    "## specifying data folder\n",
    "FOLDER = \"data/\"\n",
    "os.makedirs(FOLDER, exist_ok=True)\n",
    "os.listdir(FOLDER)"
   ]
  },
  {
   "cell_type": "markdown",
   "source": [
    "### Loading DataFiles"
   ],
   "metadata": {
    "collapsed": false
   }
  },
  {
   "cell_type": "code",
   "execution_count": 2,
   "outputs": [
    {
     "name": "stderr",
     "output_type": "stream",
     "text": [
      "\n",
      "KeyboardInterrupt\n",
      "\n"
     ]
    }
   ],
   "source": [
    "%%time\n",
    "title_basics = 'https://datasets.imdbws.com/title.basics.tsv.gz'\n",
    "title_aka = 'https://datasets.imdbws.com/title.akas.tsv.gz'\n",
    "title_ratings = 'https://datasets.imdbws.com/title.ratings.tsv.gz'\n",
    "\n",
    "## loading urls into pandas dataframe\n",
    "basics = pd.read_csv(title_basics, sep='\\t', low_memory='False')\n",
    "aka = pd.read_csv(title_aka, sep='\\t', low_memory='False')\n",
    "ratings = pd.read_csv(title_ratings, sep='\\t', low_memory='False')"
   ],
   "metadata": {
    "collapsed": false
   }
  },
  {
   "cell_type": "code",
   "execution_count": 3,
   "outputs": [
    {
     "name": "stderr",
     "output_type": "stream",
     "text": [
      "\n",
      "KeyboardInterrupt\n",
      "\n"
     ]
    }
   ],
   "source": [
    "print('basics = ', 'len:',len(basics))\n",
    "display(basics.head())\n",
    "print('\\naka = ', 'len:',len(aka))\n",
    "display(aka.head())\n",
    "print('\\nratings = ', 'len:',len(ratings))\n",
    "display(ratings.head())"
   ],
   "metadata": {
    "collapsed": false
   }
  },
  {
   "cell_type": "markdown",
   "source": [
    "#### Replacing \\N with NaN"
   ],
   "metadata": {
    "collapsed": false
   }
  },
  {
   "cell_type": "markdown",
   "source": [
    "The data dictionary reports that the files shows null values as \\N, this would be an issue so it must be changed to NaN values."
   ],
   "metadata": {
    "collapsed": false
   }
  },
  {
   "cell_type": "code",
   "execution_count": null,
   "outputs": [],
   "source": [
    "## Replacing the \\N values with NaN\n",
    "basics.replace({'\\\\N': np.nan}, inplace=True)\n",
    "aka.replace({'\\\\N': np.nan}, inplace=True)\n",
    "ratings.replace({'\\\\N': np.nan}, inplace=True)"
   ],
   "metadata": {
    "collapsed": false
   }
  },
  {
   "cell_type": "code",
   "execution_count": null,
   "outputs": [],
   "source": [
    "print('basics')\n",
    "display(basics.head())\n",
    "print('\\naka')\n",
    "display(aka.head())\n",
    "print('\\nratings')\n",
    "display(ratings.head())"
   ],
   "metadata": {
    "collapsed": false
   }
  },
  {
   "cell_type": "markdown",
   "source": [
    "#### Eliminate runtimeMinute = Null"
   ],
   "metadata": {
    "collapsed": false
   }
  },
  {
   "cell_type": "code",
   "execution_count": null,
   "outputs": [],
   "source": [
    "basics.dropna(subset=['runtimeMinutes', 'genres'], axis=0, inplace=True)"
   ],
   "metadata": {
    "collapsed": false
   }
  },
  {
   "cell_type": "markdown",
   "source": [
    "#### Keeping only titleType = movie"
   ],
   "metadata": {
    "collapsed": false
   }
  },
  {
   "cell_type": "code",
   "execution_count": null,
   "outputs": [],
   "source": [
    "basics = basics[basics['titleType'] == 'movie']"
   ],
   "metadata": {
    "collapsed": false
   }
  },
  {
   "cell_type": "markdown",
   "source": [
    "#### Keeping startYear between 2000-2021"
   ],
   "metadata": {
    "collapsed": false
   }
  },
  {
   "cell_type": "code",
   "execution_count": null,
   "outputs": [],
   "source": [
    "basics = basics[(basics['startYear'] >= '2000') & (basics['startYear'] < '2021')]"
   ],
   "metadata": {
    "collapsed": false
   }
  },
  {
   "cell_type": "markdown",
   "source": [
    "#### Dropping movies that contain documentaries"
   ],
   "metadata": {
    "collapsed": false
   }
  },
  {
   "cell_type": "code",
   "execution_count": null,
   "outputs": [],
   "source": [
    "## filtering movies that contain documentaries in genres\n",
    "is_documentary = basics['genres'].str.contains('documentary', case=False)\n",
    "##saving\n",
    "basics = basics[~is_documentary]\n",
    "## showing results\n",
    "basics.head(10)"
   ],
   "metadata": {
    "collapsed": false
   }
  },
  {
   "cell_type": "markdown",
   "source": [
    "#### Keeping only US movies"
   ],
   "metadata": {
    "collapsed": false
   }
  },
  {
   "cell_type": "code",
   "execution_count": null,
   "outputs": [],
   "source": [
    "aka = aka[aka['region'] == 'US']"
   ],
   "metadata": {
    "collapsed": false
   }
  },
  {
   "cell_type": "markdown",
   "source": [
    "Applying to all other sets"
   ],
   "metadata": {
    "collapsed": false
   }
  },
  {
   "cell_type": "code",
   "execution_count": null,
   "outputs": [],
   "source": [
    "# Filtering basics\n",
    "us_movies = basics['tconst'].isin(aka['titleId'])\n",
    "# results\n",
    "us_movies[:10]"
   ],
   "metadata": {
    "collapsed": false
   }
  },
  {
   "cell_type": "code",
   "execution_count": null,
   "outputs": [],
   "source": [
    "#Apply to the basics set\n",
    "basics = basics[us_movies]"
   ],
   "metadata": {
    "collapsed": false
   }
  },
  {
   "cell_type": "code",
   "execution_count": null,
   "outputs": [],
   "source": [
    "## filtering ratings\n",
    "us_ratings = ratings['tconst'].isin(aka['titleId'])\n",
    "# results\n",
    "us_ratings[:10]"
   ],
   "metadata": {
    "collapsed": false
   }
  },
  {
   "cell_type": "code",
   "execution_count": null,
   "outputs": [],
   "source": [
    "## Apply to ratings se\n",
    "ratings = ratings[us_ratings]"
   ],
   "metadata": {
    "collapsed": false
   }
  },
  {
   "cell_type": "markdown",
   "source": [
    "## Saving DataFrames"
   ],
   "metadata": {
    "collapsed": false
   }
  },
  {
   "cell_type": "code",
   "execution_count": null,
   "outputs": [],
   "source": [
    "import os\n",
    "os.makedirs('data/', exist_ok=True)\n",
    "os.listdir('data/')"
   ],
   "metadata": {
    "collapsed": false
   }
  },
  {
   "cell_type": "code",
   "execution_count": null,
   "outputs": [],
   "source": [
    "## saving basics to compressed file\n",
    "basics.to_csv(\"data/basics.csv.gz\",compression='gzip',index=False)\n",
    "## saving aka to compressed file\n",
    "aka.to_csv(\"data/aka.csv.gz\",compression='gzip',index=False)\n",
    "## saving ratings to compressed file\n",
    "ratings.to_csv(\"data/ratings.csv.gz\",compression='gzip',index=False)"
   ],
   "metadata": {
    "collapsed": false
   }
  },
  {
   "cell_type": "markdown",
   "source": [
    "End"
   ],
   "metadata": {
    "collapsed": false
   }
  },
  {
   "cell_type": "code",
   "execution_count": null,
   "outputs": [],
   "source": [],
   "metadata": {
    "collapsed": false
   }
  }
 ],
 "metadata": {
  "kernelspec": {
   "name": "dojo-env",
   "language": "python",
   "display_name": "Python (dojo-env)"
  },
  "language_info": {
   "codemirror_mode": {
    "name": "ipython",
    "version": 2
   },
   "file_extension": ".py",
   "mimetype": "text/x-python",
   "name": "python",
   "nbconvert_exporter": "python",
   "pygments_lexer": "ipython2",
   "version": "2.7.6"
  }
 },
 "nbformat": 4,
 "nbformat_minor": 0
}
