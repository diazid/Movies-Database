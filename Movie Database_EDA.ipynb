{
 "cells": [
  {
   "cell_type": "markdown",
   "source": [
    "# Movies: Explortory Data Analysis\n",
    "\n",
    "by Israel Diaz"
   ],
   "metadata": {
    "collapsed": false
   }
  },
  {
   "cell_type": "markdown",
   "source": [
    "## Data Description"
   ],
   "metadata": {
    "collapsed": false
   }
  },
  {
   "cell_type": "markdown",
   "source": [
    "The data correspond to the one downloaded from [IMDB source](https://datasets.imdbws.com/).\n",
    "\n",
    "**IMDb Dataset Details**\n",
    "\n",
    "Each dataset is contained in a gzipped, tab-separated-values (TSV) formatted file in the UTF-8 character set. The first line in each file contains headers that describe what is in each column. A ‘\\N’ is used to denote that a particular field is missing or null for that title/name. The available datasets are as follows:\n",
    "\n",
    "**title.akas.tsv.gz** - Contains the following information for titles:\n",
    "\n",
    "* titleId (string) - a tconst, an alphanumeric unique identifier of the title\n",
    "* ordering (integer) – a number to uniquely identify rows for a given titleId\n",
    "* title (string) – the localized title\n",
    "* region (string) - the region for this version of the title\n",
    "* language (string) - the language of the title\n",
    "* types (array) - Enumerated set of attributes for this alternative title. One or more of the following: \"alternative\", \"dvd\", \"festival\", \"tv\", \"video\", \"working\", \"original\", \"imdbDisplay\". New values may be added in the future without warning\n",
    "* attributes (array) - Additional terms to describe this alternative title, not enumerated\n",
    "* isOriginalTitle (boolean) – 0: not original title; 1: original title\n",
    "\n",
    "**title.basics.tsv.gz** - Contains the following information for titles:\n",
    "\n",
    "* tconst (string) - alphanumeric unique identifier of the title\n",
    "* titleType (string) – the type/format of the title (e.g. movie, short, tvseries, tvepisode, video, etc)\n",
    "* primaryTitle (string) – the more popular title / the title used by the filmmakers on promotional materials at the point of release\n",
    "* originalTitle (string) - original title, in the original language\n",
    "* isAdult (boolean) - 0: non-adult title; 1: adult title\n",
    "* startYear (YYYY) – represents the release year of a title. In the case of TV Series, it is the series start year\n",
    "* endYear (YYYY) – TV Series end year. ‘\\N’ for all other title types\n",
    "* runtimeMinutes – primary runtime of the title, in minutes\n",
    "* genres (string array) – includes up to three genres associated with the title\n",
    "\n",
    "**title.ratings.tsv.gz** – Contains the IMDb rating and votes information for titles\n",
    "\n",
    "* tconst (string) - alphanumeric unique identifier of the title\n",
    "* averageRating – weighted average of all the individual user ratings\n",
    "* numVotes - number of votes the title has received"
   ],
   "metadata": {
    "collapsed": false
   }
  },
  {
   "cell_type": "markdown",
   "source": [
    "## Loading Data"
   ],
   "metadata": {
    "collapsed": false
   }
  },
  {
   "cell_type": "markdown",
   "source": [
    "### Import Libraries"
   ],
   "metadata": {
    "collapsed": false
   }
  },
  {
   "cell_type": "code",
   "execution_count": 1,
   "metadata": {
    "collapsed": true
   },
   "outputs": [],
   "source": [
    "## General\n",
    "import pandas as pd\n",
    "import numpy as np\n",
    "import matplotlib.pyplot as plt\n",
    "import seaborn as sns\n",
    "import os, glob, json\n",
    "import warnings\n",
    "warnings.simplefilter('ignore')\n",
    "\n",
    "\n",
    "## suppress scientific notation\n",
    "pd.options.display.float_format = '{:20,.2f}'.format\n"
   ]
  },
  {
   "cell_type": "markdown",
   "source": [
    "### Load Data"
   ],
   "metadata": {
    "collapsed": false
   }
  },
  {
   "cell_type": "markdown",
   "source": [
    "For Now, I will explore data from year 2000 and 2001, I will add more years as the project goes forward."
   ],
   "metadata": {
    "collapsed": false
   }
  },
  {
   "cell_type": "code",
   "execution_count": 2,
   "outputs": [],
   "source": [
    "FOLDER = 'data/'\n",
    "YEARS = [2000,2001]"
   ],
   "metadata": {
    "collapsed": false
   }
  },
  {
   "cell_type": "code",
   "execution_count": 3,
   "outputs": [],
   "source": [
    "data = pd.DataFrame()\n",
    "for YEAR in YEARS:\n",
    "    FILE_NAME = f'tmdb_api_results_{YEAR}.json'\n",
    "    temp = pd.read_json(path_or_buf=FOLDER+FILE_NAME)\n",
    "    data = pd.concat([data,temp], ignore_index=True, sort=False)"
   ],
   "metadata": {
    "collapsed": false
   }
  },
  {
   "cell_type": "code",
   "execution_count": 4,
   "outputs": [
    {
     "data": {
      "text/plain": "     imdb_id                adult                     backdrop_path  \\\n0          0                  NaN                               NaN   \n1  tt0113026                 0.00  /vMFs7nw6P0bIV1jDsQpxAieAVnH.jpg   \n2  tt0113092                 0.00                              None   \n3  tt0116391                 0.00                              None   \n4  tt0118694                 0.00  /n4GJFGzsc7NinI1VeGDXIcQjtU2.jpg   \n\n  belongs_to_collection               budget  \\\n0                   NaN                  NaN   \n1                  None        10,000,000.00   \n2                  None                 0.00   \n3                  None                 0.00   \n4                  None           150,000.00   \n\n                                              genres homepage  \\\n0                                                NaN      NaN   \n1  [{'id': 35, 'name': 'Comedy'}, {'id': 10402, '...            \n2           [{'id': 878, 'name': 'Science Fiction'}]            \n3  [{'id': 18, 'name': 'Drama'}, {'id': 28, 'name...            \n4  [{'id': 18, 'name': 'Drama'}, {'id': 10749, 'n...            \n\n                    id original_language   original_title  ...  \\\n0                  NaN               NaN              NaN  ...   \n1            62,127.00                en  The Fantasticks  ...   \n2           110,977.00                en    For the Cause  ...   \n3           442,869.00                hi             Gang  ...   \n4               843.00                cn             花樣年華  ...   \n\n               revenue              runtime  \\\n0                  NaN                  NaN   \n1                 0.00                86.00   \n2                 0.00               100.00   \n3                 0.00               152.00   \n4        12,854,953.00                99.00   \n\n                                    spoken_languages    status  \\\n0                                                NaN       NaN   \n1  [{'english_name': 'English', 'iso_639_1': 'en'...  Released   \n2  [{'english_name': 'English', 'iso_639_1': 'en'...  Released   \n3  [{'english_name': 'Hindi', 'iso_639_1': 'hi', ...  Released   \n4  [{'english_name': 'Cantonese', 'iso_639_1': 'c...  Released   \n\n                                             tagline                 title  \\\n0                                                NaN                   NaN   \n1      Try to remember the first time magic happened       The Fantasticks   \n2       The ultimate showdown on a forbidden planet.         For the Cause   \n3                                                                     Gang   \n4  Feel the heat, keep the feeling burning, let t...  In the Mood for Love   \n\n                 video         vote_average           vote_count certification  \n0                  NaN                  NaN                  NaN           NaN  \n1                 0.00                 5.50                22.00                \n2                 0.00                 5.10                 8.00                \n3                 0.00                 4.00                 1.00           NaN  \n4                 0.00                 8.11             2,138.00            PG  \n\n[5 rows x 26 columns]",
      "text/html": "<div>\n<style scoped>\n    .dataframe tbody tr th:only-of-type {\n        vertical-align: middle;\n    }\n\n    .dataframe tbody tr th {\n        vertical-align: top;\n    }\n\n    .dataframe thead th {\n        text-align: right;\n    }\n</style>\n<table border=\"1\" class=\"dataframe\">\n  <thead>\n    <tr style=\"text-align: right;\">\n      <th></th>\n      <th>imdb_id</th>\n      <th>adult</th>\n      <th>backdrop_path</th>\n      <th>belongs_to_collection</th>\n      <th>budget</th>\n      <th>genres</th>\n      <th>homepage</th>\n      <th>id</th>\n      <th>original_language</th>\n      <th>original_title</th>\n      <th>...</th>\n      <th>revenue</th>\n      <th>runtime</th>\n      <th>spoken_languages</th>\n      <th>status</th>\n      <th>tagline</th>\n      <th>title</th>\n      <th>video</th>\n      <th>vote_average</th>\n      <th>vote_count</th>\n      <th>certification</th>\n    </tr>\n  </thead>\n  <tbody>\n    <tr>\n      <th>0</th>\n      <td>0</td>\n      <td>NaN</td>\n      <td>NaN</td>\n      <td>NaN</td>\n      <td>NaN</td>\n      <td>NaN</td>\n      <td>NaN</td>\n      <td>NaN</td>\n      <td>NaN</td>\n      <td>NaN</td>\n      <td>...</td>\n      <td>NaN</td>\n      <td>NaN</td>\n      <td>NaN</td>\n      <td>NaN</td>\n      <td>NaN</td>\n      <td>NaN</td>\n      <td>NaN</td>\n      <td>NaN</td>\n      <td>NaN</td>\n      <td>NaN</td>\n    </tr>\n    <tr>\n      <th>1</th>\n      <td>tt0113026</td>\n      <td>0.00</td>\n      <td>/vMFs7nw6P0bIV1jDsQpxAieAVnH.jpg</td>\n      <td>None</td>\n      <td>10,000,000.00</td>\n      <td>[{'id': 35, 'name': 'Comedy'}, {'id': 10402, '...</td>\n      <td></td>\n      <td>62,127.00</td>\n      <td>en</td>\n      <td>The Fantasticks</td>\n      <td>...</td>\n      <td>0.00</td>\n      <td>86.00</td>\n      <td>[{'english_name': 'English', 'iso_639_1': 'en'...</td>\n      <td>Released</td>\n      <td>Try to remember the first time magic happened</td>\n      <td>The Fantasticks</td>\n      <td>0.00</td>\n      <td>5.50</td>\n      <td>22.00</td>\n      <td></td>\n    </tr>\n    <tr>\n      <th>2</th>\n      <td>tt0113092</td>\n      <td>0.00</td>\n      <td>None</td>\n      <td>None</td>\n      <td>0.00</td>\n      <td>[{'id': 878, 'name': 'Science Fiction'}]</td>\n      <td></td>\n      <td>110,977.00</td>\n      <td>en</td>\n      <td>For the Cause</td>\n      <td>...</td>\n      <td>0.00</td>\n      <td>100.00</td>\n      <td>[{'english_name': 'English', 'iso_639_1': 'en'...</td>\n      <td>Released</td>\n      <td>The ultimate showdown on a forbidden planet.</td>\n      <td>For the Cause</td>\n      <td>0.00</td>\n      <td>5.10</td>\n      <td>8.00</td>\n      <td></td>\n    </tr>\n    <tr>\n      <th>3</th>\n      <td>tt0116391</td>\n      <td>0.00</td>\n      <td>None</td>\n      <td>None</td>\n      <td>0.00</td>\n      <td>[{'id': 18, 'name': 'Drama'}, {'id': 28, 'name...</td>\n      <td></td>\n      <td>442,869.00</td>\n      <td>hi</td>\n      <td>Gang</td>\n      <td>...</td>\n      <td>0.00</td>\n      <td>152.00</td>\n      <td>[{'english_name': 'Hindi', 'iso_639_1': 'hi', ...</td>\n      <td>Released</td>\n      <td></td>\n      <td>Gang</td>\n      <td>0.00</td>\n      <td>4.00</td>\n      <td>1.00</td>\n      <td>NaN</td>\n    </tr>\n    <tr>\n      <th>4</th>\n      <td>tt0118694</td>\n      <td>0.00</td>\n      <td>/n4GJFGzsc7NinI1VeGDXIcQjtU2.jpg</td>\n      <td>None</td>\n      <td>150,000.00</td>\n      <td>[{'id': 18, 'name': 'Drama'}, {'id': 10749, 'n...</td>\n      <td></td>\n      <td>843.00</td>\n      <td>cn</td>\n      <td>花樣年華</td>\n      <td>...</td>\n      <td>12,854,953.00</td>\n      <td>99.00</td>\n      <td>[{'english_name': 'Cantonese', 'iso_639_1': 'c...</td>\n      <td>Released</td>\n      <td>Feel the heat, keep the feeling burning, let t...</td>\n      <td>In the Mood for Love</td>\n      <td>0.00</td>\n      <td>8.11</td>\n      <td>2,138.00</td>\n      <td>PG</td>\n    </tr>\n  </tbody>\n</table>\n<p>5 rows × 26 columns</p>\n</div>"
     },
     "metadata": {},
     "output_type": "display_data"
    }
   ],
   "source": [
    "display(data.head())"
   ],
   "metadata": {
    "collapsed": false
   }
  },
  {
   "cell_type": "code",
   "execution_count": 5,
   "outputs": [
    {
     "name": "stdout",
     "output_type": "stream",
     "text": [
      "Number of instances: 2520\n"
     ]
    }
   ],
   "source": [
    "print(f'Number of instances: {len(data)}')"
   ],
   "metadata": {
    "collapsed": false
   }
  },
  {
   "cell_type": "markdown",
   "source": [
    "### Export Data"
   ],
   "metadata": {
    "collapsed": false
   }
  },
  {
   "cell_type": "code",
   "execution_count": 6,
   "outputs": [],
   "source": [
    "data.to_csv(f'{FOLDER}tmdb_results_combined.csv.gz', compression='gzip', index=False)"
   ],
   "metadata": {
    "collapsed": false
   }
  },
  {
   "cell_type": "markdown",
   "source": [
    "## Exploratory Data Analysis"
   ],
   "metadata": {
    "collapsed": false
   }
  },
  {
   "cell_type": "markdown",
   "source": [
    "### Return movies with budget or revenue greater than 0"
   ],
   "metadata": {
    "collapsed": false
   }
  },
  {
   "cell_type": "code",
   "execution_count": 7,
   "outputs": [
    {
     "name": "stdout",
     "output_type": "stream",
     "text": [
      "Number of Instances: 629\n"
     ]
    }
   ],
   "source": [
    "filter = (data['budget'] > 0) | (data['revenue'] > 0)\n",
    "\n",
    "print(f'Number of Instances: {len(data[filter])}')"
   ],
   "metadata": {
    "collapsed": false
   }
  },
  {
   "cell_type": "markdown",
   "source": [
    "There are 629 instances that hace budget or revenue greater than 0 in the year 2000. Ok Let's save it."
   ],
   "metadata": {
    "collapsed": false
   }
  },
  {
   "cell_type": "code",
   "execution_count": 8,
   "outputs": [],
   "source": [
    "data_budget = data[filter].copy()"
   ],
   "metadata": {
    "collapsed": false
   }
  },
  {
   "cell_type": "code",
   "execution_count": 8,
   "outputs": [],
   "source": [],
   "metadata": {
    "collapsed": false
   }
  },
  {
   "cell_type": "markdown",
   "source": [
    "### Movies per certification categories (G/PG/PG-13/R)"
   ],
   "metadata": {
    "collapsed": false
   }
  },
  {
   "cell_type": "code",
   "execution_count": 9,
   "outputs": [
    {
     "data": {
      "text/plain": "               imdb_id\ncertification         \nR                  229\nPG-13              130\n                   127\nPG                  36\nNR                  17\nG                   14",
      "text/html": "<div>\n<style scoped>\n    .dataframe tbody tr th:only-of-type {\n        vertical-align: middle;\n    }\n\n    .dataframe tbody tr th {\n        vertical-align: top;\n    }\n\n    .dataframe thead th {\n        text-align: right;\n    }\n</style>\n<table border=\"1\" class=\"dataframe\">\n  <thead>\n    <tr style=\"text-align: right;\">\n      <th></th>\n      <th>imdb_id</th>\n    </tr>\n    <tr>\n      <th>certification</th>\n      <th></th>\n    </tr>\n  </thead>\n  <tbody>\n    <tr>\n      <th>R</th>\n      <td>229</td>\n    </tr>\n    <tr>\n      <th>PG-13</th>\n      <td>130</td>\n    </tr>\n    <tr>\n      <th></th>\n      <td>127</td>\n    </tr>\n    <tr>\n      <th>PG</th>\n      <td>36</td>\n    </tr>\n    <tr>\n      <th>NR</th>\n      <td>17</td>\n    </tr>\n    <tr>\n      <th>G</th>\n      <td>14</td>\n    </tr>\n  </tbody>\n</table>\n</div>"
     },
     "execution_count": 9,
     "metadata": {},
     "output_type": "execute_result"
    }
   ],
   "source": [
    "data_budget[['certification', 'imdb_id']].groupby(by='certification').count().sort_values(by='imdb_id',ascending=False)"
   ],
   "metadata": {
    "collapsed": false
   }
  },
  {
   "cell_type": "markdown",
   "source": [
    "Rated-R movies are by far the ones that most produced in the year 2000"
   ],
   "metadata": {
    "collapsed": false
   }
  },
  {
   "cell_type": "markdown",
   "source": [
    "### Revenue per certification category"
   ],
   "metadata": {
    "collapsed": false
   }
  },
  {
   "cell_type": "code",
   "execution_count": 10,
   "outputs": [
    {
     "data": {
      "text/plain": "                           revenue\ncertification                     \nG                   123,746,274.93\nPG                  109,533,845.75\nPG-13                98,963,541.18\nR                    33,135,234.21\n                     10,813,612.86\nNR                    9,588,674.35",
      "text/html": "<div>\n<style scoped>\n    .dataframe tbody tr th:only-of-type {\n        vertical-align: middle;\n    }\n\n    .dataframe tbody tr th {\n        vertical-align: top;\n    }\n\n    .dataframe thead th {\n        text-align: right;\n    }\n</style>\n<table border=\"1\" class=\"dataframe\">\n  <thead>\n    <tr style=\"text-align: right;\">\n      <th></th>\n      <th>revenue</th>\n    </tr>\n    <tr>\n      <th>certification</th>\n      <th></th>\n    </tr>\n  </thead>\n  <tbody>\n    <tr>\n      <th>G</th>\n      <td>123,746,274.93</td>\n    </tr>\n    <tr>\n      <th>PG</th>\n      <td>109,533,845.75</td>\n    </tr>\n    <tr>\n      <th>PG-13</th>\n      <td>98,963,541.18</td>\n    </tr>\n    <tr>\n      <th>R</th>\n      <td>33,135,234.21</td>\n    </tr>\n    <tr>\n      <th></th>\n      <td>10,813,612.86</td>\n    </tr>\n    <tr>\n      <th>NR</th>\n      <td>9,588,674.35</td>\n    </tr>\n  </tbody>\n</table>\n</div>"
     },
     "execution_count": 10,
     "metadata": {},
     "output_type": "execute_result"
    }
   ],
   "source": [
    "data_budget[['certification', 'revenue']].groupby(by='certification').mean().sort_values(by='revenue',ascending=False)"
   ],
   "metadata": {
    "collapsed": false
   }
  },
  {
   "cell_type": "markdown",
   "source": [
    "### Average budget per certification category"
   ],
   "metadata": {
    "collapsed": false
   }
  },
  {
   "cell_type": "code",
   "execution_count": 11,
   "outputs": [
    {
     "data": {
      "text/plain": "                            budget\ncertification                     \nPG                   43,819,367.75\nPG-13                42,844,291.75\nG                    40,857,142.86\nR                    19,698,709.39\nNR                    6,302,358.47\n                      5,822,588.02",
      "text/html": "<div>\n<style scoped>\n    .dataframe tbody tr th:only-of-type {\n        vertical-align: middle;\n    }\n\n    .dataframe tbody tr th {\n        vertical-align: top;\n    }\n\n    .dataframe thead th {\n        text-align: right;\n    }\n</style>\n<table border=\"1\" class=\"dataframe\">\n  <thead>\n    <tr style=\"text-align: right;\">\n      <th></th>\n      <th>budget</th>\n    </tr>\n    <tr>\n      <th>certification</th>\n      <th></th>\n    </tr>\n  </thead>\n  <tbody>\n    <tr>\n      <th>PG</th>\n      <td>43,819,367.75</td>\n    </tr>\n    <tr>\n      <th>PG-13</th>\n      <td>42,844,291.75</td>\n    </tr>\n    <tr>\n      <th>G</th>\n      <td>40,857,142.86</td>\n    </tr>\n    <tr>\n      <th>R</th>\n      <td>19,698,709.39</td>\n    </tr>\n    <tr>\n      <th>NR</th>\n      <td>6,302,358.47</td>\n    </tr>\n    <tr>\n      <th></th>\n      <td>5,822,588.02</td>\n    </tr>\n  </tbody>\n</table>\n</div>"
     },
     "execution_count": 11,
     "metadata": {},
     "output_type": "execute_result"
    }
   ],
   "source": [
    "data_budget[['certification', 'budget']].groupby(by='certification').mean().sort_values(by='budget',ascending=False)\n"
   ],
   "metadata": {
    "collapsed": false
   }
  },
  {
   "cell_type": "code",
   "execution_count": 11,
   "outputs": [],
   "source": [],
   "metadata": {
    "collapsed": false
   }
  }
 ],
 "metadata": {
  "kernelspec": {
   "name": "dojo-env",
   "language": "python",
   "display_name": "Python (dojo-env)"
  },
  "language_info": {
   "codemirror_mode": {
    "name": "ipython",
    "version": 2
   },
   "file_extension": ".py",
   "mimetype": "text/x-python",
   "name": "python",
   "nbconvert_exporter": "python",
   "pygments_lexer": "ipython2",
   "version": "2.7.6"
  }
 },
 "nbformat": 4,
 "nbformat_minor": 0
}
