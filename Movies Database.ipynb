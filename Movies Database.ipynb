{
 "cells": [
  {
   "cell_type": "markdown",
   "source": [
    "# Movies Database Seach\n",
    "\n",
    "by Israel Diaz"
   ],
   "metadata": {
    "collapsed": false
   }
  },
  {
   "cell_type": "markdown",
   "source": [
    "### Load Libraries"
   ],
   "metadata": {
    "collapsed": false
   }
  },
  {
   "cell_type": "code",
   "execution_count": 1,
   "metadata": {
    "collapsed": true
   },
   "outputs": [],
   "source": [
    "## General Libraries\n",
    "import pandas as pd\n",
    "import numpy as np\n",
    "from matplotlib import pyplot as plt\n",
    "import seaborn as sns\n",
    "import warnings\n",
    "warnings.simplefilter('ignore')"
   ]
  },
  {
   "cell_type": "markdown",
   "source": [
    "### Loading DataFiles\n",
    "<h1>***Jump to section 2 if you already filtered and saved the data***</h1>"
   ],
   "metadata": {
    "collapsed": false
   }
  },
  {
   "cell_type": "code",
   "execution_count": 2,
   "outputs": [
    {
     "name": "stdout",
     "output_type": "stream",
     "text": [
      "CPU times: total: 50 s\n",
      "Wall time: 7min 38s\n"
     ]
    }
   ],
   "source": [
    "%%time\n",
    "title_basics = 'https://datasets.imdbws.com/title.basics.tsv.gz'\n",
    "title_aka = 'https://datasets.imdbws.com/title.akas.tsv.gz'\n",
    "title_ratings = 'https://datasets.imdbws.com/title.ratings.tsv.gz'\n",
    "\n",
    "## loading urls into pandas dataframe\n",
    "basics = pd.read_csv(title_basics, sep='\\t', low_memory='False')\n",
    "aka = pd.read_csv(title_aka, sep='\\t', low_memory='False')\n",
    "ratings = pd.read_csv(title_ratings, sep='\\t', low_memory='False')"
   ],
   "metadata": {
    "collapsed": false
   }
  },
  {
   "cell_type": "code",
   "execution_count": 3,
   "outputs": [
    {
     "name": "stdout",
     "output_type": "stream",
     "text": [
      "basics =  len: 9634768\n"
     ]
    },
    {
     "data": {
      "text/plain": "      tconst titleType            primaryTitle           originalTitle  \\\n0  tt0000001     short              Carmencita              Carmencita   \n1  tt0000002     short  Le clown et ses chiens  Le clown et ses chiens   \n2  tt0000003     short          Pauvre Pierrot          Pauvre Pierrot   \n3  tt0000004     short             Un bon bock             Un bon bock   \n4  tt0000005     short        Blacksmith Scene        Blacksmith Scene   \n\n  isAdult startYear endYear runtimeMinutes                    genres  \n0       0      1894      \\N              1         Documentary,Short  \n1       0      1892      \\N              5           Animation,Short  \n2       0      1892      \\N              4  Animation,Comedy,Romance  \n3       0      1892      \\N             12           Animation,Short  \n4       0      1893      \\N              1              Comedy,Short  ",
      "text/html": "<div>\n<style scoped>\n    .dataframe tbody tr th:only-of-type {\n        vertical-align: middle;\n    }\n\n    .dataframe tbody tr th {\n        vertical-align: top;\n    }\n\n    .dataframe thead th {\n        text-align: right;\n    }\n</style>\n<table border=\"1\" class=\"dataframe\">\n  <thead>\n    <tr style=\"text-align: right;\">\n      <th></th>\n      <th>tconst</th>\n      <th>titleType</th>\n      <th>primaryTitle</th>\n      <th>originalTitle</th>\n      <th>isAdult</th>\n      <th>startYear</th>\n      <th>endYear</th>\n      <th>runtimeMinutes</th>\n      <th>genres</th>\n    </tr>\n  </thead>\n  <tbody>\n    <tr>\n      <th>0</th>\n      <td>tt0000001</td>\n      <td>short</td>\n      <td>Carmencita</td>\n      <td>Carmencita</td>\n      <td>0</td>\n      <td>1894</td>\n      <td>\\N</td>\n      <td>1</td>\n      <td>Documentary,Short</td>\n    </tr>\n    <tr>\n      <th>1</th>\n      <td>tt0000002</td>\n      <td>short</td>\n      <td>Le clown et ses chiens</td>\n      <td>Le clown et ses chiens</td>\n      <td>0</td>\n      <td>1892</td>\n      <td>\\N</td>\n      <td>5</td>\n      <td>Animation,Short</td>\n    </tr>\n    <tr>\n      <th>2</th>\n      <td>tt0000003</td>\n      <td>short</td>\n      <td>Pauvre Pierrot</td>\n      <td>Pauvre Pierrot</td>\n      <td>0</td>\n      <td>1892</td>\n      <td>\\N</td>\n      <td>4</td>\n      <td>Animation,Comedy,Romance</td>\n    </tr>\n    <tr>\n      <th>3</th>\n      <td>tt0000004</td>\n      <td>short</td>\n      <td>Un bon bock</td>\n      <td>Un bon bock</td>\n      <td>0</td>\n      <td>1892</td>\n      <td>\\N</td>\n      <td>12</td>\n      <td>Animation,Short</td>\n    </tr>\n    <tr>\n      <th>4</th>\n      <td>tt0000005</td>\n      <td>short</td>\n      <td>Blacksmith Scene</td>\n      <td>Blacksmith Scene</td>\n      <td>0</td>\n      <td>1893</td>\n      <td>\\N</td>\n      <td>1</td>\n      <td>Comedy,Short</td>\n    </tr>\n  </tbody>\n</table>\n</div>"
     },
     "metadata": {},
     "output_type": "display_data"
    },
    {
     "name": "stdout",
     "output_type": "stream",
     "text": [
      "\n",
      "aka =  len: 35026517\n"
     ]
    },
    {
     "data": {
      "text/plain": "     titleId  ordering                      title region language  \\\n0  tt0000001         1                 Карменсіта     UA       \\N   \n1  tt0000001         2                 Carmencita     DE       \\N   \n2  tt0000001         3  Carmencita - spanyol tánc     HU       \\N   \n3  tt0000001         4                 Καρμενσίτα     GR       \\N   \n4  tt0000001         5                 Карменсита     RU       \\N   \n\n         types     attributes isOriginalTitle  \n0  imdbDisplay             \\N               0  \n1           \\N  literal title               0  \n2  imdbDisplay             \\N               0  \n3  imdbDisplay             \\N               0  \n4  imdbDisplay             \\N               0  ",
      "text/html": "<div>\n<style scoped>\n    .dataframe tbody tr th:only-of-type {\n        vertical-align: middle;\n    }\n\n    .dataframe tbody tr th {\n        vertical-align: top;\n    }\n\n    .dataframe thead th {\n        text-align: right;\n    }\n</style>\n<table border=\"1\" class=\"dataframe\">\n  <thead>\n    <tr style=\"text-align: right;\">\n      <th></th>\n      <th>titleId</th>\n      <th>ordering</th>\n      <th>title</th>\n      <th>region</th>\n      <th>language</th>\n      <th>types</th>\n      <th>attributes</th>\n      <th>isOriginalTitle</th>\n    </tr>\n  </thead>\n  <tbody>\n    <tr>\n      <th>0</th>\n      <td>tt0000001</td>\n      <td>1</td>\n      <td>Карменсіта</td>\n      <td>UA</td>\n      <td>\\N</td>\n      <td>imdbDisplay</td>\n      <td>\\N</td>\n      <td>0</td>\n    </tr>\n    <tr>\n      <th>1</th>\n      <td>tt0000001</td>\n      <td>2</td>\n      <td>Carmencita</td>\n      <td>DE</td>\n      <td>\\N</td>\n      <td>\\N</td>\n      <td>literal title</td>\n      <td>0</td>\n    </tr>\n    <tr>\n      <th>2</th>\n      <td>tt0000001</td>\n      <td>3</td>\n      <td>Carmencita - spanyol tánc</td>\n      <td>HU</td>\n      <td>\\N</td>\n      <td>imdbDisplay</td>\n      <td>\\N</td>\n      <td>0</td>\n    </tr>\n    <tr>\n      <th>3</th>\n      <td>tt0000001</td>\n      <td>4</td>\n      <td>Καρμενσίτα</td>\n      <td>GR</td>\n      <td>\\N</td>\n      <td>imdbDisplay</td>\n      <td>\\N</td>\n      <td>0</td>\n    </tr>\n    <tr>\n      <th>4</th>\n      <td>tt0000001</td>\n      <td>5</td>\n      <td>Карменсита</td>\n      <td>RU</td>\n      <td>\\N</td>\n      <td>imdbDisplay</td>\n      <td>\\N</td>\n      <td>0</td>\n    </tr>\n  </tbody>\n</table>\n</div>"
     },
     "metadata": {},
     "output_type": "display_data"
    },
    {
     "name": "stdout",
     "output_type": "stream",
     "text": [
      "\n",
      "ratings =  len: 1282624\n"
     ]
    },
    {
     "data": {
      "text/plain": "      tconst  averageRating  numVotes\n0  tt0000001            5.7      1953\n1  tt0000002            5.8       263\n2  tt0000003            6.5      1787\n3  tt0000004            5.6       179\n4  tt0000005            6.2      2589",
      "text/html": "<div>\n<style scoped>\n    .dataframe tbody tr th:only-of-type {\n        vertical-align: middle;\n    }\n\n    .dataframe tbody tr th {\n        vertical-align: top;\n    }\n\n    .dataframe thead th {\n        text-align: right;\n    }\n</style>\n<table border=\"1\" class=\"dataframe\">\n  <thead>\n    <tr style=\"text-align: right;\">\n      <th></th>\n      <th>tconst</th>\n      <th>averageRating</th>\n      <th>numVotes</th>\n    </tr>\n  </thead>\n  <tbody>\n    <tr>\n      <th>0</th>\n      <td>tt0000001</td>\n      <td>5.7</td>\n      <td>1953</td>\n    </tr>\n    <tr>\n      <th>1</th>\n      <td>tt0000002</td>\n      <td>5.8</td>\n      <td>263</td>\n    </tr>\n    <tr>\n      <th>2</th>\n      <td>tt0000003</td>\n      <td>6.5</td>\n      <td>1787</td>\n    </tr>\n    <tr>\n      <th>3</th>\n      <td>tt0000004</td>\n      <td>5.6</td>\n      <td>179</td>\n    </tr>\n    <tr>\n      <th>4</th>\n      <td>tt0000005</td>\n      <td>6.2</td>\n      <td>2589</td>\n    </tr>\n  </tbody>\n</table>\n</div>"
     },
     "metadata": {},
     "output_type": "display_data"
    }
   ],
   "source": [
    "print('basics = ', 'len:',len(basics))\n",
    "display(basics.head())\n",
    "print('\\naka = ', 'len:',len(aka))\n",
    "display(aka.head())\n",
    "print('\\nratings = ', 'len:',len(ratings))\n",
    "display(ratings.head())"
   ],
   "metadata": {
    "collapsed": false
   }
  },
  {
   "cell_type": "markdown",
   "source": [
    "### Data Cleaning"
   ],
   "metadata": {
    "collapsed": false
   }
  },
  {
   "cell_type": "markdown",
   "source": [
    "#### Replacing \\N with NaN"
   ],
   "metadata": {
    "collapsed": false
   }
  },
  {
   "cell_type": "markdown",
   "source": [
    "The data dictionary reports that the files shows null values as \\N, this would be an issue so it must be changed to NaN values."
   ],
   "metadata": {
    "collapsed": false
   }
  },
  {
   "cell_type": "code",
   "execution_count": 4,
   "outputs": [],
   "source": [
    "## Replacing the \\N values with NaN\n",
    "basics.replace({'\\\\N': np.nan}, inplace=True)\n",
    "aka.replace({'\\\\N': np.nan}, inplace=True)\n",
    "ratings.replace({'\\\\N': np.nan}, inplace=True)"
   ],
   "metadata": {
    "collapsed": false
   }
  },
  {
   "cell_type": "code",
   "execution_count": 5,
   "outputs": [
    {
     "name": "stdout",
     "output_type": "stream",
     "text": [
      "basics\n"
     ]
    },
    {
     "data": {
      "text/plain": "      tconst titleType            primaryTitle           originalTitle  \\\n0  tt0000001     short              Carmencita              Carmencita   \n1  tt0000002     short  Le clown et ses chiens  Le clown et ses chiens   \n2  tt0000003     short          Pauvre Pierrot          Pauvre Pierrot   \n3  tt0000004     short             Un bon bock             Un bon bock   \n4  tt0000005     short        Blacksmith Scene        Blacksmith Scene   \n\n  isAdult startYear endYear runtimeMinutes                    genres  \n0       0      1894     NaN              1         Documentary,Short  \n1       0      1892     NaN              5           Animation,Short  \n2       0      1892     NaN              4  Animation,Comedy,Romance  \n3       0      1892     NaN             12           Animation,Short  \n4       0      1893     NaN              1              Comedy,Short  ",
      "text/html": "<div>\n<style scoped>\n    .dataframe tbody tr th:only-of-type {\n        vertical-align: middle;\n    }\n\n    .dataframe tbody tr th {\n        vertical-align: top;\n    }\n\n    .dataframe thead th {\n        text-align: right;\n    }\n</style>\n<table border=\"1\" class=\"dataframe\">\n  <thead>\n    <tr style=\"text-align: right;\">\n      <th></th>\n      <th>tconst</th>\n      <th>titleType</th>\n      <th>primaryTitle</th>\n      <th>originalTitle</th>\n      <th>isAdult</th>\n      <th>startYear</th>\n      <th>endYear</th>\n      <th>runtimeMinutes</th>\n      <th>genres</th>\n    </tr>\n  </thead>\n  <tbody>\n    <tr>\n      <th>0</th>\n      <td>tt0000001</td>\n      <td>short</td>\n      <td>Carmencita</td>\n      <td>Carmencita</td>\n      <td>0</td>\n      <td>1894</td>\n      <td>NaN</td>\n      <td>1</td>\n      <td>Documentary,Short</td>\n    </tr>\n    <tr>\n      <th>1</th>\n      <td>tt0000002</td>\n      <td>short</td>\n      <td>Le clown et ses chiens</td>\n      <td>Le clown et ses chiens</td>\n      <td>0</td>\n      <td>1892</td>\n      <td>NaN</td>\n      <td>5</td>\n      <td>Animation,Short</td>\n    </tr>\n    <tr>\n      <th>2</th>\n      <td>tt0000003</td>\n      <td>short</td>\n      <td>Pauvre Pierrot</td>\n      <td>Pauvre Pierrot</td>\n      <td>0</td>\n      <td>1892</td>\n      <td>NaN</td>\n      <td>4</td>\n      <td>Animation,Comedy,Romance</td>\n    </tr>\n    <tr>\n      <th>3</th>\n      <td>tt0000004</td>\n      <td>short</td>\n      <td>Un bon bock</td>\n      <td>Un bon bock</td>\n      <td>0</td>\n      <td>1892</td>\n      <td>NaN</td>\n      <td>12</td>\n      <td>Animation,Short</td>\n    </tr>\n    <tr>\n      <th>4</th>\n      <td>tt0000005</td>\n      <td>short</td>\n      <td>Blacksmith Scene</td>\n      <td>Blacksmith Scene</td>\n      <td>0</td>\n      <td>1893</td>\n      <td>NaN</td>\n      <td>1</td>\n      <td>Comedy,Short</td>\n    </tr>\n  </tbody>\n</table>\n</div>"
     },
     "metadata": {},
     "output_type": "display_data"
    },
    {
     "name": "stdout",
     "output_type": "stream",
     "text": [
      "\n",
      "aka\n"
     ]
    },
    {
     "data": {
      "text/plain": "     titleId  ordering                      title region language  \\\n0  tt0000001         1                 Карменсіта     UA      NaN   \n1  tt0000001         2                 Carmencita     DE      NaN   \n2  tt0000001         3  Carmencita - spanyol tánc     HU      NaN   \n3  tt0000001         4                 Καρμενσίτα     GR      NaN   \n4  tt0000001         5                 Карменсита     RU      NaN   \n\n         types     attributes isOriginalTitle  \n0  imdbDisplay            NaN               0  \n1          NaN  literal title               0  \n2  imdbDisplay            NaN               0  \n3  imdbDisplay            NaN               0  \n4  imdbDisplay            NaN               0  ",
      "text/html": "<div>\n<style scoped>\n    .dataframe tbody tr th:only-of-type {\n        vertical-align: middle;\n    }\n\n    .dataframe tbody tr th {\n        vertical-align: top;\n    }\n\n    .dataframe thead th {\n        text-align: right;\n    }\n</style>\n<table border=\"1\" class=\"dataframe\">\n  <thead>\n    <tr style=\"text-align: right;\">\n      <th></th>\n      <th>titleId</th>\n      <th>ordering</th>\n      <th>title</th>\n      <th>region</th>\n      <th>language</th>\n      <th>types</th>\n      <th>attributes</th>\n      <th>isOriginalTitle</th>\n    </tr>\n  </thead>\n  <tbody>\n    <tr>\n      <th>0</th>\n      <td>tt0000001</td>\n      <td>1</td>\n      <td>Карменсіта</td>\n      <td>UA</td>\n      <td>NaN</td>\n      <td>imdbDisplay</td>\n      <td>NaN</td>\n      <td>0</td>\n    </tr>\n    <tr>\n      <th>1</th>\n      <td>tt0000001</td>\n      <td>2</td>\n      <td>Carmencita</td>\n      <td>DE</td>\n      <td>NaN</td>\n      <td>NaN</td>\n      <td>literal title</td>\n      <td>0</td>\n    </tr>\n    <tr>\n      <th>2</th>\n      <td>tt0000001</td>\n      <td>3</td>\n      <td>Carmencita - spanyol tánc</td>\n      <td>HU</td>\n      <td>NaN</td>\n      <td>imdbDisplay</td>\n      <td>NaN</td>\n      <td>0</td>\n    </tr>\n    <tr>\n      <th>3</th>\n      <td>tt0000001</td>\n      <td>4</td>\n      <td>Καρμενσίτα</td>\n      <td>GR</td>\n      <td>NaN</td>\n      <td>imdbDisplay</td>\n      <td>NaN</td>\n      <td>0</td>\n    </tr>\n    <tr>\n      <th>4</th>\n      <td>tt0000001</td>\n      <td>5</td>\n      <td>Карменсита</td>\n      <td>RU</td>\n      <td>NaN</td>\n      <td>imdbDisplay</td>\n      <td>NaN</td>\n      <td>0</td>\n    </tr>\n  </tbody>\n</table>\n</div>"
     },
     "metadata": {},
     "output_type": "display_data"
    },
    {
     "name": "stdout",
     "output_type": "stream",
     "text": [
      "\n",
      "ratings\n"
     ]
    },
    {
     "data": {
      "text/plain": "      tconst  averageRating  numVotes\n0  tt0000001            5.7      1953\n1  tt0000002            5.8       263\n2  tt0000003            6.5      1787\n3  tt0000004            5.6       179\n4  tt0000005            6.2      2589",
      "text/html": "<div>\n<style scoped>\n    .dataframe tbody tr th:only-of-type {\n        vertical-align: middle;\n    }\n\n    .dataframe tbody tr th {\n        vertical-align: top;\n    }\n\n    .dataframe thead th {\n        text-align: right;\n    }\n</style>\n<table border=\"1\" class=\"dataframe\">\n  <thead>\n    <tr style=\"text-align: right;\">\n      <th></th>\n      <th>tconst</th>\n      <th>averageRating</th>\n      <th>numVotes</th>\n    </tr>\n  </thead>\n  <tbody>\n    <tr>\n      <th>0</th>\n      <td>tt0000001</td>\n      <td>5.7</td>\n      <td>1953</td>\n    </tr>\n    <tr>\n      <th>1</th>\n      <td>tt0000002</td>\n      <td>5.8</td>\n      <td>263</td>\n    </tr>\n    <tr>\n      <th>2</th>\n      <td>tt0000003</td>\n      <td>6.5</td>\n      <td>1787</td>\n    </tr>\n    <tr>\n      <th>3</th>\n      <td>tt0000004</td>\n      <td>5.6</td>\n      <td>179</td>\n    </tr>\n    <tr>\n      <th>4</th>\n      <td>tt0000005</td>\n      <td>6.2</td>\n      <td>2589</td>\n    </tr>\n  </tbody>\n</table>\n</div>"
     },
     "metadata": {},
     "output_type": "display_data"
    }
   ],
   "source": [
    "print('basics')\n",
    "display(basics.head())\n",
    "print('\\naka')\n",
    "display(aka.head())\n",
    "print('\\nratings')\n",
    "display(ratings.head())"
   ],
   "metadata": {
    "collapsed": false
   }
  },
  {
   "cell_type": "markdown",
   "source": [
    "#### Eliminate runtimeMinute = Null"
   ],
   "metadata": {
    "collapsed": false
   }
  },
  {
   "cell_type": "code",
   "execution_count": 6,
   "outputs": [],
   "source": [
    "basics.dropna(subset=['runtimeMinutes', 'genres'], axis=0, inplace=True)"
   ],
   "metadata": {
    "collapsed": false
   }
  },
  {
   "cell_type": "markdown",
   "source": [
    "#### Keeping only titleType = movie"
   ],
   "metadata": {
    "collapsed": false
   }
  },
  {
   "cell_type": "code",
   "execution_count": 7,
   "outputs": [],
   "source": [
    "basics = basics[basics['titleType'] == 'movie']"
   ],
   "metadata": {
    "collapsed": false
   }
  },
  {
   "cell_type": "markdown",
   "source": [
    "#### Keeping startYear between 2000-2002"
   ],
   "metadata": {
    "collapsed": false
   }
  },
  {
   "cell_type": "code",
   "execution_count": 8,
   "outputs": [],
   "source": [
    "basics = basics[(basics['startYear'] >= '2000') & (basics['startYear'] < '2023')]"
   ],
   "metadata": {
    "collapsed": false
   }
  },
  {
   "cell_type": "markdown",
   "source": [
    "#### Dropping movies that contain documentaries"
   ],
   "metadata": {
    "collapsed": false
   }
  },
  {
   "cell_type": "code",
   "execution_count": 9,
   "outputs": [
    {
     "data": {
      "text/plain": "           tconst titleType  \\\n34803   tt0035423     movie   \n61116   tt0062336     movie   \n67669   tt0069049     movie   \n77964   tt0079644     movie   \n86801   tt0088751     movie   \n87114   tt0089067     movie   \n90917   tt0092960     movie   \n93938   tt0096056     movie   \n98043   tt0100275     movie   \n100076  tt0102362     movie   \n\n                                             primaryTitle  \\\n34803                                      Kate & Leopold   \n61116   The Tango of the Widower and Its Distorting Mi...   \n67669                          The Other Side of the Wind   \n77964                                       November 1828   \n86801                                   The Naked Monster   \n87114                           El día de los albañiles 2   \n90917                                       En tres y dos   \n93938                                Crime and Punishment   \n98043                            The Wandering Soap Opera   \n100076                                             Istota   \n\n                                    originalTitle isAdult startYear endYear  \\\n34803                              Kate & Leopold       0      2001     NaN   \n61116   El tango del viudo y su espejo deformante       0      2020     NaN   \n67669                  The Other Side of the Wind       0      2018     NaN   \n77964                               November 1828       0      2001     NaN   \n86801                           The Naked Monster       0      2005     NaN   \n87114                   El día de los albañiles 2       0      2001     NaN   \n90917                               En tres y dos       0      2004     NaN   \n93938                        Crime and Punishment       0      2002     NaN   \n98043                       La telenovela errante       0      2017     NaN   \n100076                                     Istota       0      2000     NaN   \n\n       runtimeMinutes                  genres  \n34803             118  Comedy,Fantasy,Romance  \n61116              70                   Drama  \n67669             122                   Drama  \n77964             140               Drama,War  \n86801             100    Comedy,Horror,Sci-Fi  \n87114              90                  Comedy  \n90917             102                   Drama  \n93938             126                   Drama  \n98043              80    Comedy,Drama,Fantasy  \n100076             80           Drama,Romance  ",
      "text/html": "<div>\n<style scoped>\n    .dataframe tbody tr th:only-of-type {\n        vertical-align: middle;\n    }\n\n    .dataframe tbody tr th {\n        vertical-align: top;\n    }\n\n    .dataframe thead th {\n        text-align: right;\n    }\n</style>\n<table border=\"1\" class=\"dataframe\">\n  <thead>\n    <tr style=\"text-align: right;\">\n      <th></th>\n      <th>tconst</th>\n      <th>titleType</th>\n      <th>primaryTitle</th>\n      <th>originalTitle</th>\n      <th>isAdult</th>\n      <th>startYear</th>\n      <th>endYear</th>\n      <th>runtimeMinutes</th>\n      <th>genres</th>\n    </tr>\n  </thead>\n  <tbody>\n    <tr>\n      <th>34803</th>\n      <td>tt0035423</td>\n      <td>movie</td>\n      <td>Kate &amp; Leopold</td>\n      <td>Kate &amp; Leopold</td>\n      <td>0</td>\n      <td>2001</td>\n      <td>NaN</td>\n      <td>118</td>\n      <td>Comedy,Fantasy,Romance</td>\n    </tr>\n    <tr>\n      <th>61116</th>\n      <td>tt0062336</td>\n      <td>movie</td>\n      <td>The Tango of the Widower and Its Distorting Mi...</td>\n      <td>El tango del viudo y su espejo deformante</td>\n      <td>0</td>\n      <td>2020</td>\n      <td>NaN</td>\n      <td>70</td>\n      <td>Drama</td>\n    </tr>\n    <tr>\n      <th>67669</th>\n      <td>tt0069049</td>\n      <td>movie</td>\n      <td>The Other Side of the Wind</td>\n      <td>The Other Side of the Wind</td>\n      <td>0</td>\n      <td>2018</td>\n      <td>NaN</td>\n      <td>122</td>\n      <td>Drama</td>\n    </tr>\n    <tr>\n      <th>77964</th>\n      <td>tt0079644</td>\n      <td>movie</td>\n      <td>November 1828</td>\n      <td>November 1828</td>\n      <td>0</td>\n      <td>2001</td>\n      <td>NaN</td>\n      <td>140</td>\n      <td>Drama,War</td>\n    </tr>\n    <tr>\n      <th>86801</th>\n      <td>tt0088751</td>\n      <td>movie</td>\n      <td>The Naked Monster</td>\n      <td>The Naked Monster</td>\n      <td>0</td>\n      <td>2005</td>\n      <td>NaN</td>\n      <td>100</td>\n      <td>Comedy,Horror,Sci-Fi</td>\n    </tr>\n    <tr>\n      <th>87114</th>\n      <td>tt0089067</td>\n      <td>movie</td>\n      <td>El día de los albañiles 2</td>\n      <td>El día de los albañiles 2</td>\n      <td>0</td>\n      <td>2001</td>\n      <td>NaN</td>\n      <td>90</td>\n      <td>Comedy</td>\n    </tr>\n    <tr>\n      <th>90917</th>\n      <td>tt0092960</td>\n      <td>movie</td>\n      <td>En tres y dos</td>\n      <td>En tres y dos</td>\n      <td>0</td>\n      <td>2004</td>\n      <td>NaN</td>\n      <td>102</td>\n      <td>Drama</td>\n    </tr>\n    <tr>\n      <th>93938</th>\n      <td>tt0096056</td>\n      <td>movie</td>\n      <td>Crime and Punishment</td>\n      <td>Crime and Punishment</td>\n      <td>0</td>\n      <td>2002</td>\n      <td>NaN</td>\n      <td>126</td>\n      <td>Drama</td>\n    </tr>\n    <tr>\n      <th>98043</th>\n      <td>tt0100275</td>\n      <td>movie</td>\n      <td>The Wandering Soap Opera</td>\n      <td>La telenovela errante</td>\n      <td>0</td>\n      <td>2017</td>\n      <td>NaN</td>\n      <td>80</td>\n      <td>Comedy,Drama,Fantasy</td>\n    </tr>\n    <tr>\n      <th>100076</th>\n      <td>tt0102362</td>\n      <td>movie</td>\n      <td>Istota</td>\n      <td>Istota</td>\n      <td>0</td>\n      <td>2000</td>\n      <td>NaN</td>\n      <td>80</td>\n      <td>Drama,Romance</td>\n    </tr>\n  </tbody>\n</table>\n</div>"
     },
     "execution_count": 9,
     "metadata": {},
     "output_type": "execute_result"
    }
   ],
   "source": [
    "## filtering movies that contain documentaries in genres\n",
    "is_documentary = basics['genres'].str.contains('documentary', case=False)\n",
    "##saving\n",
    "basics = basics[~is_documentary]\n",
    "## showing results\n",
    "basics.head(10)"
   ],
   "metadata": {
    "collapsed": false
   }
  },
  {
   "cell_type": "markdown",
   "source": [
    "#### Keeping only US movies"
   ],
   "metadata": {
    "collapsed": false
   }
  },
  {
   "cell_type": "code",
   "execution_count": 10,
   "outputs": [],
   "source": [
    "aka = aka[aka['region'] == 'US']"
   ],
   "metadata": {
    "collapsed": false
   }
  },
  {
   "cell_type": "markdown",
   "source": [
    "Applying to all other sets"
   ],
   "metadata": {
    "collapsed": false
   }
  },
  {
   "cell_type": "code",
   "execution_count": 11,
   "outputs": [
    {
     "data": {
      "text/plain": "34803      True\n61116      True\n67669      True\n77964     False\n86801      True\n87114     False\n90917     False\n93938      True\n98043      True\n100076    False\nName: tconst, dtype: bool"
     },
     "execution_count": 11,
     "metadata": {},
     "output_type": "execute_result"
    }
   ],
   "source": [
    "# Filtering basics\n",
    "us_movies = basics['tconst'].isin(aka['titleId'])\n",
    "# results\n",
    "us_movies[:10]"
   ],
   "metadata": {
    "collapsed": false
   }
  },
  {
   "cell_type": "code",
   "execution_count": 12,
   "outputs": [],
   "source": [
    "#Apply to the basics set\n",
    "basics = basics[us_movies]"
   ],
   "metadata": {
    "collapsed": false
   }
  },
  {
   "cell_type": "code",
   "execution_count": 13,
   "outputs": [
    {
     "data": {
      "text/plain": "0     True\n1     True\n2    False\n3    False\n4     True\n5     True\n6     True\n7     True\n8     True\n9     True\nName: tconst, dtype: bool"
     },
     "execution_count": 13,
     "metadata": {},
     "output_type": "execute_result"
    }
   ],
   "source": [
    "## filtering ratings\n",
    "us_ratings = ratings['tconst'].isin(aka['titleId'])\n",
    "# results\n",
    "us_ratings[:10]"
   ],
   "metadata": {
    "collapsed": false
   }
  },
  {
   "cell_type": "code",
   "execution_count": 14,
   "outputs": [],
   "source": [
    "## Apply to ratings se\n",
    "ratings = ratings[us_ratings]"
   ],
   "metadata": {
    "collapsed": false
   }
  },
  {
   "cell_type": "markdown",
   "source": [
    "## Saving DataFrames"
   ],
   "metadata": {
    "collapsed": false
   }
  },
  {
   "cell_type": "code",
   "execution_count": 15,
   "outputs": [
    {
     "data": {
      "text/plain": "['basics.csv.gz', 'aka.csv.gz', 'ratings.csv.gz']"
     },
     "execution_count": 15,
     "metadata": {},
     "output_type": "execute_result"
    }
   ],
   "source": [
    "import os\n",
    "os.makedirs('data/', exist_ok=True)\n",
    "os.listdir('data/')"
   ],
   "metadata": {
    "collapsed": false
   }
  },
  {
   "cell_type": "code",
   "execution_count": 16,
   "outputs": [],
   "source": [
    "## saving basics to compressed file\n",
    "basics.to_csv(\"data/basics.csv.gz\",compression='gzip',index=False)\n",
    "## saving aka to compressed file\n",
    "aka.to_csv(\"data/aka.csv.gz\",compression='gzip',index=False)\n",
    "## saving ratings to compressed file\n",
    "ratings.to_csv(\"data/ratings.csv.gz\",compression='gzip',index=False)"
   ],
   "metadata": {
    "collapsed": false
   }
  },
  {
   "cell_type": "markdown",
   "source": [
    "<h1>Start here if you have the files in data folder</h1>"
   ],
   "metadata": {
    "collapsed": false
   }
  },
  {
   "cell_type": "markdown",
   "source": [
    "#### Loading data"
   ],
   "metadata": {
    "collapsed": false
   }
  },
  {
   "cell_type": "code",
   "execution_count": 17,
   "outputs": [
    {
     "data": {
      "text/plain": "      tconst titleType                                       primaryTitle  \\\n0  tt0035423     movie                                     Kate & Leopold   \n1  tt0062336     movie  The Tango of the Widower and Its Distorting Mi...   \n2  tt0069049     movie                         The Other Side of the Wind   \n3  tt0088751     movie                                  The Naked Monster   \n4  tt0096056     movie                               Crime and Punishment   \n\n                               originalTitle  isAdult  startYear  endYear  \\\n0                             Kate & Leopold        0       2001      NaN   \n1  El tango del viudo y su espejo deformante        0       2020      NaN   \n2                 The Other Side of the Wind        0       2018      NaN   \n3                          The Naked Monster        0       2005      NaN   \n4                       Crime and Punishment        0       2002      NaN   \n\n   runtimeMinutes                  genres  \n0             118  Comedy,Fantasy,Romance  \n1              70                   Drama  \n2             122                   Drama  \n3             100    Comedy,Horror,Sci-Fi  \n4             126                   Drama  ",
      "text/html": "<div>\n<style scoped>\n    .dataframe tbody tr th:only-of-type {\n        vertical-align: middle;\n    }\n\n    .dataframe tbody tr th {\n        vertical-align: top;\n    }\n\n    .dataframe thead th {\n        text-align: right;\n    }\n</style>\n<table border=\"1\" class=\"dataframe\">\n  <thead>\n    <tr style=\"text-align: right;\">\n      <th></th>\n      <th>tconst</th>\n      <th>titleType</th>\n      <th>primaryTitle</th>\n      <th>originalTitle</th>\n      <th>isAdult</th>\n      <th>startYear</th>\n      <th>endYear</th>\n      <th>runtimeMinutes</th>\n      <th>genres</th>\n    </tr>\n  </thead>\n  <tbody>\n    <tr>\n      <th>0</th>\n      <td>tt0035423</td>\n      <td>movie</td>\n      <td>Kate &amp; Leopold</td>\n      <td>Kate &amp; Leopold</td>\n      <td>0</td>\n      <td>2001</td>\n      <td>NaN</td>\n      <td>118</td>\n      <td>Comedy,Fantasy,Romance</td>\n    </tr>\n    <tr>\n      <th>1</th>\n      <td>tt0062336</td>\n      <td>movie</td>\n      <td>The Tango of the Widower and Its Distorting Mi...</td>\n      <td>El tango del viudo y su espejo deformante</td>\n      <td>0</td>\n      <td>2020</td>\n      <td>NaN</td>\n      <td>70</td>\n      <td>Drama</td>\n    </tr>\n    <tr>\n      <th>2</th>\n      <td>tt0069049</td>\n      <td>movie</td>\n      <td>The Other Side of the Wind</td>\n      <td>The Other Side of the Wind</td>\n      <td>0</td>\n      <td>2018</td>\n      <td>NaN</td>\n      <td>122</td>\n      <td>Drama</td>\n    </tr>\n    <tr>\n      <th>3</th>\n      <td>tt0088751</td>\n      <td>movie</td>\n      <td>The Naked Monster</td>\n      <td>The Naked Monster</td>\n      <td>0</td>\n      <td>2005</td>\n      <td>NaN</td>\n      <td>100</td>\n      <td>Comedy,Horror,Sci-Fi</td>\n    </tr>\n    <tr>\n      <th>4</th>\n      <td>tt0096056</td>\n      <td>movie</td>\n      <td>Crime and Punishment</td>\n      <td>Crime and Punishment</td>\n      <td>0</td>\n      <td>2002</td>\n      <td>NaN</td>\n      <td>126</td>\n      <td>Drama</td>\n    </tr>\n  </tbody>\n</table>\n</div>"
     },
     "execution_count": 17,
     "metadata": {},
     "output_type": "execute_result"
    }
   ],
   "source": [
    "basics = pd.read_csv('data/basics.csv.gz', low_memory=False)\n",
    "aka = pd.read_csv('data/aka.csv.gz', low_memory=False)\n",
    "ratings = pd.read_csv('data/ratings.csv.gz', low_memory=False)\n",
    "basics.head()"
   ],
   "metadata": {
    "collapsed": false
   }
  },
  {
   "cell_type": "code",
   "execution_count": 18,
   "outputs": [
    {
     "name": "stdout",
     "output_type": "stream",
     "text": [
      "MOVIES DATA:\n",
      "<class 'pandas.core.frame.DataFrame'>\n",
      "RangeIndex: 85575 entries, 0 to 85574\n",
      "Data columns (total 9 columns):\n",
      " #   Column          Non-Null Count  Dtype  \n",
      "---  ------          --------------  -----  \n",
      " 0   tconst          85575 non-null  object \n",
      " 1   titleType       85575 non-null  object \n",
      " 2   primaryTitle    85575 non-null  object \n",
      " 3   originalTitle   85575 non-null  object \n",
      " 4   isAdult         85575 non-null  int64  \n",
      " 5   startYear       85575 non-null  int64  \n",
      " 6   endYear         0 non-null      float64\n",
      " 7   runtimeMinutes  85575 non-null  int64  \n",
      " 8   genres          85575 non-null  object \n",
      "dtypes: float64(1), int64(3), object(5)\n",
      "memory usage: 5.9+ MB\n"
     ]
    },
    {
     "data": {
      "text/plain": "None"
     },
     "metadata": {},
     "output_type": "display_data"
    }
   ],
   "source": [
    "## Showing Info\n",
    "print(f'MOVIES DATA:')\n",
    "display(basics.info())"
   ],
   "metadata": {
    "collapsed": false
   }
  },
  {
   "cell_type": "code",
   "execution_count": 19,
   "outputs": [
    {
     "name": "stdout",
     "output_type": "stream",
     "text": [
      "AKA DATA:\n",
      "<class 'pandas.core.frame.DataFrame'>\n",
      "RangeIndex: 1416568 entries, 0 to 1416567\n",
      "Data columns (total 8 columns):\n",
      " #   Column           Non-Null Count    Dtype  \n",
      "---  ------           --------------    -----  \n",
      " 0   titleId          1416568 non-null  object \n",
      " 1   ordering         1416568 non-null  int64  \n",
      " 2   title            1416568 non-null  object \n",
      " 3   region           1416568 non-null  object \n",
      " 4   language         3833 non-null     object \n",
      " 5   types            974118 non-null   object \n",
      " 6   attributes       46043 non-null    object \n",
      " 7   isOriginalTitle  1415223 non-null  float64\n",
      "dtypes: float64(1), int64(1), object(6)\n",
      "memory usage: 86.5+ MB\n"
     ]
    },
    {
     "data": {
      "text/plain": "None"
     },
     "metadata": {},
     "output_type": "display_data"
    }
   ],
   "source": [
    "print(f'AKA DATA:')\n",
    "display(aka.info())"
   ],
   "metadata": {
    "collapsed": false
   }
  },
  {
   "cell_type": "code",
   "execution_count": 20,
   "outputs": [
    {
     "name": "stdout",
     "output_type": "stream",
     "text": [
      "RATINGS DATA:\n",
      "<class 'pandas.core.frame.DataFrame'>\n",
      "RangeIndex: 489933 entries, 0 to 489932\n",
      "Data columns (total 3 columns):\n",
      " #   Column         Non-Null Count   Dtype  \n",
      "---  ------         --------------   -----  \n",
      " 0   tconst         489933 non-null  object \n",
      " 1   averageRating  489933 non-null  float64\n",
      " 2   numVotes       489933 non-null  int64  \n",
      "dtypes: float64(1), int64(1), object(1)\n",
      "memory usage: 11.2+ MB\n"
     ]
    },
    {
     "data": {
      "text/plain": "None"
     },
     "metadata": {},
     "output_type": "display_data"
    }
   ],
   "source": [
    "print(f'RATINGS DATA:')\n",
    "display(ratings.info())"
   ],
   "metadata": {
    "collapsed": false
   }
  }
 ],
 "metadata": {
  "kernelspec": {
   "display_name": "Python 3",
   "language": "python",
   "name": "python3"
  },
  "language_info": {
   "codemirror_mode": {
    "name": "ipython",
    "version": 2
   },
   "file_extension": ".py",
   "mimetype": "text/x-python",
   "name": "python",
   "nbconvert_exporter": "python",
   "pygments_lexer": "ipython2",
   "version": "2.7.6"
  }
 },
 "nbformat": 4,
 "nbformat_minor": 0
}
