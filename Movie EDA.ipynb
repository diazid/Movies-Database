{
 "cells": [
  {
   "cell_type": "markdown",
   "source": [
    "# Movies: Explortory Data Analysis\n",
    "\n",
    "by Israel Diaz"
   ],
   "metadata": {
    "collapsed": false
   }
  },
  {
   "cell_type": "markdown",
   "source": [
    "## Data Description"
   ],
   "metadata": {
    "collapsed": false
   }
  },
  {
   "cell_type": "markdown",
   "source": [
    "The data correspond to the one downloaded from [IMDB source](https://datasets.imdbws.com/).\n",
    "\n",
    "**IMDb Dataset Details**\n",
    "\n",
    "Each dataset is contained in a gzipped, tab-separated-values (TSV) formatted file in the UTF-8 character set. The first line in each file contains headers that describe what is in each column. A ‘\\N’ is used to denote that a particular field is missing or null for that title/name. The available datasets are as follows:\n",
    "\n",
    "**title.akas.tsv.gz** - Contains the following information for titles:\n",
    "\n",
    "* titleId (string) - a tconst, an alphanumeric unique identifier of the title\n",
    "* ordering (integer) – a number to uniquely identify rows for a given titleId\n",
    "* title (string) – the localized title\n",
    "* region (string) - the region for this version of the title\n",
    "* language (string) - the language of the title\n",
    "* types (array) - Enumerated set of attributes for this alternative title. One or more of the following: \"alternative\", \"dvd\", \"festival\", \"tv\", \"video\", \"working\", \"original\", \"imdbDisplay\". New values may be added in the future without warning\n",
    "* attributes (array) - Additional terms to describe this alternative title, not enumerated\n",
    "* isOriginalTitle (boolean) – 0: not original title; 1: original title\n",
    "\n",
    "**title.basics.tsv.gz** - Contains the following information for titles:\n",
    "\n",
    "* tconst (string) - alphanumeric unique identifier of the title\n",
    "* titleType (string) – the type/format of the title (e.g. movie, short, tvseries, tvepisode, video, etc)\n",
    "* primaryTitle (string) – the more popular title / the title used by the filmmakers on promotional materials at the point of release\n",
    "* originalTitle (string) - original title, in the original language\n",
    "* isAdult (boolean) - 0: non-adult title; 1: adult title\n",
    "* startYear (YYYY) – represents the release year of a title. In the case of TV Series, it is the series start year\n",
    "* endYear (YYYY) – TV Series end year. ‘\\N’ for all other title types\n",
    "* runtimeMinutes – primary runtime of the title, in minutes\n",
    "* genres (string array) – includes up to three genres associated with the title\n",
    "\n",
    "**title.ratings.tsv.gz** – Contains the IMDb rating and votes information for titles\n",
    "\n",
    "* tconst (string) - alphanumeric unique identifier of the title\n",
    "* averageRating – weighted average of all the individual user ratings\n",
    "* numVotes - number of votes the title has received"
   ],
   "metadata": {
    "collapsed": false
   }
  },
  {
   "cell_type": "markdown",
   "source": [
    "## Loading Data"
   ],
   "metadata": {
    "collapsed": false
   }
  },
  {
   "cell_type": "markdown",
   "source": [
    "### Import Libraries"
   ],
   "metadata": {
    "collapsed": false
   }
  },
  {
   "cell_type": "code",
   "execution_count": 2,
   "metadata": {
    "collapsed": true
   },
   "outputs": [],
   "source": [
    "## General\n",
    "import pandas as pd\n",
    "import numpy as np\n",
    "import matplotlib.pyplot as plt\n",
    "import seaborn as sns\n",
    "import warnings\n",
    "warnings.simplefilter('ignore')\n"
   ]
  },
  {
   "cell_type": "markdown",
   "source": [
    "### Load Data"
   ],
   "metadata": {
    "collapsed": false
   }
  },
  {
   "cell_type": "markdown",
   "source": [
    "For Now, I will explore data from year 2000"
   ],
   "metadata": {
    "collapsed": false
   }
  },
  {
   "cell_type": "code",
   "execution_count": 3,
   "outputs": [],
   "source": [
    "FOLDER = 'data/'"
   ],
   "metadata": {
    "collapsed": false
   }
  },
  {
   "cell_type": "code",
   "execution_count": 11,
   "outputs": [],
   "source": [
    "data = pd.read_json(path_or_buf=FOLDER + 'tmdb_api_results_2000.json')"
   ],
   "metadata": {
    "collapsed": false
   }
  },
  {
   "cell_type": "code",
   "execution_count": 12,
   "outputs": [
    {
     "data": {
      "text/plain": "     imdb_id  adult                     backdrop_path belongs_to_collection  \\\n0          0    NaN                               NaN                   NaN   \n1  tt0113026    0.0  /vMFs7nw6P0bIV1jDsQpxAieAVnH.jpg                  None   \n2  tt0113092    0.0                              None                  None   \n3  tt0116391    0.0                              None                  None   \n4  tt0118694    0.0  /n4GJFGzsc7NinI1VeGDXIcQjtU2.jpg                  None   \n\n       budget                                             genres homepage  \\\n0         NaN                                                NaN      NaN   \n1  10000000.0  [{'id': 35, 'name': 'Comedy'}, {'id': 10402, '...            \n2         0.0           [{'id': 878, 'name': 'Science Fiction'}]            \n3         0.0  [{'id': 18, 'name': 'Drama'}, {'id': 28, 'name...            \n4    150000.0  [{'id': 18, 'name': 'Drama'}, {'id': 10749, 'n...            \n\n         id original_language   original_title  ...     revenue  runtime  \\\n0       NaN               NaN              NaN  ...         NaN      NaN   \n1   62127.0                en  The Fantasticks  ...         0.0     86.0   \n2  110977.0                en    For the Cause  ...         0.0    100.0   \n3  442869.0                hi             Gang  ...         0.0    152.0   \n4     843.0                cn             花樣年華  ...  12854953.0     99.0   \n\n                                    spoken_languages    status  \\\n0                                                NaN       NaN   \n1  [{'english_name': 'English', 'iso_639_1': 'en'...  Released   \n2  [{'english_name': 'English', 'iso_639_1': 'en'...  Released   \n3  [{'english_name': 'Hindi', 'iso_639_1': 'hi', ...  Released   \n4  [{'english_name': 'Cantonese', 'iso_639_1': 'c...  Released   \n\n                                             tagline                 title  \\\n0                                                NaN                   NaN   \n1      Try to remember the first time magic happened       The Fantasticks   \n2       The ultimate showdown on a forbidden planet.         For the Cause   \n3                                                                     Gang   \n4  Feel the heat, keep the feeling burning, let t...  In the Mood for Love   \n\n   video  vote_average vote_count certification  \n0    NaN           NaN        NaN           NaN  \n1    0.0         5.500       22.0                \n2    0.0         5.100        8.0                \n3    0.0         4.000        1.0           NaN  \n4    0.0         8.113     2136.0            PG  \n\n[5 rows x 26 columns]",
      "text/html": "<div>\n<style scoped>\n    .dataframe tbody tr th:only-of-type {\n        vertical-align: middle;\n    }\n\n    .dataframe tbody tr th {\n        vertical-align: top;\n    }\n\n    .dataframe thead th {\n        text-align: right;\n    }\n</style>\n<table border=\"1\" class=\"dataframe\">\n  <thead>\n    <tr style=\"text-align: right;\">\n      <th></th>\n      <th>imdb_id</th>\n      <th>adult</th>\n      <th>backdrop_path</th>\n      <th>belongs_to_collection</th>\n      <th>budget</th>\n      <th>genres</th>\n      <th>homepage</th>\n      <th>id</th>\n      <th>original_language</th>\n      <th>original_title</th>\n      <th>...</th>\n      <th>revenue</th>\n      <th>runtime</th>\n      <th>spoken_languages</th>\n      <th>status</th>\n      <th>tagline</th>\n      <th>title</th>\n      <th>video</th>\n      <th>vote_average</th>\n      <th>vote_count</th>\n      <th>certification</th>\n    </tr>\n  </thead>\n  <tbody>\n    <tr>\n      <th>0</th>\n      <td>0</td>\n      <td>NaN</td>\n      <td>NaN</td>\n      <td>NaN</td>\n      <td>NaN</td>\n      <td>NaN</td>\n      <td>NaN</td>\n      <td>NaN</td>\n      <td>NaN</td>\n      <td>NaN</td>\n      <td>...</td>\n      <td>NaN</td>\n      <td>NaN</td>\n      <td>NaN</td>\n      <td>NaN</td>\n      <td>NaN</td>\n      <td>NaN</td>\n      <td>NaN</td>\n      <td>NaN</td>\n      <td>NaN</td>\n      <td>NaN</td>\n    </tr>\n    <tr>\n      <th>1</th>\n      <td>tt0113026</td>\n      <td>0.0</td>\n      <td>/vMFs7nw6P0bIV1jDsQpxAieAVnH.jpg</td>\n      <td>None</td>\n      <td>10000000.0</td>\n      <td>[{'id': 35, 'name': 'Comedy'}, {'id': 10402, '...</td>\n      <td></td>\n      <td>62127.0</td>\n      <td>en</td>\n      <td>The Fantasticks</td>\n      <td>...</td>\n      <td>0.0</td>\n      <td>86.0</td>\n      <td>[{'english_name': 'English', 'iso_639_1': 'en'...</td>\n      <td>Released</td>\n      <td>Try to remember the first time magic happened</td>\n      <td>The Fantasticks</td>\n      <td>0.0</td>\n      <td>5.500</td>\n      <td>22.0</td>\n      <td></td>\n    </tr>\n    <tr>\n      <th>2</th>\n      <td>tt0113092</td>\n      <td>0.0</td>\n      <td>None</td>\n      <td>None</td>\n      <td>0.0</td>\n      <td>[{'id': 878, 'name': 'Science Fiction'}]</td>\n      <td></td>\n      <td>110977.0</td>\n      <td>en</td>\n      <td>For the Cause</td>\n      <td>...</td>\n      <td>0.0</td>\n      <td>100.0</td>\n      <td>[{'english_name': 'English', 'iso_639_1': 'en'...</td>\n      <td>Released</td>\n      <td>The ultimate showdown on a forbidden planet.</td>\n      <td>For the Cause</td>\n      <td>0.0</td>\n      <td>5.100</td>\n      <td>8.0</td>\n      <td></td>\n    </tr>\n    <tr>\n      <th>3</th>\n      <td>tt0116391</td>\n      <td>0.0</td>\n      <td>None</td>\n      <td>None</td>\n      <td>0.0</td>\n      <td>[{'id': 18, 'name': 'Drama'}, {'id': 28, 'name...</td>\n      <td></td>\n      <td>442869.0</td>\n      <td>hi</td>\n      <td>Gang</td>\n      <td>...</td>\n      <td>0.0</td>\n      <td>152.0</td>\n      <td>[{'english_name': 'Hindi', 'iso_639_1': 'hi', ...</td>\n      <td>Released</td>\n      <td></td>\n      <td>Gang</td>\n      <td>0.0</td>\n      <td>4.000</td>\n      <td>1.0</td>\n      <td>NaN</td>\n    </tr>\n    <tr>\n      <th>4</th>\n      <td>tt0118694</td>\n      <td>0.0</td>\n      <td>/n4GJFGzsc7NinI1VeGDXIcQjtU2.jpg</td>\n      <td>None</td>\n      <td>150000.0</td>\n      <td>[{'id': 18, 'name': 'Drama'}, {'id': 10749, 'n...</td>\n      <td></td>\n      <td>843.0</td>\n      <td>cn</td>\n      <td>花樣年華</td>\n      <td>...</td>\n      <td>12854953.0</td>\n      <td>99.0</td>\n      <td>[{'english_name': 'Cantonese', 'iso_639_1': 'c...</td>\n      <td>Released</td>\n      <td>Feel the heat, keep the feeling burning, let t...</td>\n      <td>In the Mood for Love</td>\n      <td>0.0</td>\n      <td>8.113</td>\n      <td>2136.0</td>\n      <td>PG</td>\n    </tr>\n  </tbody>\n</table>\n<p>5 rows × 26 columns</p>\n</div>"
     },
     "execution_count": 12,
     "metadata": {},
     "output_type": "execute_result"
    }
   ],
   "source": [
    "data.head()"
   ],
   "metadata": {
    "collapsed": false
   }
  },
  {
   "cell_type": "code",
   "execution_count": 13,
   "outputs": [
    {
     "name": "stdout",
     "output_type": "stream",
     "text": [
      "Number of instances: 1214\n"
     ]
    }
   ],
   "source": [
    "print(f'Number of instances: {len(data)}')"
   ],
   "metadata": {
    "collapsed": false
   }
  },
  {
   "cell_type": "markdown",
   "source": [
    "## Data Cleaning"
   ],
   "metadata": {
    "collapsed": false
   }
  },
  {
   "cell_type": "markdown",
   "source": [
    "### Duplicated"
   ],
   "metadata": {
    "collapsed": false
   }
  },
  {
   "cell_type": "code",
   "execution_count": 14,
   "outputs": [
    {
     "data": {
      "text/plain": "0"
     },
     "execution_count": 14,
     "metadata": {},
     "output_type": "execute_result"
    }
   ],
   "source": [
    "data['imdb_id'].duplicated().sum()"
   ],
   "metadata": {
    "collapsed": false
   }
  },
  {
   "cell_type": "markdown",
   "source": [
    "### Missing Values"
   ],
   "metadata": {
    "collapsed": false
   }
  },
  {
   "cell_type": "code",
   "execution_count": 15,
   "outputs": [
    {
     "data": {
      "text/plain": "imdb_id                     0\nadult                       1\nbackdrop_path             554\nbelongs_to_collection    1102\nbudget                      1\ngenres                      1\nhomepage                    1\nid                          1\noriginal_language           1\noriginal_title              1\noverview                    1\npopularity                  1\nposter_path               124\nproduction_companies        1\nproduction_countries        1\nrelease_date                1\nrevenue                     1\nruntime                     1\nspoken_languages            1\nstatus                      1\ntagline                     1\ntitle                       1\nvideo                       1\nvote_average                1\nvote_count                  1\ncertification             424\ndtype: int64"
     },
     "execution_count": 15,
     "metadata": {},
     "output_type": "execute_result"
    }
   ],
   "source": [
    "data.isna().sum()"
   ],
   "metadata": {
    "collapsed": false
   }
  },
  {
   "cell_type": "markdown",
   "source": [
    "I will drop the following data:\n",
    "* Columns: backdrop_path, poster_path, overview"
   ],
   "metadata": {
    "collapsed": false
   }
  },
  {
   "cell_type": "code",
   "execution_count": 16,
   "outputs": [],
   "source": [
    "data.drop(columns=['backdrop_path','poster_path', 'overview'], inplace=True)"
   ],
   "metadata": {
    "collapsed": false
   }
  },
  {
   "cell_type": "markdown",
   "source": [
    "### Column Transformations"
   ],
   "metadata": {
    "collapsed": false
   }
  },
  {
   "cell_type": "markdown",
   "source": [
    "#### genres"
   ],
   "metadata": {
    "collapsed": false
   }
  },
  {
   "cell_type": "code",
   "execution_count": 47,
   "outputs": [
    {
     "name": "stdout",
     "output_type": "stream",
     "text": [
      "Outer:  <class 'list'>\n",
      "Inner:  <class 'dict'>\n",
      "[{'id': 28, 'name': 'Action'}, {'id': 878, 'name': 'Science Fiction'}]\n"
     ]
    }
   ],
   "source": [
    "test_genre = data.loc[125, 'genres']\n",
    "print('Outer: ', type(test_genre))\n",
    "print('Inner: ', type(test_genre[0]))\n",
    "print(test_genre)"
   ],
   "metadata": {
    "collapsed": false
   }
  },
  {
   "cell_type": "code",
   "execution_count": 56,
   "outputs": [],
   "source": [
    "## Define Function\n",
    "def transform_dtl(list_of_dictionaries):\n",
    "    ''' Returns list of genres from a list of dictionaries'''\n",
    "    logenres = [list(i.values())[1] for i in [k for k in list_of_dictionaries]]\n",
    "    return logenres"
   ],
   "metadata": {
    "collapsed": false
   }
  },
  {
   "cell_type": "code",
   "execution_count": 58,
   "outputs": [
    {
     "data": {
      "text/plain": "     imdb_id  adult belongs_to_collection      budget  \\\n0          0    NaN                   NaN         NaN   \n1  tt0113026    0.0                  None  10000000.0   \n2  tt0113092    0.0                  None         0.0   \n3  tt0116391    0.0                  None         0.0   \n4  tt0118694    0.0                  None    150000.0   \n\n                                              genres homepage        id  \\\n0                                                NaN      NaN       NaN   \n1  [{'id': 35, 'name': 'Comedy'}, {'id': 10402, '...            62127.0   \n2           [{'id': 878, 'name': 'Science Fiction'}]           110977.0   \n3  [{'id': 18, 'name': 'Drama'}, {'id': 28, 'name...           442869.0   \n4  [{'id': 18, 'name': 'Drama'}, {'id': 10749, 'n...              843.0   \n\n  original_language   original_title  popularity  ... runtime  \\\n0               NaN              NaN         NaN  ...     NaN   \n1                en  The Fantasticks       3.342  ...    86.0   \n2                en    For the Cause       2.017  ...   100.0   \n3                hi             Gang       0.600  ...   152.0   \n4                cn             花樣年華      28.733  ...    99.0   \n\n                                    spoken_languages    status  \\\n0                                                NaN       NaN   \n1  [{'english_name': 'English', 'iso_639_1': 'en'...  Released   \n2  [{'english_name': 'English', 'iso_639_1': 'en'...  Released   \n3  [{'english_name': 'Hindi', 'iso_639_1': 'hi', ...  Released   \n4  [{'english_name': 'Cantonese', 'iso_639_1': 'c...  Released   \n\n                                             tagline                 title  \\\n0                                                NaN                   NaN   \n1      Try to remember the first time magic happened       The Fantasticks   \n2       The ultimate showdown on a forbidden planet.         For the Cause   \n3                                                                     Gang   \n4  Feel the heat, keep the feeling burning, let t...  In the Mood for Love   \n\n  video vote_average vote_count certification               list_genres  \n0   NaN          NaN        NaN           NaN                       NaN  \n1   0.0        5.500       22.0                [Comedy, Music, Romance]  \n2   0.0        5.100        8.0                       [Science Fiction]  \n3   0.0        4.000        1.0           NaN    [Drama, Action, Crime]  \n4   0.0        8.113     2136.0            PG          [Drama, Romance]  \n\n[5 rows x 24 columns]",
      "text/html": "<div>\n<style scoped>\n    .dataframe tbody tr th:only-of-type {\n        vertical-align: middle;\n    }\n\n    .dataframe tbody tr th {\n        vertical-align: top;\n    }\n\n    .dataframe thead th {\n        text-align: right;\n    }\n</style>\n<table border=\"1\" class=\"dataframe\">\n  <thead>\n    <tr style=\"text-align: right;\">\n      <th></th>\n      <th>imdb_id</th>\n      <th>adult</th>\n      <th>belongs_to_collection</th>\n      <th>budget</th>\n      <th>genres</th>\n      <th>homepage</th>\n      <th>id</th>\n      <th>original_language</th>\n      <th>original_title</th>\n      <th>popularity</th>\n      <th>...</th>\n      <th>runtime</th>\n      <th>spoken_languages</th>\n      <th>status</th>\n      <th>tagline</th>\n      <th>title</th>\n      <th>video</th>\n      <th>vote_average</th>\n      <th>vote_count</th>\n      <th>certification</th>\n      <th>list_genres</th>\n    </tr>\n  </thead>\n  <tbody>\n    <tr>\n      <th>0</th>\n      <td>0</td>\n      <td>NaN</td>\n      <td>NaN</td>\n      <td>NaN</td>\n      <td>NaN</td>\n      <td>NaN</td>\n      <td>NaN</td>\n      <td>NaN</td>\n      <td>NaN</td>\n      <td>NaN</td>\n      <td>...</td>\n      <td>NaN</td>\n      <td>NaN</td>\n      <td>NaN</td>\n      <td>NaN</td>\n      <td>NaN</td>\n      <td>NaN</td>\n      <td>NaN</td>\n      <td>NaN</td>\n      <td>NaN</td>\n      <td>NaN</td>\n    </tr>\n    <tr>\n      <th>1</th>\n      <td>tt0113026</td>\n      <td>0.0</td>\n      <td>None</td>\n      <td>10000000.0</td>\n      <td>[{'id': 35, 'name': 'Comedy'}, {'id': 10402, '...</td>\n      <td></td>\n      <td>62127.0</td>\n      <td>en</td>\n      <td>The Fantasticks</td>\n      <td>3.342</td>\n      <td>...</td>\n      <td>86.0</td>\n      <td>[{'english_name': 'English', 'iso_639_1': 'en'...</td>\n      <td>Released</td>\n      <td>Try to remember the first time magic happened</td>\n      <td>The Fantasticks</td>\n      <td>0.0</td>\n      <td>5.500</td>\n      <td>22.0</td>\n      <td></td>\n      <td>[Comedy, Music, Romance]</td>\n    </tr>\n    <tr>\n      <th>2</th>\n      <td>tt0113092</td>\n      <td>0.0</td>\n      <td>None</td>\n      <td>0.0</td>\n      <td>[{'id': 878, 'name': 'Science Fiction'}]</td>\n      <td></td>\n      <td>110977.0</td>\n      <td>en</td>\n      <td>For the Cause</td>\n      <td>2.017</td>\n      <td>...</td>\n      <td>100.0</td>\n      <td>[{'english_name': 'English', 'iso_639_1': 'en'...</td>\n      <td>Released</td>\n      <td>The ultimate showdown on a forbidden planet.</td>\n      <td>For the Cause</td>\n      <td>0.0</td>\n      <td>5.100</td>\n      <td>8.0</td>\n      <td></td>\n      <td>[Science Fiction]</td>\n    </tr>\n    <tr>\n      <th>3</th>\n      <td>tt0116391</td>\n      <td>0.0</td>\n      <td>None</td>\n      <td>0.0</td>\n      <td>[{'id': 18, 'name': 'Drama'}, {'id': 28, 'name...</td>\n      <td></td>\n      <td>442869.0</td>\n      <td>hi</td>\n      <td>Gang</td>\n      <td>0.600</td>\n      <td>...</td>\n      <td>152.0</td>\n      <td>[{'english_name': 'Hindi', 'iso_639_1': 'hi', ...</td>\n      <td>Released</td>\n      <td></td>\n      <td>Gang</td>\n      <td>0.0</td>\n      <td>4.000</td>\n      <td>1.0</td>\n      <td>NaN</td>\n      <td>[Drama, Action, Crime]</td>\n    </tr>\n    <tr>\n      <th>4</th>\n      <td>tt0118694</td>\n      <td>0.0</td>\n      <td>None</td>\n      <td>150000.0</td>\n      <td>[{'id': 18, 'name': 'Drama'}, {'id': 10749, 'n...</td>\n      <td></td>\n      <td>843.0</td>\n      <td>cn</td>\n      <td>花樣年華</td>\n      <td>28.733</td>\n      <td>...</td>\n      <td>99.0</td>\n      <td>[{'english_name': 'Cantonese', 'iso_639_1': 'c...</td>\n      <td>Released</td>\n      <td>Feel the heat, keep the feeling burning, let t...</td>\n      <td>In the Mood for Love</td>\n      <td>0.0</td>\n      <td>8.113</td>\n      <td>2136.0</td>\n      <td>PG</td>\n      <td>[Drama, Romance]</td>\n    </tr>\n  </tbody>\n</table>\n<p>5 rows × 24 columns</p>\n</div>"
     },
     "execution_count": 58,
     "metadata": {},
     "output_type": "execute_result"
    }
   ],
   "source": [
    "data['list_genres'] = data['genres'].map(lambda x: transform_dtl(x), na_action='ignore')\n",
    "data.head()"
   ],
   "metadata": {
    "collapsed": false
   }
  },
  {
   "cell_type": "code",
   "execution_count": 59,
   "outputs": [],
   "source": [
    "data.drop(columns='genres', inplace=True)"
   ],
   "metadata": {
    "collapsed": false
   }
  },
  {
   "cell_type": "markdown",
   "source": [
    "#### Production_companies"
   ],
   "metadata": {
    "collapsed": false
   }
  },
  {
   "cell_type": "code",
   "execution_count": 62,
   "outputs": [
    {
     "name": "stdout",
     "output_type": "stream",
     "text": [
      "Outer:  <class 'list'>\n",
      "Inner:  <class 'dict'>\n",
      "[{'id': 7069, 'logo_path': None, 'name': 'Daly-Harris Productions', 'origin_country': ''}, {'id': 7070, 'logo_path': None, 'name': 'Davis Entertainment Classics', 'origin_country': ''}, {'id': 7071, 'logo_path': None, 'name': 'Sordid Lives LLC', 'origin_country': ''}]\n"
     ]
    }
   ],
   "source": [
    "test_prod = data.loc[365, 'production_companies']\n",
    "print('Outer: ', type(test_prod))\n",
    "print('Inner: ', type(test_prod[0]))\n",
    "print(test_prod)"
   ],
   "metadata": {
    "collapsed": false
   }
  },
  {
   "cell_type": "code",
   "execution_count": 70,
   "outputs": [
    {
     "data": {
      "text/plain": "['Daly-Harris Productions', 'Davis Entertainment Classics', 'Sordid Lives LLC']"
     },
     "execution_count": 70,
     "metadata": {},
     "output_type": "execute_result"
    }
   ],
   "source": [
    "[i['name'] for i in [k for k in test_prod]]"
   ],
   "metadata": {
    "collapsed": false
   }
  },
  {
   "cell_type": "code",
   "execution_count": 71,
   "outputs": [],
   "source": [
    "## Define Function\n",
    "def transform_prodc(list_of_prod_names):\n",
    "    ''' Returns list of production companies from a list of dictionaries'''\n",
    "    logenres = [i['name'] for i in [k for k in list_of_prod_names]]\n",
    "    return logenres"
   ],
   "metadata": {
    "collapsed": false
   }
  },
  {
   "cell_type": "code",
   "execution_count": 72,
   "outputs": [
    {
     "data": {
      "text/plain": "     imdb_id  adult belongs_to_collection      budget homepage        id  \\\n0          0    NaN                   NaN         NaN      NaN       NaN   \n1  tt0113026    0.0                  None  10000000.0            62127.0   \n2  tt0113092    0.0                  None         0.0           110977.0   \n3  tt0116391    0.0                  None         0.0           442869.0   \n4  tt0118694    0.0                  None    150000.0              843.0   \n\n  original_language   original_title  popularity  \\\n0               NaN              NaN         NaN   \n1                en  The Fantasticks       3.342   \n2                en    For the Cause       2.017   \n3                hi             Gang       0.600   \n4                cn             花樣年華      28.733   \n\n                                production_countries  ...  \\\n0                                                NaN  ...   \n1  [{'iso_3166_1': 'US', 'name': 'United States o...  ...   \n2  [{'iso_3166_1': 'US', 'name': 'United States o...  ...   \n3            [{'iso_3166_1': 'IN', 'name': 'India'}]  ...   \n4  [{'iso_3166_1': 'FR', 'name': 'France'}, {'iso...  ...   \n\n                                    spoken_languages    status  \\\n0                                                NaN       NaN   \n1  [{'english_name': 'English', 'iso_639_1': 'en'...  Released   \n2  [{'english_name': 'English', 'iso_639_1': 'en'...  Released   \n3  [{'english_name': 'Hindi', 'iso_639_1': 'hi', ...  Released   \n4  [{'english_name': 'Cantonese', 'iso_639_1': 'c...  Released   \n\n                                             tagline                 title  \\\n0                                                NaN                   NaN   \n1      Try to remember the first time magic happened       The Fantasticks   \n2       The ultimate showdown on a forbidden planet.         For the Cause   \n3                                                                     Gang   \n4  Feel the heat, keep the feeling burning, let t...  In the Mood for Love   \n\n  video vote_average vote_count  certification               list_genres  \\\n0   NaN          NaN        NaN            NaN                       NaN   \n1   0.0        5.500       22.0                 [Comedy, Music, Romance]   \n2   0.0        5.100        8.0                        [Science Fiction]   \n3   0.0        4.000        1.0            NaN    [Drama, Action, Crime]   \n4   0.0        8.113     2136.0             PG          [Drama, Romance]   \n\n                            list_production_companes  \n0                                                NaN  \n1  [Sullivan Street Productions, Michael Ritchie ...  \n2  [Dimension Films, Grand Design Entertainment, ...  \n3                                                 []  \n4  [Block 2 Pictures, Orly Films, Jet Tone Films,...  \n\n[5 rows x 23 columns]",
      "text/html": "<div>\n<style scoped>\n    .dataframe tbody tr th:only-of-type {\n        vertical-align: middle;\n    }\n\n    .dataframe tbody tr th {\n        vertical-align: top;\n    }\n\n    .dataframe thead th {\n        text-align: right;\n    }\n</style>\n<table border=\"1\" class=\"dataframe\">\n  <thead>\n    <tr style=\"text-align: right;\">\n      <th></th>\n      <th>imdb_id</th>\n      <th>adult</th>\n      <th>belongs_to_collection</th>\n      <th>budget</th>\n      <th>homepage</th>\n      <th>id</th>\n      <th>original_language</th>\n      <th>original_title</th>\n      <th>popularity</th>\n      <th>production_countries</th>\n      <th>...</th>\n      <th>spoken_languages</th>\n      <th>status</th>\n      <th>tagline</th>\n      <th>title</th>\n      <th>video</th>\n      <th>vote_average</th>\n      <th>vote_count</th>\n      <th>certification</th>\n      <th>list_genres</th>\n      <th>list_production_companes</th>\n    </tr>\n  </thead>\n  <tbody>\n    <tr>\n      <th>0</th>\n      <td>0</td>\n      <td>NaN</td>\n      <td>NaN</td>\n      <td>NaN</td>\n      <td>NaN</td>\n      <td>NaN</td>\n      <td>NaN</td>\n      <td>NaN</td>\n      <td>NaN</td>\n      <td>NaN</td>\n      <td>...</td>\n      <td>NaN</td>\n      <td>NaN</td>\n      <td>NaN</td>\n      <td>NaN</td>\n      <td>NaN</td>\n      <td>NaN</td>\n      <td>NaN</td>\n      <td>NaN</td>\n      <td>NaN</td>\n      <td>NaN</td>\n    </tr>\n    <tr>\n      <th>1</th>\n      <td>tt0113026</td>\n      <td>0.0</td>\n      <td>None</td>\n      <td>10000000.0</td>\n      <td></td>\n      <td>62127.0</td>\n      <td>en</td>\n      <td>The Fantasticks</td>\n      <td>3.342</td>\n      <td>[{'iso_3166_1': 'US', 'name': 'United States o...</td>\n      <td>...</td>\n      <td>[{'english_name': 'English', 'iso_639_1': 'en'...</td>\n      <td>Released</td>\n      <td>Try to remember the first time magic happened</td>\n      <td>The Fantasticks</td>\n      <td>0.0</td>\n      <td>5.500</td>\n      <td>22.0</td>\n      <td></td>\n      <td>[Comedy, Music, Romance]</td>\n      <td>[Sullivan Street Productions, Michael Ritchie ...</td>\n    </tr>\n    <tr>\n      <th>2</th>\n      <td>tt0113092</td>\n      <td>0.0</td>\n      <td>None</td>\n      <td>0.0</td>\n      <td></td>\n      <td>110977.0</td>\n      <td>en</td>\n      <td>For the Cause</td>\n      <td>2.017</td>\n      <td>[{'iso_3166_1': 'US', 'name': 'United States o...</td>\n      <td>...</td>\n      <td>[{'english_name': 'English', 'iso_639_1': 'en'...</td>\n      <td>Released</td>\n      <td>The ultimate showdown on a forbidden planet.</td>\n      <td>For the Cause</td>\n      <td>0.0</td>\n      <td>5.100</td>\n      <td>8.0</td>\n      <td></td>\n      <td>[Science Fiction]</td>\n      <td>[Dimension Films, Grand Design Entertainment, ...</td>\n    </tr>\n    <tr>\n      <th>3</th>\n      <td>tt0116391</td>\n      <td>0.0</td>\n      <td>None</td>\n      <td>0.0</td>\n      <td></td>\n      <td>442869.0</td>\n      <td>hi</td>\n      <td>Gang</td>\n      <td>0.600</td>\n      <td>[{'iso_3166_1': 'IN', 'name': 'India'}]</td>\n      <td>...</td>\n      <td>[{'english_name': 'Hindi', 'iso_639_1': 'hi', ...</td>\n      <td>Released</td>\n      <td></td>\n      <td>Gang</td>\n      <td>0.0</td>\n      <td>4.000</td>\n      <td>1.0</td>\n      <td>NaN</td>\n      <td>[Drama, Action, Crime]</td>\n      <td>[]</td>\n    </tr>\n    <tr>\n      <th>4</th>\n      <td>tt0118694</td>\n      <td>0.0</td>\n      <td>None</td>\n      <td>150000.0</td>\n      <td></td>\n      <td>843.0</td>\n      <td>cn</td>\n      <td>花樣年華</td>\n      <td>28.733</td>\n      <td>[{'iso_3166_1': 'FR', 'name': 'France'}, {'iso...</td>\n      <td>...</td>\n      <td>[{'english_name': 'Cantonese', 'iso_639_1': 'c...</td>\n      <td>Released</td>\n      <td>Feel the heat, keep the feeling burning, let t...</td>\n      <td>In the Mood for Love</td>\n      <td>0.0</td>\n      <td>8.113</td>\n      <td>2136.0</td>\n      <td>PG</td>\n      <td>[Drama, Romance]</td>\n      <td>[Block 2 Pictures, Orly Films, Jet Tone Films,...</td>\n    </tr>\n  </tbody>\n</table>\n<p>5 rows × 23 columns</p>\n</div>"
     },
     "execution_count": 72,
     "metadata": {},
     "output_type": "execute_result"
    }
   ],
   "source": [
    "data['list_production_companes'] = data['production_companies'].map(lambda x: transform_prodc(x), na_action='ignore')\n",
    "data.drop(columns='production_companies', inplace=True)\n",
    "data.head()"
   ],
   "metadata": {
    "collapsed": false
   }
  },
  {
   "cell_type": "markdown",
   "source": [
    "# WORK IN PROGRESS\n",
    "\n",
    "### USE THE FRONT DRIVEWAY"
   ],
   "metadata": {
    "collapsed": false
   }
  },
  {
   "cell_type": "code",
   "execution_count": null,
   "outputs": [],
   "source": [],
   "metadata": {
    "collapsed": false
   }
  }
 ],
 "metadata": {
  "kernelspec": {
   "name": "dojo-env",
   "language": "python",
   "display_name": "Python (dojo-env)"
  },
  "language_info": {
   "codemirror_mode": {
    "name": "ipython",
    "version": 2
   },
   "file_extension": ".py",
   "mimetype": "text/x-python",
   "name": "python",
   "nbconvert_exporter": "python",
   "pygments_lexer": "ipython2",
   "version": "2.7.6"
  }
 },
 "nbformat": 4,
 "nbformat_minor": 0
}
