{
 "cells": [
  {
   "cell_type": "markdown",
   "source": [
    "# Movies: Explortory Data Analysis\n",
    "\n",
    "by Israel Diaz"
   ],
   "metadata": {
    "collapsed": false
   }
  },
  {
   "cell_type": "markdown",
   "source": [
    "## Data Description"
   ],
   "metadata": {
    "collapsed": false
   }
  },
  {
   "cell_type": "markdown",
   "source": [
    "The data correspond to the one downloaded from [IMDB source](https://datasets.imdbws.com/).\n",
    "\n",
    "**IMDb Dataset Details**\n",
    "\n",
    "Each dataset is contained in a gzipped, tab-separated-values (TSV) formatted file in the UTF-8 character set. The first line in each file contains headers that describe what is in each column. A ‘\\N’ is used to denote that a particular field is missing or null for that title/name. The available datasets are as follows:\n",
    "\n",
    "**title.akas.tsv.gz** - Contains the following information for titles:\n",
    "\n",
    "* titleId (string) - a tconst, an alphanumeric unique identifier of the title\n",
    "* ordering (integer) – a number to uniquely identify rows for a given titleId\n",
    "* title (string) – the localized title\n",
    "* region (string) - the region for this version of the title\n",
    "* language (string) - the language of the title\n",
    "* types (array) - Enumerated set of attributes for this alternative title. One or more of the following: \"alternative\", \"dvd\", \"festival\", \"tv\", \"video\", \"working\", \"original\", \"imdbDisplay\". New values may be added in the future without warning\n",
    "* attributes (array) - Additional terms to describe this alternative title, not enumerated\n",
    "* isOriginalTitle (boolean) – 0: not original title; 1: original title\n",
    "\n",
    "**title.basics.tsv.gz** - Contains the following information for titles:\n",
    "\n",
    "* tconst (string) - alphanumeric unique identifier of the title\n",
    "* titleType (string) – the type/format of the title (e.g. movie, short, tvseries, tvepisode, video, etc)\n",
    "* primaryTitle (string) – the more popular title / the title used by the filmmakers on promotional materials at the point of release\n",
    "* originalTitle (string) - original title, in the original language\n",
    "* isAdult (boolean) - 0: non-adult title; 1: adult title\n",
    "* startYear (YYYY) – represents the release year of a title. In the case of TV Series, it is the series start year\n",
    "* endYear (YYYY) – TV Series end year. ‘\\N’ for all other title types\n",
    "* runtimeMinutes – primary runtime of the title, in minutes\n",
    "* genres (string array) – includes up to three genres associated with the title\n",
    "\n",
    "**title.ratings.tsv.gz** – Contains the IMDb rating and votes information for titles\n",
    "\n",
    "* tconst (string) - alphanumeric unique identifier of the title\n",
    "* averageRating – weighted average of all the individual user ratings\n",
    "* numVotes - number of votes the title has received"
   ],
   "metadata": {
    "collapsed": false
   }
  },
  {
   "cell_type": "markdown",
   "source": [
    "## Loading Data"
   ],
   "metadata": {
    "collapsed": false
   }
  },
  {
   "cell_type": "markdown",
   "source": [
    "### Import Libraries"
   ],
   "metadata": {
    "collapsed": false
   }
  },
  {
   "cell_type": "code",
   "execution_count": 1,
   "metadata": {
    "collapsed": true
   },
   "outputs": [],
   "source": [
    "## General\n",
    "import pandas as pd\n",
    "import numpy as np\n",
    "import matplotlib.pyplot as plt\n",
    "import seaborn as sns\n",
    "import warnings\n",
    "warnings.simplefilter('ignore')\n",
    "\n",
    "\n",
    "## suppress scientific notation\n",
    "pd.options.display.float_format = '{:20,.2f}'.format\n"
   ]
  },
  {
   "cell_type": "markdown",
   "source": [
    "### Load Data"
   ],
   "metadata": {
    "collapsed": false
   }
  },
  {
   "cell_type": "markdown",
   "source": [
    "For Now, I will explore data from year 2000"
   ],
   "metadata": {
    "collapsed": false
   }
  },
  {
   "cell_type": "code",
   "execution_count": 2,
   "outputs": [],
   "source": [
    "FOLDER = 'data/'\n",
    "YEAR = 2000"
   ],
   "metadata": {
    "collapsed": false
   }
  },
  {
   "cell_type": "markdown",
   "source": [
    "I'll load the year 2000 data to test the code while it is still downloading the data from TMDB."
   ],
   "metadata": {
    "collapsed": false
   }
  },
  {
   "cell_type": "code",
   "execution_count": 3,
   "outputs": [],
   "source": [
    "data = pd.read_json(path_or_buf=FOLDER + f'tmdb_api_results_{YEAR}.json')"
   ],
   "metadata": {
    "collapsed": false
   }
  },
  {
   "cell_type": "code",
   "execution_count": 4,
   "outputs": [
    {
     "data": {
      "text/plain": "     imdb_id                adult                     backdrop_path  \\\n0          0                  NaN                               NaN   \n1  tt0113026                 0.00  /vMFs7nw6P0bIV1jDsQpxAieAVnH.jpg   \n2  tt0113092                 0.00                              None   \n3  tt0116391                 0.00                              None   \n4  tt0118694                 0.00  /n4GJFGzsc7NinI1VeGDXIcQjtU2.jpg   \n\n  belongs_to_collection               budget  \\\n0                   NaN                  NaN   \n1                  None        10,000,000.00   \n2                  None                 0.00   \n3                  None                 0.00   \n4                  None           150,000.00   \n\n                                              genres homepage  \\\n0                                                NaN      NaN   \n1  [{'id': 35, 'name': 'Comedy'}, {'id': 10402, '...            \n2           [{'id': 878, 'name': 'Science Fiction'}]            \n3  [{'id': 18, 'name': 'Drama'}, {'id': 28, 'name...            \n4  [{'id': 18, 'name': 'Drama'}, {'id': 10749, 'n...            \n\n                    id original_language   original_title  ...  \\\n0                  NaN               NaN              NaN  ...   \n1            62,127.00                en  The Fantasticks  ...   \n2           110,977.00                en    For the Cause  ...   \n3           442,869.00                hi             Gang  ...   \n4               843.00                cn             花樣年華  ...   \n\n               revenue              runtime  \\\n0                  NaN                  NaN   \n1                 0.00                86.00   \n2                 0.00               100.00   \n3                 0.00               152.00   \n4        12,854,953.00                99.00   \n\n                                    spoken_languages    status  \\\n0                                                NaN       NaN   \n1  [{'english_name': 'English', 'iso_639_1': 'en'...  Released   \n2  [{'english_name': 'English', 'iso_639_1': 'en'...  Released   \n3  [{'english_name': 'Hindi', 'iso_639_1': 'hi', ...  Released   \n4  [{'english_name': 'Cantonese', 'iso_639_1': 'c...  Released   \n\n                                             tagline                 title  \\\n0                                                NaN                   NaN   \n1      Try to remember the first time magic happened       The Fantasticks   \n2       The ultimate showdown on a forbidden planet.         For the Cause   \n3                                                                     Gang   \n4  Feel the heat, keep the feeling burning, let t...  In the Mood for Love   \n\n                 video         vote_average           vote_count certification  \n0                  NaN                  NaN                  NaN           NaN  \n1                 0.00                 5.50                22.00                \n2                 0.00                 5.10                 8.00                \n3                 0.00                 4.00                 1.00           NaN  \n4                 0.00                 8.11             2,136.00            PG  \n\n[5 rows x 26 columns]",
      "text/html": "<div>\n<style scoped>\n    .dataframe tbody tr th:only-of-type {\n        vertical-align: middle;\n    }\n\n    .dataframe tbody tr th {\n        vertical-align: top;\n    }\n\n    .dataframe thead th {\n        text-align: right;\n    }\n</style>\n<table border=\"1\" class=\"dataframe\">\n  <thead>\n    <tr style=\"text-align: right;\">\n      <th></th>\n      <th>imdb_id</th>\n      <th>adult</th>\n      <th>backdrop_path</th>\n      <th>belongs_to_collection</th>\n      <th>budget</th>\n      <th>genres</th>\n      <th>homepage</th>\n      <th>id</th>\n      <th>original_language</th>\n      <th>original_title</th>\n      <th>...</th>\n      <th>revenue</th>\n      <th>runtime</th>\n      <th>spoken_languages</th>\n      <th>status</th>\n      <th>tagline</th>\n      <th>title</th>\n      <th>video</th>\n      <th>vote_average</th>\n      <th>vote_count</th>\n      <th>certification</th>\n    </tr>\n  </thead>\n  <tbody>\n    <tr>\n      <th>0</th>\n      <td>0</td>\n      <td>NaN</td>\n      <td>NaN</td>\n      <td>NaN</td>\n      <td>NaN</td>\n      <td>NaN</td>\n      <td>NaN</td>\n      <td>NaN</td>\n      <td>NaN</td>\n      <td>NaN</td>\n      <td>...</td>\n      <td>NaN</td>\n      <td>NaN</td>\n      <td>NaN</td>\n      <td>NaN</td>\n      <td>NaN</td>\n      <td>NaN</td>\n      <td>NaN</td>\n      <td>NaN</td>\n      <td>NaN</td>\n      <td>NaN</td>\n    </tr>\n    <tr>\n      <th>1</th>\n      <td>tt0113026</td>\n      <td>0.00</td>\n      <td>/vMFs7nw6P0bIV1jDsQpxAieAVnH.jpg</td>\n      <td>None</td>\n      <td>10,000,000.00</td>\n      <td>[{'id': 35, 'name': 'Comedy'}, {'id': 10402, '...</td>\n      <td></td>\n      <td>62,127.00</td>\n      <td>en</td>\n      <td>The Fantasticks</td>\n      <td>...</td>\n      <td>0.00</td>\n      <td>86.00</td>\n      <td>[{'english_name': 'English', 'iso_639_1': 'en'...</td>\n      <td>Released</td>\n      <td>Try to remember the first time magic happened</td>\n      <td>The Fantasticks</td>\n      <td>0.00</td>\n      <td>5.50</td>\n      <td>22.00</td>\n      <td></td>\n    </tr>\n    <tr>\n      <th>2</th>\n      <td>tt0113092</td>\n      <td>0.00</td>\n      <td>None</td>\n      <td>None</td>\n      <td>0.00</td>\n      <td>[{'id': 878, 'name': 'Science Fiction'}]</td>\n      <td></td>\n      <td>110,977.00</td>\n      <td>en</td>\n      <td>For the Cause</td>\n      <td>...</td>\n      <td>0.00</td>\n      <td>100.00</td>\n      <td>[{'english_name': 'English', 'iso_639_1': 'en'...</td>\n      <td>Released</td>\n      <td>The ultimate showdown on a forbidden planet.</td>\n      <td>For the Cause</td>\n      <td>0.00</td>\n      <td>5.10</td>\n      <td>8.00</td>\n      <td></td>\n    </tr>\n    <tr>\n      <th>3</th>\n      <td>tt0116391</td>\n      <td>0.00</td>\n      <td>None</td>\n      <td>None</td>\n      <td>0.00</td>\n      <td>[{'id': 18, 'name': 'Drama'}, {'id': 28, 'name...</td>\n      <td></td>\n      <td>442,869.00</td>\n      <td>hi</td>\n      <td>Gang</td>\n      <td>...</td>\n      <td>0.00</td>\n      <td>152.00</td>\n      <td>[{'english_name': 'Hindi', 'iso_639_1': 'hi', ...</td>\n      <td>Released</td>\n      <td></td>\n      <td>Gang</td>\n      <td>0.00</td>\n      <td>4.00</td>\n      <td>1.00</td>\n      <td>NaN</td>\n    </tr>\n    <tr>\n      <th>4</th>\n      <td>tt0118694</td>\n      <td>0.00</td>\n      <td>/n4GJFGzsc7NinI1VeGDXIcQjtU2.jpg</td>\n      <td>None</td>\n      <td>150,000.00</td>\n      <td>[{'id': 18, 'name': 'Drama'}, {'id': 10749, 'n...</td>\n      <td></td>\n      <td>843.00</td>\n      <td>cn</td>\n      <td>花樣年華</td>\n      <td>...</td>\n      <td>12,854,953.00</td>\n      <td>99.00</td>\n      <td>[{'english_name': 'Cantonese', 'iso_639_1': 'c...</td>\n      <td>Released</td>\n      <td>Feel the heat, keep the feeling burning, let t...</td>\n      <td>In the Mood for Love</td>\n      <td>0.00</td>\n      <td>8.11</td>\n      <td>2,136.00</td>\n      <td>PG</td>\n    </tr>\n  </tbody>\n</table>\n<p>5 rows × 26 columns</p>\n</div>"
     },
     "execution_count": 4,
     "metadata": {},
     "output_type": "execute_result"
    }
   ],
   "source": [
    "data.head()"
   ],
   "metadata": {
    "collapsed": false
   }
  },
  {
   "cell_type": "code",
   "execution_count": 5,
   "outputs": [
    {
     "name": "stdout",
     "output_type": "stream",
     "text": [
      "Number of instances: 1214\n"
     ]
    }
   ],
   "source": [
    "print(f'Number of instances: {len(data)}')"
   ],
   "metadata": {
    "collapsed": false
   }
  },
  {
   "cell_type": "markdown",
   "source": [
    "## Data Cleaning"
   ],
   "metadata": {
    "collapsed": false
   }
  },
  {
   "cell_type": "markdown",
   "source": [
    "### Duplicated"
   ],
   "metadata": {
    "collapsed": false
   }
  },
  {
   "cell_type": "code",
   "execution_count": 6,
   "outputs": [
    {
     "data": {
      "text/plain": "0"
     },
     "execution_count": 6,
     "metadata": {},
     "output_type": "execute_result"
    }
   ],
   "source": [
    "data['imdb_id'].duplicated().sum()"
   ],
   "metadata": {
    "collapsed": false
   }
  },
  {
   "cell_type": "markdown",
   "source": [
    "### Missing Values"
   ],
   "metadata": {
    "collapsed": false
   }
  },
  {
   "cell_type": "code",
   "execution_count": 7,
   "outputs": [
    {
     "data": {
      "text/plain": "imdb_id                     0\nadult                       1\nbackdrop_path             554\nbelongs_to_collection    1102\nbudget                      1\ngenres                      1\nhomepage                    1\nid                          1\noriginal_language           1\noriginal_title              1\noverview                    1\npopularity                  1\nposter_path               124\nproduction_companies        1\nproduction_countries        1\nrelease_date                1\nrevenue                     1\nruntime                     1\nspoken_languages            1\nstatus                      1\ntagline                     1\ntitle                       1\nvideo                       1\nvote_average                1\nvote_count                  1\ncertification             424\ndtype: int64"
     },
     "execution_count": 7,
     "metadata": {},
     "output_type": "execute_result"
    }
   ],
   "source": [
    "data.isna().sum()"
   ],
   "metadata": {
    "collapsed": false
   }
  },
  {
   "cell_type": "markdown",
   "source": [
    "I will drop the following data, because they are unnecessary or duplicated into the data:\n",
    "* backdrop_path\n",
    "* poster_path\n",
    "* overview\n",
    "* homepage\n",
    "* id\n",
    "* tagline\n",
    "* original_title\n",
    "* spoken_language\n",
    "\n"
   ],
   "metadata": {
    "collapsed": false
   }
  },
  {
   "cell_type": "code",
   "execution_count": 8,
   "outputs": [],
   "source": [
    "data.drop(columns=['backdrop_path','poster_path', 'overview', 'homepage', 'id', 'tagline', 'original_title', 'spoken_languages'], inplace=True)\n"
   ],
   "metadata": {
    "collapsed": false
   }
  },
  {
   "cell_type": "code",
   "execution_count": 9,
   "outputs": [],
   "source": [
    "data.drop(0, axis=0, inplace=True)"
   ],
   "metadata": {
    "collapsed": false
   }
  },
  {
   "cell_type": "markdown",
   "source": [
    "### Column Transformations"
   ],
   "metadata": {
    "collapsed": false
   }
  },
  {
   "cell_type": "markdown",
   "source": [
    "#### genres"
   ],
   "metadata": {
    "collapsed": false
   }
  },
  {
   "cell_type": "code",
   "execution_count": 10,
   "outputs": [
    {
     "name": "stdout",
     "output_type": "stream",
     "text": [
      "Outer:  <class 'list'>\n",
      "Inner:  <class 'dict'>\n",
      "[{'id': 28, 'name': 'Action'}, {'id': 878, 'name': 'Science Fiction'}]\n"
     ]
    }
   ],
   "source": [
    "test_genre = data.loc[125, 'genres']\n",
    "print('Outer: ', type(test_genre))\n",
    "print('Inner: ', type(test_genre[0]))\n",
    "print(test_genre)"
   ],
   "metadata": {
    "collapsed": false
   }
  },
  {
   "cell_type": "code",
   "execution_count": 11,
   "outputs": [],
   "source": [
    "#@ Define Function (by Israel Diaz)\n",
    "def transform_dtl(list_of_dictionaries):\n",
    "    ''' Returns list of genres from a list of dictionaries'''\n",
    "    logenres = [list(i.values())[1] for i in [k for k in list_of_dictionaries]]\n",
    "    return logenres\n",
    "\n",
    "def transform_prodc(list_of_prod_names):\n",
    "    ''' Returns list of production companies from a list of dictionaries'''\n",
    "    logenres = [i['name'] for i in [k for k in list_of_prod_names]]\n",
    "    return logenres\n",
    "\n",
    "def transform_lang(list_of_lang):\n",
    "    ''' Returns list of languages from a list of dictionaries languages'''\n",
    "    logenres = [i['english_name'] for i in [k for k in list_of_lang]]\n",
    "    return logenres\n",
    "\n",
    "def build_lists(data, column, function):\n",
    "    '''Return the data with lists instead dictionaries, will the apply the function \"function\" to the transformation'''\n",
    "    list_column = f'list_{column}'\n",
    "    data[list_column] = data[column].map(lambda x: function(x), na_action='ignore')\n",
    "    return data\n",
    "\n",
    "# I didn't use the following function but I stored it here because I will use it further ahead.\n",
    "def explode_data(data, reference, column):\n",
    "    '''transfom the lists in dummy variables. '''\n",
    "    list_column = f'list_{column}'\n",
    "    build_lists(data, column)\n",
    "\n",
    "    subset = data[[reference, column, list_column]]\n",
    "    #dummy variables\n",
    "    subset.set_index(reference, inplace=True)\n",
    "    dummies = pd.get_dummies(subset[list_column].apply(pd.Series).stack(), prefix=column, prefix_sep='_', dummy_na=True).sum(level=0)\n",
    "    #merge data\n",
    "    data = data.merge(dummies, how='inner', left_on=reference, right_index=True)\n",
    "    #drop duplicated columns\n",
    "    data.drop(columns=[column, list_column], inplace=True)\n",
    "    return data"
   ],
   "metadata": {
    "collapsed": false
   }
  },
  {
   "cell_type": "code",
   "execution_count": 12,
   "outputs": [
    {
     "data": {
      "text/plain": "     imdb_id                adult belongs_to_collection               budget  \\\n1  tt0113026                 0.00                  None        10,000,000.00   \n2  tt0113092                 0.00                  None                 0.00   \n3  tt0116391                 0.00                  None                 0.00   \n4  tt0118694                 0.00                  None           150,000.00   \n5  tt0118852                 0.00                  None                 0.00   \n\n  original_language           popularity  \\\n1                en                 3.34   \n2                en                 2.02   \n3                hi                 0.60   \n4                cn                28.73   \n5                en                 4.52   \n\n                                production_companies  \\\n1  [{'id': 51207, 'logo_path': None, 'name': 'Sul...   \n2  [{'id': 7405, 'logo_path': '/rfnws0uY8rsNAsrLb...   \n3                                                 []   \n4  [{'id': 539, 'logo_path': '/iPLtePguIzOPNtAWfT...   \n5  [{'id': 67930, 'logo_path': None, 'name': 'Cha...   \n\n                                production_countries release_date  \\\n1  [{'iso_3166_1': 'US', 'name': 'United States o...   2000-09-22   \n2  [{'iso_3166_1': 'US', 'name': 'United States o...   2000-11-15   \n3            [{'iso_3166_1': 'IN', 'name': 'India'}]   2000-04-14   \n4  [{'iso_3166_1': 'FR', 'name': 'France'}, {'iso...   2000-09-29   \n5  [{'iso_3166_1': 'US', 'name': 'United States o...   2000-09-02   \n\n               revenue              runtime    status                 title  \\\n1                 0.00                86.00  Released       The Fantasticks   \n2                 0.00               100.00  Released         For the Cause   \n3                 0.00               152.00  Released                  Gang   \n4        12,854,953.00                99.00  Released  In the Mood for Love   \n5                 0.00                99.00  Released        Chinese Coffee   \n\n                 video         vote_average           vote_count  \\\n1                 0.00                 5.50                22.00   \n2                 0.00                 5.10                 8.00   \n3                 0.00                 4.00                 1.00   \n4                 0.00                 8.11             2,136.00   \n5                 0.00                 6.80                49.00   \n\n  certification               list_genres  \n1                [Comedy, Music, Romance]  \n2                       [Science Fiction]  \n3           NaN    [Drama, Action, Crime]  \n4            PG          [Drama, Romance]  \n5             R                   [Drama]  ",
      "text/html": "<div>\n<style scoped>\n    .dataframe tbody tr th:only-of-type {\n        vertical-align: middle;\n    }\n\n    .dataframe tbody tr th {\n        vertical-align: top;\n    }\n\n    .dataframe thead th {\n        text-align: right;\n    }\n</style>\n<table border=\"1\" class=\"dataframe\">\n  <thead>\n    <tr style=\"text-align: right;\">\n      <th></th>\n      <th>imdb_id</th>\n      <th>adult</th>\n      <th>belongs_to_collection</th>\n      <th>budget</th>\n      <th>original_language</th>\n      <th>popularity</th>\n      <th>production_companies</th>\n      <th>production_countries</th>\n      <th>release_date</th>\n      <th>revenue</th>\n      <th>runtime</th>\n      <th>status</th>\n      <th>title</th>\n      <th>video</th>\n      <th>vote_average</th>\n      <th>vote_count</th>\n      <th>certification</th>\n      <th>list_genres</th>\n    </tr>\n  </thead>\n  <tbody>\n    <tr>\n      <th>1</th>\n      <td>tt0113026</td>\n      <td>0.00</td>\n      <td>None</td>\n      <td>10,000,000.00</td>\n      <td>en</td>\n      <td>3.34</td>\n      <td>[{'id': 51207, 'logo_path': None, 'name': 'Sul...</td>\n      <td>[{'iso_3166_1': 'US', 'name': 'United States o...</td>\n      <td>2000-09-22</td>\n      <td>0.00</td>\n      <td>86.00</td>\n      <td>Released</td>\n      <td>The Fantasticks</td>\n      <td>0.00</td>\n      <td>5.50</td>\n      <td>22.00</td>\n      <td></td>\n      <td>[Comedy, Music, Romance]</td>\n    </tr>\n    <tr>\n      <th>2</th>\n      <td>tt0113092</td>\n      <td>0.00</td>\n      <td>None</td>\n      <td>0.00</td>\n      <td>en</td>\n      <td>2.02</td>\n      <td>[{'id': 7405, 'logo_path': '/rfnws0uY8rsNAsrLb...</td>\n      <td>[{'iso_3166_1': 'US', 'name': 'United States o...</td>\n      <td>2000-11-15</td>\n      <td>0.00</td>\n      <td>100.00</td>\n      <td>Released</td>\n      <td>For the Cause</td>\n      <td>0.00</td>\n      <td>5.10</td>\n      <td>8.00</td>\n      <td></td>\n      <td>[Science Fiction]</td>\n    </tr>\n    <tr>\n      <th>3</th>\n      <td>tt0116391</td>\n      <td>0.00</td>\n      <td>None</td>\n      <td>0.00</td>\n      <td>hi</td>\n      <td>0.60</td>\n      <td>[]</td>\n      <td>[{'iso_3166_1': 'IN', 'name': 'India'}]</td>\n      <td>2000-04-14</td>\n      <td>0.00</td>\n      <td>152.00</td>\n      <td>Released</td>\n      <td>Gang</td>\n      <td>0.00</td>\n      <td>4.00</td>\n      <td>1.00</td>\n      <td>NaN</td>\n      <td>[Drama, Action, Crime]</td>\n    </tr>\n    <tr>\n      <th>4</th>\n      <td>tt0118694</td>\n      <td>0.00</td>\n      <td>None</td>\n      <td>150,000.00</td>\n      <td>cn</td>\n      <td>28.73</td>\n      <td>[{'id': 539, 'logo_path': '/iPLtePguIzOPNtAWfT...</td>\n      <td>[{'iso_3166_1': 'FR', 'name': 'France'}, {'iso...</td>\n      <td>2000-09-29</td>\n      <td>12,854,953.00</td>\n      <td>99.00</td>\n      <td>Released</td>\n      <td>In the Mood for Love</td>\n      <td>0.00</td>\n      <td>8.11</td>\n      <td>2,136.00</td>\n      <td>PG</td>\n      <td>[Drama, Romance]</td>\n    </tr>\n    <tr>\n      <th>5</th>\n      <td>tt0118852</td>\n      <td>0.00</td>\n      <td>None</td>\n      <td>0.00</td>\n      <td>en</td>\n      <td>4.52</td>\n      <td>[{'id': 67930, 'logo_path': None, 'name': 'Cha...</td>\n      <td>[{'iso_3166_1': 'US', 'name': 'United States o...</td>\n      <td>2000-09-02</td>\n      <td>0.00</td>\n      <td>99.00</td>\n      <td>Released</td>\n      <td>Chinese Coffee</td>\n      <td>0.00</td>\n      <td>6.80</td>\n      <td>49.00</td>\n      <td>R</td>\n      <td>[Drama]</td>\n    </tr>\n  </tbody>\n</table>\n</div>"
     },
     "execution_count": 12,
     "metadata": {},
     "output_type": "execute_result"
    }
   ],
   "source": [
    "data = build_lists(data=data, column='genres', function=transform_dtl)\n",
    "data.drop(columns='genres', inplace=True)\n",
    "data.head()"
   ],
   "metadata": {
    "collapsed": false
   }
  },
  {
   "cell_type": "markdown",
   "source": [
    "#### Production_companies"
   ],
   "metadata": {
    "collapsed": false
   }
  },
  {
   "cell_type": "code",
   "execution_count": 13,
   "outputs": [
    {
     "name": "stdout",
     "output_type": "stream",
     "text": [
      "Outer:  <class 'list'>\n",
      "Inner:  <class 'dict'>\n",
      "[{'id': 7069, 'logo_path': None, 'name': 'Daly-Harris Productions', 'origin_country': ''}, {'id': 7070, 'logo_path': None, 'name': 'Davis Entertainment Classics', 'origin_country': ''}, {'id': 7071, 'logo_path': None, 'name': 'Sordid Lives LLC', 'origin_country': ''}]\n"
     ]
    }
   ],
   "source": [
    "test_prod = data.loc[365, 'production_companies']\n",
    "print('Outer: ', type(test_prod))\n",
    "print('Inner: ', type(test_prod[0]))\n",
    "print(test_prod)"
   ],
   "metadata": {
    "collapsed": false
   }
  },
  {
   "cell_type": "code",
   "execution_count": 14,
   "outputs": [
    {
     "data": {
      "text/plain": "['Daly-Harris Productions', 'Davis Entertainment Classics', 'Sordid Lives LLC']"
     },
     "execution_count": 14,
     "metadata": {},
     "output_type": "execute_result"
    }
   ],
   "source": [
    "[i['name'] for i in [k for k in test_prod]]"
   ],
   "metadata": {
    "collapsed": false
   }
  },
  {
   "cell_type": "code",
   "execution_count": 15,
   "outputs": [
    {
     "data": {
      "text/plain": "     imdb_id                adult belongs_to_collection               budget  \\\n1  tt0113026                 0.00                  None        10,000,000.00   \n2  tt0113092                 0.00                  None                 0.00   \n3  tt0116391                 0.00                  None                 0.00   \n4  tt0118694                 0.00                  None           150,000.00   \n5  tt0118852                 0.00                  None                 0.00   \n\n  original_language           popularity  \\\n1                en                 3.34   \n2                en                 2.02   \n3                hi                 0.60   \n4                cn                28.73   \n5                en                 4.52   \n\n                                production_countries release_date  \\\n1  [{'iso_3166_1': 'US', 'name': 'United States o...   2000-09-22   \n2  [{'iso_3166_1': 'US', 'name': 'United States o...   2000-11-15   \n3            [{'iso_3166_1': 'IN', 'name': 'India'}]   2000-04-14   \n4  [{'iso_3166_1': 'FR', 'name': 'France'}, {'iso...   2000-09-29   \n5  [{'iso_3166_1': 'US', 'name': 'United States o...   2000-09-02   \n\n               revenue              runtime    status                 title  \\\n1                 0.00                86.00  Released       The Fantasticks   \n2                 0.00               100.00  Released         For the Cause   \n3                 0.00               152.00  Released                  Gang   \n4        12,854,953.00                99.00  Released  In the Mood for Love   \n5                 0.00                99.00  Released        Chinese Coffee   \n\n                 video         vote_average           vote_count  \\\n1                 0.00                 5.50                22.00   \n2                 0.00                 5.10                 8.00   \n3                 0.00                 4.00                 1.00   \n4                 0.00                 8.11             2,136.00   \n5                 0.00                 6.80                49.00   \n\n  certification               list_genres  \\\n1                [Comedy, Music, Romance]   \n2                       [Science Fiction]   \n3           NaN    [Drama, Action, Crime]   \n4            PG          [Drama, Romance]   \n5             R                   [Drama]   \n\n                           list_production_companies  \n1  [Sullivan Street Productions, Michael Ritchie ...  \n2  [Dimension Films, Grand Design Entertainment, ...  \n3                                                 []  \n4  [Block 2 Pictures, Orly Films, Jet Tone Films,...  \n5               [Chal Productions, Shooting Gallery]  ",
      "text/html": "<div>\n<style scoped>\n    .dataframe tbody tr th:only-of-type {\n        vertical-align: middle;\n    }\n\n    .dataframe tbody tr th {\n        vertical-align: top;\n    }\n\n    .dataframe thead th {\n        text-align: right;\n    }\n</style>\n<table border=\"1\" class=\"dataframe\">\n  <thead>\n    <tr style=\"text-align: right;\">\n      <th></th>\n      <th>imdb_id</th>\n      <th>adult</th>\n      <th>belongs_to_collection</th>\n      <th>budget</th>\n      <th>original_language</th>\n      <th>popularity</th>\n      <th>production_countries</th>\n      <th>release_date</th>\n      <th>revenue</th>\n      <th>runtime</th>\n      <th>status</th>\n      <th>title</th>\n      <th>video</th>\n      <th>vote_average</th>\n      <th>vote_count</th>\n      <th>certification</th>\n      <th>list_genres</th>\n      <th>list_production_companies</th>\n    </tr>\n  </thead>\n  <tbody>\n    <tr>\n      <th>1</th>\n      <td>tt0113026</td>\n      <td>0.00</td>\n      <td>None</td>\n      <td>10,000,000.00</td>\n      <td>en</td>\n      <td>3.34</td>\n      <td>[{'iso_3166_1': 'US', 'name': 'United States o...</td>\n      <td>2000-09-22</td>\n      <td>0.00</td>\n      <td>86.00</td>\n      <td>Released</td>\n      <td>The Fantasticks</td>\n      <td>0.00</td>\n      <td>5.50</td>\n      <td>22.00</td>\n      <td></td>\n      <td>[Comedy, Music, Romance]</td>\n      <td>[Sullivan Street Productions, Michael Ritchie ...</td>\n    </tr>\n    <tr>\n      <th>2</th>\n      <td>tt0113092</td>\n      <td>0.00</td>\n      <td>None</td>\n      <td>0.00</td>\n      <td>en</td>\n      <td>2.02</td>\n      <td>[{'iso_3166_1': 'US', 'name': 'United States o...</td>\n      <td>2000-11-15</td>\n      <td>0.00</td>\n      <td>100.00</td>\n      <td>Released</td>\n      <td>For the Cause</td>\n      <td>0.00</td>\n      <td>5.10</td>\n      <td>8.00</td>\n      <td></td>\n      <td>[Science Fiction]</td>\n      <td>[Dimension Films, Grand Design Entertainment, ...</td>\n    </tr>\n    <tr>\n      <th>3</th>\n      <td>tt0116391</td>\n      <td>0.00</td>\n      <td>None</td>\n      <td>0.00</td>\n      <td>hi</td>\n      <td>0.60</td>\n      <td>[{'iso_3166_1': 'IN', 'name': 'India'}]</td>\n      <td>2000-04-14</td>\n      <td>0.00</td>\n      <td>152.00</td>\n      <td>Released</td>\n      <td>Gang</td>\n      <td>0.00</td>\n      <td>4.00</td>\n      <td>1.00</td>\n      <td>NaN</td>\n      <td>[Drama, Action, Crime]</td>\n      <td>[]</td>\n    </tr>\n    <tr>\n      <th>4</th>\n      <td>tt0118694</td>\n      <td>0.00</td>\n      <td>None</td>\n      <td>150,000.00</td>\n      <td>cn</td>\n      <td>28.73</td>\n      <td>[{'iso_3166_1': 'FR', 'name': 'France'}, {'iso...</td>\n      <td>2000-09-29</td>\n      <td>12,854,953.00</td>\n      <td>99.00</td>\n      <td>Released</td>\n      <td>In the Mood for Love</td>\n      <td>0.00</td>\n      <td>8.11</td>\n      <td>2,136.00</td>\n      <td>PG</td>\n      <td>[Drama, Romance]</td>\n      <td>[Block 2 Pictures, Orly Films, Jet Tone Films,...</td>\n    </tr>\n    <tr>\n      <th>5</th>\n      <td>tt0118852</td>\n      <td>0.00</td>\n      <td>None</td>\n      <td>0.00</td>\n      <td>en</td>\n      <td>4.52</td>\n      <td>[{'iso_3166_1': 'US', 'name': 'United States o...</td>\n      <td>2000-09-02</td>\n      <td>0.00</td>\n      <td>99.00</td>\n      <td>Released</td>\n      <td>Chinese Coffee</td>\n      <td>0.00</td>\n      <td>6.80</td>\n      <td>49.00</td>\n      <td>R</td>\n      <td>[Drama]</td>\n      <td>[Chal Productions, Shooting Gallery]</td>\n    </tr>\n  </tbody>\n</table>\n</div>"
     },
     "execution_count": 15,
     "metadata": {},
     "output_type": "execute_result"
    }
   ],
   "source": [
    "data = build_lists(data=data, column='production_companies', function=transform_prodc)\n",
    "data.drop(columns='production_companies', inplace=True)\n",
    "data.head()"
   ],
   "metadata": {
    "collapsed": false
   }
  },
  {
   "cell_type": "markdown",
   "source": [
    "#### Production Countries"
   ],
   "metadata": {
    "collapsed": false
   }
  },
  {
   "cell_type": "code",
   "execution_count": 16,
   "outputs": [
    {
     "name": "stdout",
     "output_type": "stream",
     "text": [
      "Outer:  <class 'list'>\n",
      "Inner:  <class 'dict'>\n",
      "[{'iso_3166_1': 'CA', 'name': 'Canada'}, {'iso_3166_1': 'US', 'name': 'United States of America'}]\n"
     ]
    }
   ],
   "source": [
    "test_prod = data.loc[25, 'production_countries']\n",
    "print('Outer: ', type(test_prod))\n",
    "print('Inner: ', type(test_prod[0]))\n",
    "print(test_prod)"
   ],
   "metadata": {
    "collapsed": false
   }
  },
  {
   "cell_type": "code",
   "execution_count": 17,
   "outputs": [
    {
     "data": {
      "text/plain": "['Canada', 'United States of America']"
     },
     "execution_count": 17,
     "metadata": {},
     "output_type": "execute_result"
    }
   ],
   "source": [
    "[i['name'] for i in [k for k in test_prod]]"
   ],
   "metadata": {
    "collapsed": false
   }
  },
  {
   "cell_type": "code",
   "execution_count": 18,
   "outputs": [
    {
     "data": {
      "text/plain": "     imdb_id                adult belongs_to_collection               budget  \\\n1  tt0113026                 0.00                  None        10,000,000.00   \n2  tt0113092                 0.00                  None                 0.00   \n3  tt0116391                 0.00                  None                 0.00   \n4  tt0118694                 0.00                  None           150,000.00   \n5  tt0118852                 0.00                  None                 0.00   \n\n  original_language           popularity release_date              revenue  \\\n1                en                 3.34   2000-09-22                 0.00   \n2                en                 2.02   2000-11-15                 0.00   \n3                hi                 0.60   2000-04-14                 0.00   \n4                cn                28.73   2000-09-29        12,854,953.00   \n5                en                 4.52   2000-09-02                 0.00   \n\n               runtime    status                 title                video  \\\n1                86.00  Released       The Fantasticks                 0.00   \n2               100.00  Released         For the Cause                 0.00   \n3               152.00  Released                  Gang                 0.00   \n4                99.00  Released  In the Mood for Love                 0.00   \n5                99.00  Released        Chinese Coffee                 0.00   \n\n          vote_average           vote_count certification  \\\n1                 5.50                22.00                 \n2                 5.10                 8.00                 \n3                 4.00                 1.00           NaN   \n4                 8.11             2,136.00            PG   \n5                 6.80                49.00             R   \n\n                list_genres  \\\n1  [Comedy, Music, Romance]   \n2         [Science Fiction]   \n3    [Drama, Action, Crime]   \n4          [Drama, Romance]   \n5                   [Drama]   \n\n                           list_production_companies  \\\n1  [Sullivan Street Productions, Michael Ritchie ...   \n2  [Dimension Films, Grand Design Entertainment, ...   \n3                                                 []   \n4  [Block 2 Pictures, Orly Films, Jet Tone Films,...   \n5               [Chal Productions, Shooting Gallery]   \n\n          list_production_countries  \n1        [United States of America]  \n2        [United States of America]  \n3                           [India]  \n4  [France, Hong Kong, Netherlands]  \n5        [United States of America]  ",
      "text/html": "<div>\n<style scoped>\n    .dataframe tbody tr th:only-of-type {\n        vertical-align: middle;\n    }\n\n    .dataframe tbody tr th {\n        vertical-align: top;\n    }\n\n    .dataframe thead th {\n        text-align: right;\n    }\n</style>\n<table border=\"1\" class=\"dataframe\">\n  <thead>\n    <tr style=\"text-align: right;\">\n      <th></th>\n      <th>imdb_id</th>\n      <th>adult</th>\n      <th>belongs_to_collection</th>\n      <th>budget</th>\n      <th>original_language</th>\n      <th>popularity</th>\n      <th>release_date</th>\n      <th>revenue</th>\n      <th>runtime</th>\n      <th>status</th>\n      <th>title</th>\n      <th>video</th>\n      <th>vote_average</th>\n      <th>vote_count</th>\n      <th>certification</th>\n      <th>list_genres</th>\n      <th>list_production_companies</th>\n      <th>list_production_countries</th>\n    </tr>\n  </thead>\n  <tbody>\n    <tr>\n      <th>1</th>\n      <td>tt0113026</td>\n      <td>0.00</td>\n      <td>None</td>\n      <td>10,000,000.00</td>\n      <td>en</td>\n      <td>3.34</td>\n      <td>2000-09-22</td>\n      <td>0.00</td>\n      <td>86.00</td>\n      <td>Released</td>\n      <td>The Fantasticks</td>\n      <td>0.00</td>\n      <td>5.50</td>\n      <td>22.00</td>\n      <td></td>\n      <td>[Comedy, Music, Romance]</td>\n      <td>[Sullivan Street Productions, Michael Ritchie ...</td>\n      <td>[United States of America]</td>\n    </tr>\n    <tr>\n      <th>2</th>\n      <td>tt0113092</td>\n      <td>0.00</td>\n      <td>None</td>\n      <td>0.00</td>\n      <td>en</td>\n      <td>2.02</td>\n      <td>2000-11-15</td>\n      <td>0.00</td>\n      <td>100.00</td>\n      <td>Released</td>\n      <td>For the Cause</td>\n      <td>0.00</td>\n      <td>5.10</td>\n      <td>8.00</td>\n      <td></td>\n      <td>[Science Fiction]</td>\n      <td>[Dimension Films, Grand Design Entertainment, ...</td>\n      <td>[United States of America]</td>\n    </tr>\n    <tr>\n      <th>3</th>\n      <td>tt0116391</td>\n      <td>0.00</td>\n      <td>None</td>\n      <td>0.00</td>\n      <td>hi</td>\n      <td>0.60</td>\n      <td>2000-04-14</td>\n      <td>0.00</td>\n      <td>152.00</td>\n      <td>Released</td>\n      <td>Gang</td>\n      <td>0.00</td>\n      <td>4.00</td>\n      <td>1.00</td>\n      <td>NaN</td>\n      <td>[Drama, Action, Crime]</td>\n      <td>[]</td>\n      <td>[India]</td>\n    </tr>\n    <tr>\n      <th>4</th>\n      <td>tt0118694</td>\n      <td>0.00</td>\n      <td>None</td>\n      <td>150,000.00</td>\n      <td>cn</td>\n      <td>28.73</td>\n      <td>2000-09-29</td>\n      <td>12,854,953.00</td>\n      <td>99.00</td>\n      <td>Released</td>\n      <td>In the Mood for Love</td>\n      <td>0.00</td>\n      <td>8.11</td>\n      <td>2,136.00</td>\n      <td>PG</td>\n      <td>[Drama, Romance]</td>\n      <td>[Block 2 Pictures, Orly Films, Jet Tone Films,...</td>\n      <td>[France, Hong Kong, Netherlands]</td>\n    </tr>\n    <tr>\n      <th>5</th>\n      <td>tt0118852</td>\n      <td>0.00</td>\n      <td>None</td>\n      <td>0.00</td>\n      <td>en</td>\n      <td>4.52</td>\n      <td>2000-09-02</td>\n      <td>0.00</td>\n      <td>99.00</td>\n      <td>Released</td>\n      <td>Chinese Coffee</td>\n      <td>0.00</td>\n      <td>6.80</td>\n      <td>49.00</td>\n      <td>R</td>\n      <td>[Drama]</td>\n      <td>[Chal Productions, Shooting Gallery]</td>\n      <td>[United States of America]</td>\n    </tr>\n  </tbody>\n</table>\n</div>"
     },
     "execution_count": 18,
     "metadata": {},
     "output_type": "execute_result"
    }
   ],
   "source": [
    "data = build_lists(data=data, column='production_countries', function=transform_prodc)\n",
    "data.drop(columns='production_countries', inplace=True)\n",
    "data.head()"
   ],
   "metadata": {
    "collapsed": false
   }
  },
  {
   "cell_type": "markdown",
   "source": [
    "### Export Data"
   ],
   "metadata": {
    "collapsed": false
   }
  },
  {
   "cell_type": "code",
   "execution_count": 19,
   "outputs": [],
   "source": [
    "data.to_csv(f'data/mod/{YEAR}.csv.gz', compression='gzip', index=False)"
   ],
   "metadata": {
    "collapsed": false
   }
  },
  {
   "cell_type": "markdown",
   "source": [
    "## Exploratory Data Analysis"
   ],
   "metadata": {
    "collapsed": false
   }
  },
  {
   "cell_type": "markdown",
   "source": [
    "### Return movies with budget or revenue greater than 0"
   ],
   "metadata": {
    "collapsed": false
   }
  },
  {
   "cell_type": "code",
   "execution_count": 20,
   "outputs": [
    {
     "name": "stdout",
     "output_type": "stream",
     "text": [
      "Number of Instances: 293\n"
     ]
    }
   ],
   "source": [
    "filter = (data['budget'] > 0) | (data['revenue'] > 0)\n",
    "\n",
    "print(f'Number of Instances: {len(data[filter])}')"
   ],
   "metadata": {
    "collapsed": false
   }
  },
  {
   "cell_type": "markdown",
   "source": [
    "There are 293 instances that hace budget or revenue greater than 0 in the year 2000. Ok Let's save it."
   ],
   "metadata": {
    "collapsed": false
   }
  },
  {
   "cell_type": "code",
   "execution_count": 21,
   "outputs": [],
   "source": [
    "data_budget = data[filter].copy()"
   ],
   "metadata": {
    "collapsed": false
   }
  },
  {
   "cell_type": "markdown",
   "source": [
    "### Movies per certification categories (G/PG/PG-13/R)"
   ],
   "metadata": {
    "collapsed": false
   }
  },
  {
   "cell_type": "code",
   "execution_count": 22,
   "outputs": [
    {
     "data": {
      "text/plain": "               imdb_id\ncertification         \nR                  105\nPG-13               61\n                    51\nPG                  17\nNR                  10\nG                    8",
      "text/html": "<div>\n<style scoped>\n    .dataframe tbody tr th:only-of-type {\n        vertical-align: middle;\n    }\n\n    .dataframe tbody tr th {\n        vertical-align: top;\n    }\n\n    .dataframe thead th {\n        text-align: right;\n    }\n</style>\n<table border=\"1\" class=\"dataframe\">\n  <thead>\n    <tr style=\"text-align: right;\">\n      <th></th>\n      <th>imdb_id</th>\n    </tr>\n    <tr>\n      <th>certification</th>\n      <th></th>\n    </tr>\n  </thead>\n  <tbody>\n    <tr>\n      <th>R</th>\n      <td>105</td>\n    </tr>\n    <tr>\n      <th>PG-13</th>\n      <td>61</td>\n    </tr>\n    <tr>\n      <th></th>\n      <td>51</td>\n    </tr>\n    <tr>\n      <th>PG</th>\n      <td>17</td>\n    </tr>\n    <tr>\n      <th>NR</th>\n      <td>10</td>\n    </tr>\n    <tr>\n      <th>G</th>\n      <td>8</td>\n    </tr>\n  </tbody>\n</table>\n</div>"
     },
     "execution_count": 22,
     "metadata": {},
     "output_type": "execute_result"
    }
   ],
   "source": [
    "data_budget[['certification', 'imdb_id']].groupby(by='certification').count().sort_values(by='imdb_id',ascending=False)"
   ],
   "metadata": {
    "collapsed": false
   }
  },
  {
   "cell_type": "markdown",
   "source": [
    "Rated-R movies are by far the ones that most produced in the year 2000"
   ],
   "metadata": {
    "collapsed": false
   }
  },
  {
   "cell_type": "markdown",
   "source": [
    "### Revenue per certification category"
   ],
   "metadata": {
    "collapsed": false
   }
  },
  {
   "cell_type": "code",
   "execution_count": 23,
   "outputs": [
    {
     "data": {
      "text/plain": "                           revenue\ncertification                     \nG                   105,343,104.38\nPG-13               102,032,591.39\nPG                   81,166,934.00\nR                    31,639,905.50\n                     13,370,304.80\nNR                   10,169,454.00",
      "text/html": "<div>\n<style scoped>\n    .dataframe tbody tr th:only-of-type {\n        vertical-align: middle;\n    }\n\n    .dataframe tbody tr th {\n        vertical-align: top;\n    }\n\n    .dataframe thead th {\n        text-align: right;\n    }\n</style>\n<table border=\"1\" class=\"dataframe\">\n  <thead>\n    <tr style=\"text-align: right;\">\n      <th></th>\n      <th>revenue</th>\n    </tr>\n    <tr>\n      <th>certification</th>\n      <th></th>\n    </tr>\n  </thead>\n  <tbody>\n    <tr>\n      <th>G</th>\n      <td>105,343,104.38</td>\n    </tr>\n    <tr>\n      <th>PG-13</th>\n      <td>102,032,591.39</td>\n    </tr>\n    <tr>\n      <th>PG</th>\n      <td>81,166,934.00</td>\n    </tr>\n    <tr>\n      <th>R</th>\n      <td>31,639,905.50</td>\n    </tr>\n    <tr>\n      <th></th>\n      <td>13,370,304.80</td>\n    </tr>\n    <tr>\n      <th>NR</th>\n      <td>10,169,454.00</td>\n    </tr>\n  </tbody>\n</table>\n</div>"
     },
     "execution_count": 23,
     "metadata": {},
     "output_type": "execute_result"
    }
   ],
   "source": [
    "data_budget[['certification', 'revenue']].groupby(by='certification').mean().sort_values(by='revenue',ascending=False)"
   ],
   "metadata": {
    "collapsed": false
   }
  },
  {
   "cell_type": "markdown",
   "source": [
    "### Average budget per certification category"
   ],
   "metadata": {
    "collapsed": false
   }
  },
  {
   "cell_type": "code",
   "execution_count": 24,
   "outputs": [
    {
     "data": {
      "text/plain": "                            budget\ncertification                     \nPG                   48,141,176.71\nPG-13                45,668,032.79\nG                    45,000,000.00\nR                    19,025,095.24\nNR                    9,034,009.40\n                      5,091,799.29",
      "text/html": "<div>\n<style scoped>\n    .dataframe tbody tr th:only-of-type {\n        vertical-align: middle;\n    }\n\n    .dataframe tbody tr th {\n        vertical-align: top;\n    }\n\n    .dataframe thead th {\n        text-align: right;\n    }\n</style>\n<table border=\"1\" class=\"dataframe\">\n  <thead>\n    <tr style=\"text-align: right;\">\n      <th></th>\n      <th>budget</th>\n    </tr>\n    <tr>\n      <th>certification</th>\n      <th></th>\n    </tr>\n  </thead>\n  <tbody>\n    <tr>\n      <th>PG</th>\n      <td>48,141,176.71</td>\n    </tr>\n    <tr>\n      <th>PG-13</th>\n      <td>45,668,032.79</td>\n    </tr>\n    <tr>\n      <th>G</th>\n      <td>45,000,000.00</td>\n    </tr>\n    <tr>\n      <th>R</th>\n      <td>19,025,095.24</td>\n    </tr>\n    <tr>\n      <th>NR</th>\n      <td>9,034,009.40</td>\n    </tr>\n    <tr>\n      <th></th>\n      <td>5,091,799.29</td>\n    </tr>\n  </tbody>\n</table>\n</div>"
     },
     "execution_count": 24,
     "metadata": {},
     "output_type": "execute_result"
    }
   ],
   "source": [
    "data_budget[['certification', 'budget']].groupby(by='certification').mean().sort_values(by='budget',ascending=False)\n"
   ],
   "metadata": {
    "collapsed": false
   }
  },
  {
   "cell_type": "code",
   "execution_count": 24,
   "outputs": [],
   "source": [],
   "metadata": {
    "collapsed": false
   }
  }
 ],
 "metadata": {
  "kernelspec": {
   "name": "dojo-env",
   "language": "python",
   "display_name": "Python (dojo-env)"
  },
  "language_info": {
   "codemirror_mode": {
    "name": "ipython",
    "version": 2
   },
   "file_extension": ".py",
   "mimetype": "text/x-python",
   "name": "python",
   "nbconvert_exporter": "python",
   "pygments_lexer": "ipython2",
   "version": "2.7.6"
  }
 },
 "nbformat": 4,
 "nbformat_minor": 0
}
